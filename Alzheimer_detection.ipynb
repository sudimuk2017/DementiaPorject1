{
 "cells": [
  {
   "cell_type": "code",
   "execution_count": 2,
   "id": "59ea8338",
   "metadata": {},
   "outputs": [],
   "source": [
    "import pandas as pd\n",
    "import numpy as np\n",
    "from pyforest import *\n",
    "from sklearn.model_selection import cross_val_score, cross_val_predict, cross_validate"
   ]
  },
  {
   "cell_type": "code",
   "execution_count": 3,
   "id": "95d45b9d",
   "metadata": {},
   "outputs": [
    {
     "data": {
      "application/javascript": [
       "\n",
       "        if (window._pyforest_update_imports_cell) { window._pyforest_update_imports_cell('import pandas as pd'); }\n",
       "    "
      ],
      "text/plain": [
       "<IPython.core.display.Javascript object>"
      ]
     },
     "metadata": {},
     "output_type": "display_data"
    }
   ],
   "source": [
    "data = pd.read_csv('alzheimer.csv')"
   ]
  },
  {
   "cell_type": "code",
   "execution_count": 4,
   "id": "4baa3179",
   "metadata": {},
   "outputs": [],
   "source": [
    "df_copy =data.copy()"
   ]
  },
  {
   "cell_type": "code",
   "execution_count": 5,
   "id": "03321aba",
   "metadata": {},
   "outputs": [
    {
     "data": {
      "text/plain": [
       "(373, 10)"
      ]
     },
     "execution_count": 5,
     "metadata": {},
     "output_type": "execute_result"
    }
   ],
   "source": [
    "data.shape"
   ]
  },
  {
   "cell_type": "code",
   "execution_count": 6,
   "id": "5170e919",
   "metadata": {
    "scrolled": true
   },
   "outputs": [
    {
     "data": {
      "text/html": [
       "<div>\n",
       "<style scoped>\n",
       "    .dataframe tbody tr th:only-of-type {\n",
       "        vertical-align: middle;\n",
       "    }\n",
       "\n",
       "    .dataframe tbody tr th {\n",
       "        vertical-align: top;\n",
       "    }\n",
       "\n",
       "    .dataframe thead th {\n",
       "        text-align: right;\n",
       "    }\n",
       "</style>\n",
       "<table border=\"1\" class=\"dataframe\">\n",
       "  <thead>\n",
       "    <tr style=\"text-align: right;\">\n",
       "      <th></th>\n",
       "      <th>Group</th>\n",
       "      <th>M/F</th>\n",
       "      <th>Age</th>\n",
       "      <th>EDUC</th>\n",
       "      <th>SES</th>\n",
       "      <th>MMSE</th>\n",
       "      <th>CDR</th>\n",
       "      <th>eTIV</th>\n",
       "      <th>nWBV</th>\n",
       "      <th>ASF</th>\n",
       "    </tr>\n",
       "  </thead>\n",
       "  <tbody>\n",
       "    <tr>\n",
       "      <th>0</th>\n",
       "      <td>Nondemented</td>\n",
       "      <td>M</td>\n",
       "      <td>87</td>\n",
       "      <td>14</td>\n",
       "      <td>2.0</td>\n",
       "      <td>27.0</td>\n",
       "      <td>0.0</td>\n",
       "      <td>1987</td>\n",
       "      <td>0.696</td>\n",
       "      <td>0.883</td>\n",
       "    </tr>\n",
       "    <tr>\n",
       "      <th>1</th>\n",
       "      <td>Nondemented</td>\n",
       "      <td>M</td>\n",
       "      <td>88</td>\n",
       "      <td>14</td>\n",
       "      <td>2.0</td>\n",
       "      <td>30.0</td>\n",
       "      <td>0.0</td>\n",
       "      <td>2004</td>\n",
       "      <td>0.681</td>\n",
       "      <td>0.876</td>\n",
       "    </tr>\n",
       "    <tr>\n",
       "      <th>2</th>\n",
       "      <td>Demented</td>\n",
       "      <td>M</td>\n",
       "      <td>75</td>\n",
       "      <td>12</td>\n",
       "      <td>NaN</td>\n",
       "      <td>23.0</td>\n",
       "      <td>0.5</td>\n",
       "      <td>1678</td>\n",
       "      <td>0.736</td>\n",
       "      <td>1.046</td>\n",
       "    </tr>\n",
       "    <tr>\n",
       "      <th>3</th>\n",
       "      <td>Demented</td>\n",
       "      <td>M</td>\n",
       "      <td>76</td>\n",
       "      <td>12</td>\n",
       "      <td>NaN</td>\n",
       "      <td>28.0</td>\n",
       "      <td>0.5</td>\n",
       "      <td>1738</td>\n",
       "      <td>0.713</td>\n",
       "      <td>1.010</td>\n",
       "    </tr>\n",
       "    <tr>\n",
       "      <th>4</th>\n",
       "      <td>Demented</td>\n",
       "      <td>M</td>\n",
       "      <td>80</td>\n",
       "      <td>12</td>\n",
       "      <td>NaN</td>\n",
       "      <td>22.0</td>\n",
       "      <td>0.5</td>\n",
       "      <td>1698</td>\n",
       "      <td>0.701</td>\n",
       "      <td>1.034</td>\n",
       "    </tr>\n",
       "  </tbody>\n",
       "</table>\n",
       "</div>"
      ],
      "text/plain": [
       "         Group M/F  Age  EDUC  SES  MMSE  CDR  eTIV   nWBV    ASF\n",
       "0  Nondemented   M   87    14  2.0  27.0  0.0  1987  0.696  0.883\n",
       "1  Nondemented   M   88    14  2.0  30.0  0.0  2004  0.681  0.876\n",
       "2     Demented   M   75    12  NaN  23.0  0.5  1678  0.736  1.046\n",
       "3     Demented   M   76    12  NaN  28.0  0.5  1738  0.713  1.010\n",
       "4     Demented   M   80    12  NaN  22.0  0.5  1698  0.701  1.034"
      ]
     },
     "execution_count": 6,
     "metadata": {},
     "output_type": "execute_result"
    }
   ],
   "source": [
    "data.head()"
   ]
  },
  {
   "cell_type": "code",
   "execution_count": 7,
   "id": "be44471e",
   "metadata": {},
   "outputs": [
    {
     "data": {
      "text/plain": [
       "Group\n",
       "Converted       37\n",
       "Demented       146\n",
       "Nondemented    190\n",
       "dtype: int64"
      ]
     },
     "execution_count": 7,
     "metadata": {},
     "output_type": "execute_result"
    }
   ],
   "source": [
    "data.groupby(['Group']).size()"
   ]
  },
  {
   "cell_type": "code",
   "execution_count": 8,
   "id": "d799ae26",
   "metadata": {},
   "outputs": [
    {
     "data": {
      "text/html": [
       "<div>\n",
       "<style scoped>\n",
       "    .dataframe tbody tr th:only-of-type {\n",
       "        vertical-align: middle;\n",
       "    }\n",
       "\n",
       "    .dataframe tbody tr th {\n",
       "        vertical-align: top;\n",
       "    }\n",
       "\n",
       "    .dataframe thead th {\n",
       "        text-align: right;\n",
       "    }\n",
       "</style>\n",
       "<table border=\"1\" class=\"dataframe\">\n",
       "  <thead>\n",
       "    <tr style=\"text-align: right;\">\n",
       "      <th></th>\n",
       "      <th>Age</th>\n",
       "      <th>EDUC</th>\n",
       "      <th>eTIV</th>\n",
       "    </tr>\n",
       "  </thead>\n",
       "  <tbody>\n",
       "    <tr>\n",
       "      <th>0</th>\n",
       "      <td>87</td>\n",
       "      <td>14</td>\n",
       "      <td>1987</td>\n",
       "    </tr>\n",
       "    <tr>\n",
       "      <th>1</th>\n",
       "      <td>88</td>\n",
       "      <td>14</td>\n",
       "      <td>2004</td>\n",
       "    </tr>\n",
       "    <tr>\n",
       "      <th>2</th>\n",
       "      <td>75</td>\n",
       "      <td>12</td>\n",
       "      <td>1678</td>\n",
       "    </tr>\n",
       "    <tr>\n",
       "      <th>3</th>\n",
       "      <td>76</td>\n",
       "      <td>12</td>\n",
       "      <td>1738</td>\n",
       "    </tr>\n",
       "    <tr>\n",
       "      <th>4</th>\n",
       "      <td>80</td>\n",
       "      <td>12</td>\n",
       "      <td>1698</td>\n",
       "    </tr>\n",
       "    <tr>\n",
       "      <th>...</th>\n",
       "      <td>...</td>\n",
       "      <td>...</td>\n",
       "      <td>...</td>\n",
       "    </tr>\n",
       "    <tr>\n",
       "      <th>368</th>\n",
       "      <td>82</td>\n",
       "      <td>16</td>\n",
       "      <td>1693</td>\n",
       "    </tr>\n",
       "    <tr>\n",
       "      <th>369</th>\n",
       "      <td>86</td>\n",
       "      <td>16</td>\n",
       "      <td>1688</td>\n",
       "    </tr>\n",
       "    <tr>\n",
       "      <th>370</th>\n",
       "      <td>61</td>\n",
       "      <td>13</td>\n",
       "      <td>1319</td>\n",
       "    </tr>\n",
       "    <tr>\n",
       "      <th>371</th>\n",
       "      <td>63</td>\n",
       "      <td>13</td>\n",
       "      <td>1327</td>\n",
       "    </tr>\n",
       "    <tr>\n",
       "      <th>372</th>\n",
       "      <td>65</td>\n",
       "      <td>13</td>\n",
       "      <td>1333</td>\n",
       "    </tr>\n",
       "  </tbody>\n",
       "</table>\n",
       "<p>373 rows × 3 columns</p>\n",
       "</div>"
      ],
      "text/plain": [
       "     Age  EDUC  eTIV\n",
       "0     87    14  1987\n",
       "1     88    14  2004\n",
       "2     75    12  1678\n",
       "3     76    12  1738\n",
       "4     80    12  1698\n",
       "..   ...   ...   ...\n",
       "368   82    16  1693\n",
       "369   86    16  1688\n",
       "370   61    13  1319\n",
       "371   63    13  1327\n",
       "372   65    13  1333\n",
       "\n",
       "[373 rows x 3 columns]"
      ]
     },
     "execution_count": 8,
     "metadata": {},
     "output_type": "execute_result"
    }
   ],
   "source": [
    "data.select_dtypes('int64')"
   ]
  },
  {
   "cell_type": "code",
   "execution_count": 9,
   "id": "b66f4bc5",
   "metadata": {},
   "outputs": [
    {
     "name": "stdout",
     "output_type": "stream",
     "text": [
      "<class 'pandas.core.frame.DataFrame'>\n",
      "RangeIndex: 373 entries, 0 to 372\n",
      "Data columns (total 10 columns):\n",
      " #   Column  Non-Null Count  Dtype  \n",
      "---  ------  --------------  -----  \n",
      " 0   Group   373 non-null    object \n",
      " 1   M/F     373 non-null    object \n",
      " 2   Age     373 non-null    int64  \n",
      " 3   EDUC    373 non-null    int64  \n",
      " 4   SES     354 non-null    float64\n",
      " 5   MMSE    371 non-null    float64\n",
      " 6   CDR     373 non-null    float64\n",
      " 7   eTIV    373 non-null    int64  \n",
      " 8   nWBV    373 non-null    float64\n",
      " 9   ASF     373 non-null    float64\n",
      "dtypes: float64(5), int64(3), object(2)\n",
      "memory usage: 29.3+ KB\n"
     ]
    }
   ],
   "source": [
    "data.info()"
   ]
  },
  {
   "cell_type": "code",
   "execution_count": 10,
   "id": "7873eeef",
   "metadata": {},
   "outputs": [
    {
     "data": {
      "text/plain": [
       "Group     0\n",
       "M/F       0\n",
       "Age       0\n",
       "EDUC      0\n",
       "SES      19\n",
       "MMSE      2\n",
       "CDR       0\n",
       "eTIV      0\n",
       "nWBV      0\n",
       "ASF       0\n",
       "dtype: int64"
      ]
     },
     "execution_count": 10,
     "metadata": {},
     "output_type": "execute_result"
    }
   ],
   "source": [
    "data.isnull().sum()"
   ]
  },
  {
   "cell_type": "code",
   "execution_count": 11,
   "id": "a32cad1c",
   "metadata": {},
   "outputs": [],
   "source": [
    "group = data['Group'].unique()"
   ]
  },
  {
   "cell_type": "code",
   "execution_count": 12,
   "id": "44c0f594",
   "metadata": {},
   "outputs": [],
   "source": [
    "from sklearn.preprocessing import LabelEncoder, OneHotEncoder"
   ]
  },
  {
   "cell_type": "code",
   "execution_count": 13,
   "id": "7c71b225",
   "metadata": {},
   "outputs": [],
   "source": [
    "le = LabelEncoder()\n",
    "#for each in data['Group'].unique():\n",
    "data['Group'] = le.fit_transform(data.Group)"
   ]
  },
  {
   "cell_type": "code",
   "execution_count": 14,
   "id": "0fc81447",
   "metadata": {},
   "outputs": [
    {
     "data": {
      "text/plain": [
       "array([2, 1, 0])"
      ]
     },
     "execution_count": 14,
     "metadata": {},
     "output_type": "execute_result"
    }
   ],
   "source": [
    "data.Group.unique()"
   ]
  },
  {
   "cell_type": "code",
   "execution_count": 15,
   "id": "af651e7c",
   "metadata": {},
   "outputs": [
    {
     "data": {
      "text/plain": [
       "[('Nondemented', 2), ('Demented', 1), ('Converted', 0)]"
      ]
     },
     "execution_count": 15,
     "metadata": {},
     "output_type": "execute_result"
    }
   ],
   "source": [
    "list(zip(group, data.Group.unique()))"
   ]
  },
  {
   "cell_type": "code",
   "execution_count": 16,
   "id": "09648f3e",
   "metadata": {},
   "outputs": [],
   "source": [
    "data['M/F'] = le.fit_transform(data['M/F'])"
   ]
  },
  {
   "cell_type": "code",
   "execution_count": 17,
   "id": "7214dc61",
   "metadata": {},
   "outputs": [
    {
     "data": {
      "text/plain": [
       "[('M', 1), ('F', 0)]"
      ]
     },
     "execution_count": 17,
     "metadata": {},
     "output_type": "execute_result"
    }
   ],
   "source": [
    "list(zip(df_copy['M/F'].unique(), data['M/F'].unique()))"
   ]
  },
  {
   "cell_type": "code",
   "execution_count": 18,
   "id": "b5b16d11",
   "metadata": {
    "scrolled": true
   },
   "outputs": [
    {
     "name": "stdout",
     "output_type": "stream",
     "text": [
      "Group     0\n",
      "M/F       0\n",
      "Age       0\n",
      "EDUC      0\n",
      "SES      19\n",
      "MMSE      2\n",
      "CDR       0\n",
      "eTIV      0\n",
      "nWBV      0\n",
      "ASF       0\n",
      "dtype: int64\n"
     ]
    }
   ],
   "source": [
    "data.dtypes\n",
    "print (data.isna().sum())"
   ]
  },
  {
   "cell_type": "code",
   "execution_count": 19,
   "id": "dbdd713c",
   "metadata": {},
   "outputs": [],
   "source": [
    "#from sklearn.impute import SimpleImputer\n",
    "#imp = SimpleImputer(strategy='mean')\n",
    "data['SES'] = data.SES.fillna(data['SES'].mean())\n",
    "data['MMSE'] = data.MMSE.fillna(data['MMSE'].mean())"
   ]
  },
  {
   "cell_type": "code",
   "execution_count": 20,
   "id": "9e3de924",
   "metadata": {},
   "outputs": [
    {
     "name": "stdout",
     "output_type": "stream",
     "text": [
      "Group    0\n",
      "M/F      0\n",
      "Age      0\n",
      "EDUC     0\n",
      "SES      0\n",
      "MMSE     0\n",
      "CDR      0\n",
      "eTIV     0\n",
      "nWBV     0\n",
      "ASF      0\n",
      "dtype: int64\n"
     ]
    }
   ],
   "source": [
    "print (data.isna().sum())"
   ]
  },
  {
   "cell_type": "code",
   "execution_count": 21,
   "id": "099d337f",
   "metadata": {},
   "outputs": [
    {
     "name": "stdout",
     "output_type": "stream",
     "text": [
      "<class 'pandas.core.frame.DataFrame'>\n",
      "RangeIndex: 373 entries, 0 to 372\n",
      "Data columns (total 10 columns):\n",
      " #   Column  Non-Null Count  Dtype  \n",
      "---  ------  --------------  -----  \n",
      " 0   Group   373 non-null    int32  \n",
      " 1   M/F     373 non-null    int32  \n",
      " 2   Age     373 non-null    int64  \n",
      " 3   EDUC    373 non-null    int64  \n",
      " 4   SES     373 non-null    float64\n",
      " 5   MMSE    373 non-null    float64\n",
      " 6   CDR     373 non-null    float64\n",
      " 7   eTIV    373 non-null    int64  \n",
      " 8   nWBV    373 non-null    float64\n",
      " 9   ASF     373 non-null    float64\n",
      "dtypes: float64(5), int32(2), int64(3)\n",
      "memory usage: 26.4 KB\n"
     ]
    }
   ],
   "source": [
    "data.info()"
   ]
  },
  {
   "cell_type": "code",
   "execution_count": 22,
   "id": "53a85d40",
   "metadata": {},
   "outputs": [
    {
     "data": {
      "text/html": [
       "<div>\n",
       "<style scoped>\n",
       "    .dataframe tbody tr th:only-of-type {\n",
       "        vertical-align: middle;\n",
       "    }\n",
       "\n",
       "    .dataframe tbody tr th {\n",
       "        vertical-align: top;\n",
       "    }\n",
       "\n",
       "    .dataframe thead th {\n",
       "        text-align: right;\n",
       "    }\n",
       "</style>\n",
       "<table border=\"1\" class=\"dataframe\">\n",
       "  <thead>\n",
       "    <tr style=\"text-align: right;\">\n",
       "      <th></th>\n",
       "      <th>Group</th>\n",
       "      <th>M/F</th>\n",
       "      <th>Age</th>\n",
       "      <th>EDUC</th>\n",
       "      <th>SES</th>\n",
       "      <th>MMSE</th>\n",
       "      <th>CDR</th>\n",
       "      <th>eTIV</th>\n",
       "      <th>nWBV</th>\n",
       "      <th>ASF</th>\n",
       "    </tr>\n",
       "  </thead>\n",
       "  <tbody>\n",
       "    <tr>\n",
       "      <th>Group</th>\n",
       "      <td>1.000000</td>\n",
       "      <td>-0.143918</td>\n",
       "      <td>-0.049267</td>\n",
       "      <td>0.100606</td>\n",
       "      <td>0.053290</td>\n",
       "      <td>0.339906</td>\n",
       "      <td>-0.572518</td>\n",
       "      <td>0.056693</td>\n",
       "      <td>0.258093</td>\n",
       "      <td>-0.042848</td>\n",
       "    </tr>\n",
       "    <tr>\n",
       "      <th>M/F</th>\n",
       "      <td>-0.143918</td>\n",
       "      <td>1.000000</td>\n",
       "      <td>-0.037726</td>\n",
       "      <td>0.089279</td>\n",
       "      <td>-0.044525</td>\n",
       "      <td>-0.166521</td>\n",
       "      <td>0.202140</td>\n",
       "      <td>0.572549</td>\n",
       "      <td>-0.249618</td>\n",
       "      <td>-0.561647</td>\n",
       "    </tr>\n",
       "    <tr>\n",
       "      <th>Age</th>\n",
       "      <td>-0.049267</td>\n",
       "      <td>-0.037726</td>\n",
       "      <td>1.000000</td>\n",
       "      <td>-0.027886</td>\n",
       "      <td>-0.046665</td>\n",
       "      <td>0.055607</td>\n",
       "      <td>-0.026257</td>\n",
       "      <td>0.042348</td>\n",
       "      <td>-0.518359</td>\n",
       "      <td>-0.035067</td>\n",
       "    </tr>\n",
       "    <tr>\n",
       "      <th>EDUC</th>\n",
       "      <td>0.100606</td>\n",
       "      <td>0.089279</td>\n",
       "      <td>-0.027886</td>\n",
       "      <td>1.000000</td>\n",
       "      <td>-0.708680</td>\n",
       "      <td>0.194454</td>\n",
       "      <td>-0.153121</td>\n",
       "      <td>0.257015</td>\n",
       "      <td>-0.012200</td>\n",
       "      <td>-0.241752</td>\n",
       "    </tr>\n",
       "    <tr>\n",
       "      <th>SES</th>\n",
       "      <td>0.053290</td>\n",
       "      <td>-0.044525</td>\n",
       "      <td>-0.046665</td>\n",
       "      <td>-0.708680</td>\n",
       "      <td>1.000000</td>\n",
       "      <td>-0.146913</td>\n",
       "      <td>0.073393</td>\n",
       "      <td>-0.254271</td>\n",
       "      <td>0.089436</td>\n",
       "      <td>0.246673</td>\n",
       "    </tr>\n",
       "    <tr>\n",
       "      <th>MMSE</th>\n",
       "      <td>0.339906</td>\n",
       "      <td>-0.166521</td>\n",
       "      <td>0.055607</td>\n",
       "      <td>0.194454</td>\n",
       "      <td>-0.146913</td>\n",
       "      <td>1.000000</td>\n",
       "      <td>-0.679837</td>\n",
       "      <td>-0.031789</td>\n",
       "      <td>0.341857</td>\n",
       "      <td>0.039494</td>\n",
       "    </tr>\n",
       "    <tr>\n",
       "      <th>CDR</th>\n",
       "      <td>-0.572518</td>\n",
       "      <td>0.202140</td>\n",
       "      <td>-0.026257</td>\n",
       "      <td>-0.153121</td>\n",
       "      <td>0.073393</td>\n",
       "      <td>-0.679837</td>\n",
       "      <td>1.000000</td>\n",
       "      <td>0.022819</td>\n",
       "      <td>-0.344819</td>\n",
       "      <td>-0.029340</td>\n",
       "    </tr>\n",
       "    <tr>\n",
       "      <th>eTIV</th>\n",
       "      <td>0.056693</td>\n",
       "      <td>0.572549</td>\n",
       "      <td>0.042348</td>\n",
       "      <td>0.257015</td>\n",
       "      <td>-0.254271</td>\n",
       "      <td>-0.031789</td>\n",
       "      <td>0.022819</td>\n",
       "      <td>1.000000</td>\n",
       "      <td>-0.210122</td>\n",
       "      <td>-0.988877</td>\n",
       "    </tr>\n",
       "    <tr>\n",
       "      <th>nWBV</th>\n",
       "      <td>0.258093</td>\n",
       "      <td>-0.249618</td>\n",
       "      <td>-0.518359</td>\n",
       "      <td>-0.012200</td>\n",
       "      <td>0.089436</td>\n",
       "      <td>0.341857</td>\n",
       "      <td>-0.344819</td>\n",
       "      <td>-0.210122</td>\n",
       "      <td>1.000000</td>\n",
       "      <td>0.213476</td>\n",
       "    </tr>\n",
       "    <tr>\n",
       "      <th>ASF</th>\n",
       "      <td>-0.042848</td>\n",
       "      <td>-0.561647</td>\n",
       "      <td>-0.035067</td>\n",
       "      <td>-0.241752</td>\n",
       "      <td>0.246673</td>\n",
       "      <td>0.039494</td>\n",
       "      <td>-0.029340</td>\n",
       "      <td>-0.988877</td>\n",
       "      <td>0.213476</td>\n",
       "      <td>1.000000</td>\n",
       "    </tr>\n",
       "  </tbody>\n",
       "</table>\n",
       "</div>"
      ],
      "text/plain": [
       "          Group       M/F       Age      EDUC       SES      MMSE       CDR  \\\n",
       "Group  1.000000 -0.143918 -0.049267  0.100606  0.053290  0.339906 -0.572518   \n",
       "M/F   -0.143918  1.000000 -0.037726  0.089279 -0.044525 -0.166521  0.202140   \n",
       "Age   -0.049267 -0.037726  1.000000 -0.027886 -0.046665  0.055607 -0.026257   \n",
       "EDUC   0.100606  0.089279 -0.027886  1.000000 -0.708680  0.194454 -0.153121   \n",
       "SES    0.053290 -0.044525 -0.046665 -0.708680  1.000000 -0.146913  0.073393   \n",
       "MMSE   0.339906 -0.166521  0.055607  0.194454 -0.146913  1.000000 -0.679837   \n",
       "CDR   -0.572518  0.202140 -0.026257 -0.153121  0.073393 -0.679837  1.000000   \n",
       "eTIV   0.056693  0.572549  0.042348  0.257015 -0.254271 -0.031789  0.022819   \n",
       "nWBV   0.258093 -0.249618 -0.518359 -0.012200  0.089436  0.341857 -0.344819   \n",
       "ASF   -0.042848 -0.561647 -0.035067 -0.241752  0.246673  0.039494 -0.029340   \n",
       "\n",
       "           eTIV      nWBV       ASF  \n",
       "Group  0.056693  0.258093 -0.042848  \n",
       "M/F    0.572549 -0.249618 -0.561647  \n",
       "Age    0.042348 -0.518359 -0.035067  \n",
       "EDUC   0.257015 -0.012200 -0.241752  \n",
       "SES   -0.254271  0.089436  0.246673  \n",
       "MMSE  -0.031789  0.341857  0.039494  \n",
       "CDR    0.022819 -0.344819 -0.029340  \n",
       "eTIV   1.000000 -0.210122 -0.988877  \n",
       "nWBV  -0.210122  1.000000  0.213476  \n",
       "ASF   -0.988877  0.213476  1.000000  "
      ]
     },
     "execution_count": 22,
     "metadata": {},
     "output_type": "execute_result"
    }
   ],
   "source": [
    "data.corr()"
   ]
  },
  {
   "cell_type": "code",
   "execution_count": 23,
   "id": "894d0b37",
   "metadata": {},
   "outputs": [],
   "source": [
    "import seaborn as sns\n",
    "import matplotlib.pyplot as plt"
   ]
  },
  {
   "cell_type": "code",
   "execution_count": 24,
   "id": "1ba1a5b0",
   "metadata": {
    "tags": []
   },
   "outputs": [
    {
     "data": {
      "text/plain": [
       "<AxesSubplot:>"
      ]
     },
     "execution_count": 24,
     "metadata": {},
     "output_type": "execute_result"
    },
    {
     "data": {
      "image/png": "[encoded data removed]",
      "text/plain": [
       "<Figure size 720x576 with 2 Axes>"
      ]
     },
     "metadata": {
      "needs_background": "light"
     },
     "output_type": "display_data"
    }
   ],
   "source": [
    "fig = plt.figure(figsize=(10,8))\n",
    "sns.heatmap(data.corr(), annot=True)"
   ]
  },
  {
   "cell_type": "code",
   "execution_count": 25,
   "id": "6cb6c121-d70b-40c8-b11e-479df8fa53e0",
   "metadata": {},
   "outputs": [
    {
     "data": {
      "text/html": [
       "<div>\n",
       "<style scoped>\n",
       "    .dataframe tbody tr th:only-of-type {\n",
       "        vertical-align: middle;\n",
       "    }\n",
       "\n",
       "    .dataframe tbody tr th {\n",
       "        vertical-align: top;\n",
       "    }\n",
       "\n",
       "    .dataframe thead th {\n",
       "        text-align: right;\n",
       "    }\n",
       "</style>\n",
       "<table border=\"1\" class=\"dataframe\">\n",
       "  <thead>\n",
       "    <tr style=\"text-align: right;\">\n",
       "      <th></th>\n",
       "      <th>Group</th>\n",
       "      <th>M/F</th>\n",
       "      <th>Age</th>\n",
       "      <th>EDUC</th>\n",
       "      <th>SES</th>\n",
       "      <th>MMSE</th>\n",
       "      <th>CDR</th>\n",
       "      <th>eTIV</th>\n",
       "      <th>nWBV</th>\n",
       "      <th>ASF</th>\n",
       "    </tr>\n",
       "  </thead>\n",
       "  <tbody>\n",
       "    <tr>\n",
       "      <th>0</th>\n",
       "      <td>2</td>\n",
       "      <td>1</td>\n",
       "      <td>87</td>\n",
       "      <td>14</td>\n",
       "      <td>2.000000</td>\n",
       "      <td>27.0</td>\n",
       "      <td>0.0</td>\n",
       "      <td>1987</td>\n",
       "      <td>0.696</td>\n",
       "      <td>0.883</td>\n",
       "    </tr>\n",
       "    <tr>\n",
       "      <th>1</th>\n",
       "      <td>2</td>\n",
       "      <td>1</td>\n",
       "      <td>88</td>\n",
       "      <td>14</td>\n",
       "      <td>2.000000</td>\n",
       "      <td>30.0</td>\n",
       "      <td>0.0</td>\n",
       "      <td>2004</td>\n",
       "      <td>0.681</td>\n",
       "      <td>0.876</td>\n",
       "    </tr>\n",
       "    <tr>\n",
       "      <th>2</th>\n",
       "      <td>1</td>\n",
       "      <td>1</td>\n",
       "      <td>75</td>\n",
       "      <td>12</td>\n",
       "      <td>2.460452</td>\n",
       "      <td>23.0</td>\n",
       "      <td>0.5</td>\n",
       "      <td>1678</td>\n",
       "      <td>0.736</td>\n",
       "      <td>1.046</td>\n",
       "    </tr>\n",
       "    <tr>\n",
       "      <th>3</th>\n",
       "      <td>1</td>\n",
       "      <td>1</td>\n",
       "      <td>76</td>\n",
       "      <td>12</td>\n",
       "      <td>2.460452</td>\n",
       "      <td>28.0</td>\n",
       "      <td>0.5</td>\n",
       "      <td>1738</td>\n",
       "      <td>0.713</td>\n",
       "      <td>1.010</td>\n",
       "    </tr>\n",
       "    <tr>\n",
       "      <th>4</th>\n",
       "      <td>1</td>\n",
       "      <td>1</td>\n",
       "      <td>80</td>\n",
       "      <td>12</td>\n",
       "      <td>2.460452</td>\n",
       "      <td>22.0</td>\n",
       "      <td>0.5</td>\n",
       "      <td>1698</td>\n",
       "      <td>0.701</td>\n",
       "      <td>1.034</td>\n",
       "    </tr>\n",
       "  </tbody>\n",
       "</table>\n",
       "</div>"
      ],
      "text/plain": [
       "   Group  M/F  Age  EDUC       SES  MMSE  CDR  eTIV   nWBV    ASF\n",
       "0      2    1   87    14  2.000000  27.0  0.0  1987  0.696  0.883\n",
       "1      2    1   88    14  2.000000  30.0  0.0  2004  0.681  0.876\n",
       "2      1    1   75    12  2.460452  23.0  0.5  1678  0.736  1.046\n",
       "3      1    1   76    12  2.460452  28.0  0.5  1738  0.713  1.010\n",
       "4      1    1   80    12  2.460452  22.0  0.5  1698  0.701  1.034"
      ]
     },
     "execution_count": 25,
     "metadata": {},
     "output_type": "execute_result"
    }
   ],
   "source": [
    "data.head()"
   ]
  },
  {
   "cell_type": "code",
   "execution_count": 26,
   "id": "939af5ad",
   "metadata": {},
   "outputs": [
    {
     "ename": "NameError",
     "evalue": "name 'X' is not defined",
     "output_type": "error",
     "traceback": [
      "\u001b[1;31m---------------------------------------------------------------------------\u001b[0m",
      "\u001b[1;31mNameError\u001b[0m                                 Traceback (most recent call last)",
      "\u001b[1;32m~\\anaconda3\\lib\\site-packages\\pyforest\\__init__.py\u001b[0m in \u001b[0;36m<module>\u001b[1;34m\u001b[0m\n\u001b[1;32m----> 1\u001b[1;33m \u001b[0msns\u001b[0m\u001b[1;33m.\u001b[0m\u001b[0mpairplot\u001b[0m\u001b[1;33m(\u001b[0m\u001b[0mX\u001b[0m\u001b[1;33m)\u001b[0m\u001b[1;33m\u001b[0m\u001b[1;33m\u001b[0m\u001b[0m\n\u001b[0m",
      "\u001b[1;31mNameError\u001b[0m: name 'X' is not defined"
     ]
    }
   ],
   "source": [
    "sns.pairplot(X)"
   ]
  },
  {
   "cell_type": "code",
   "execution_count": null,
   "id": "0004f4f6",
   "metadata": {},
   "outputs": [],
   "source": [
    "sns.scatterplot(data=X, x='MMSE', y='Age', hue=data.Group)"
   ]
  },
  {
   "cell_type": "code",
   "execution_count": null,
   "id": "85f40626",
   "metadata": {},
   "outputs": [],
   "source": [
    "plt.figure(figsize=(15,6))\n",
    "sns.relplot(data=X, x='Age', y='nWBV', kind='scatter', hue=df_copy.Group)"
   ]
  },
  {
   "cell_type": "code",
   "execution_count": null,
   "id": "69f3da6d",
   "metadata": {},
   "outputs": [],
   "source": []
  },
  {
   "cell_type": "code",
   "execution_count": null,
   "id": "82ca7a63",
   "metadata": {},
   "outputs": [],
   "source": []
  },
  {
   "cell_type": "code",
   "execution_count": null,
   "id": "abe0ff65",
   "metadata": {},
   "outputs": [],
   "source": []
  },
  {
   "cell_type": "code",
   "execution_count": null,
   "id": "1a047ed5",
   "metadata": {},
   "outputs": [],
   "source": []
  },
  {
   "cell_type": "code",
   "execution_count": null,
   "id": "a54bd5ea",
   "metadata": {},
   "outputs": [],
   "source": []
  },
  {
   "cell_type": "code",
   "execution_count": null,
   "id": "d112fc85",
   "metadata": {},
   "outputs": [],
   "source": []
  },
  {
   "cell_type": "code",
   "execution_count": null,
   "id": "15170bb4",
   "metadata": {},
   "outputs": [],
   "source": []
  },
  {
   "cell_type": "code",
   "execution_count": null,
   "id": "ea7819cd",
   "metadata": {},
   "outputs": [],
   "source": []
  },
  {
   "cell_type": "code",
   "execution_count": null,
   "id": "975dc851",
   "metadata": {},
   "outputs": [],
   "source": [
    "from sklearn.model_selection import train_test_split\n",
    "from sklearn.decomposition import PCA\n",
    "from sklearn.preprocessing import StandardScaler"
   ]
  },
  {
   "cell_type": "code",
   "execution_count": null,
   "id": "246a5d53",
   "metadata": {},
   "outputs": [],
   "source": [
    "from catboost import CatBoostClassifier\n",
    "from xgboost import XGBClassifier\n",
    "from lightgbm import LGBMRegressor, LGBMClassifier\n",
    "from sklearn.model_selection import GridSearchCV\n",
    "from sklearn.linear_model import LogisticRegression\n",
    "from sklearn.ensemble import GradientBoostingClassifier, RandomForestClassifier\n",
    "from sklearn.tree import DecisionTreeClassifier\n",
    "from sklearn.neighbors import KNeighborsClassifier\n",
    "from sklearn.naive_bayes import GaussianNB\n",
    "from sklearn.svm import SVC\n",
    "from sklearn.metrics import accuracy_score, precision_score, recall_score, confusion_matrix, f1_score"
   ]
  },
  {
   "cell_type": "code",
   "execution_count": null,
   "id": "f1ac8168",
   "metadata": {},
   "outputs": [],
   "source": [
    "y = data.Group\n",
    "X = data.drop('Group', axis=1)"
   ]
  },
  {
   "cell_type": "code",
   "execution_count": null,
   "id": "04a4a8d7",
   "metadata": {},
   "outputs": [],
   "source": [
    "X_train, X_test, y_train, y_test = train_test_split(X, y, test_size=.3, random_state=42)"
   ]
  },
  {
   "cell_type": "code",
   "execution_count": null,
   "id": "12a532b8",
   "metadata": {},
   "outputs": [],
   "source": [
    "scaler = StandardScaler()\n",
    "X_train = scaler.fit_transform(X_train)\n",
    "X_test = scaler.fit_transform(X_test)"
   ]
  },
  {
   "cell_type": "code",
   "execution_count": null,
   "id": "f5009db7",
   "metadata": {},
   "outputs": [],
   "source": [
    "# catboost = CatBoostClassifier()#depth=10, iterations=1000, learning_rate=0.05,verbose=False)#depth=5, iterations=200, learning_rate=0.05,verbose=False)\n",
    "# catboost.fit(X_train, y_train);\n"
   ]
  },
  {
   "cell_type": "code",
   "execution_count": null,
   "id": "7c630877",
   "metadata": {},
   "outputs": [],
   "source": [
    "# cat_predict = catboost.predict(X_test)\n",
    "# catboost.score(X_test, y_test)"
   ]
  },
  {
   "cell_type": "code",
   "execution_count": null,
   "id": "7cc2608b",
   "metadata": {},
   "outputs": [],
   "source": [
    "# cat_cv = cross_val_score(catboost, X, y, cv=10)\n"
   ]
  },
  {
   "cell_type": "code",
   "execution_count": null,
   "id": "22fcbd1d",
   "metadata": {},
   "outputs": [],
   "source": [
    "#import xgboost as xgb\n",
    "xgboost = XGBClassifier()#XGBClassifier()#learning_rate=0.01, max_depth=10,\n",
    "                          #    n_estimators=100, subsample=0.8,use_label_encoder=False)"
   ]
  },
  {
   "cell_type": "code",
   "execution_count": null,
   "id": "feb1f21f",
   "metadata": {},
   "outputs": [],
   "source": [
    "xgboost.fit(X_train, y_train);"
   ]
  },
  {
   "cell_type": "code",
   "execution_count": null,
   "id": "42866ab0",
   "metadata": {},
   "outputs": [],
   "source": [
    "xgboost.score(X_test, y_test)"
   ]
  },
  {
   "cell_type": "code",
   "execution_count": null,
   "id": "a7a66120",
   "metadata": {},
   "outputs": [],
   "source": [
    "lightgbm = LGBMClassifier()#learning_rate=0.01, max_depth=5, min_child_samples=20, num_leaves=\n",
    "                           #n_estimators=10000, subsample=0.5)"
   ]
  },
  {
   "cell_type": "code",
   "execution_count": null,
   "id": "2df46024",
   "metadata": {},
   "outputs": [],
   "source": [
    "lightgbm.fit(X_train, y_train)"
   ]
  },
  {
   "cell_type": "code",
   "execution_count": null,
   "id": "57b9e62c",
   "metadata": {
    "scrolled": true
   },
   "outputs": [],
   "source": [
    "lightgbm.score(X_test, y_test)"
   ]
  },
  {
   "cell_type": "code",
   "execution_count": null,
   "id": "d7b67a22",
   "metadata": {},
   "outputs": [],
   "source": [
    "lr = LogisticRegression(random_state=42)#solver='liblinear')"
   ]
  },
  {
   "cell_type": "code",
   "execution_count": null,
   "id": "44af01ac",
   "metadata": {},
   "outputs": [],
   "source": [
    "# for train_index, test_index in kf.split(X):\n",
    "#     X_train,X_test = X.iloc[train_index, :], X.iloc[test_index,:]\n",
    "#     y_train, y_test = y[train_index], y[test_index]\n",
    "    \n",
    "lr.fit(X_train, y_train)"
   ]
  },
  {
   "cell_type": "code",
   "execution_count": null,
   "id": "997defba",
   "metadata": {
    "scrolled": true
   },
   "outputs": [],
   "source": [
    "lr.score(X_test, y_test)"
   ]
  },
  {
   "cell_type": "code",
   "execution_count": null,
   "id": "65204a83",
   "metadata": {},
   "outputs": [],
   "source": [
    "# gbmc = GradientBoostingClassifier(random_state=42)\n",
    "# gbmc.fit(X_train,y_train)"
   ]
  },
  {
   "cell_type": "code",
   "execution_count": null,
   "id": "e1ec45c5",
   "metadata": {
    "scrolled": true
   },
   "outputs": [],
   "source": [
    "# gbmc.score(X_test, y_test)"
   ]
  },
  {
   "cell_type": "code",
   "execution_count": null,
   "id": "c025aaf7",
   "metadata": {},
   "outputs": [],
   "source": [
    "knc = KNeighborsClassifier()\n",
    "knc.fit(X_train, y_train)"
   ]
  },
  {
   "cell_type": "code",
   "execution_count": null,
   "id": "cc2b18e8",
   "metadata": {},
   "outputs": [],
   "source": [
    "knc.score(X_test, y_test)"
   ]
  },
  {
   "cell_type": "code",
   "execution_count": null,
   "id": "e1131d25",
   "metadata": {},
   "outputs": [],
   "source": [
    "kcv = cross_val_score(knc, X,y,cv=10)\n",
    "kcv.mean()"
   ]
  },
  {
   "cell_type": "code",
   "execution_count": null,
   "id": "1b0c3853",
   "metadata": {},
   "outputs": [],
   "source": [
    "kcv"
   ]
  },
  {
   "cell_type": "code",
   "execution_count": null,
   "id": "647316bf",
   "metadata": {},
   "outputs": [],
   "source": [
    "gbc = GaussianNB()\n",
    "gbc.fit(X_train, y_train)\n"
   ]
  },
  {
   "cell_type": "code",
   "execution_count": null,
   "id": "ec996a71",
   "metadata": {},
   "outputs": [],
   "source": [
    "gbc.score(X_test, y_test)"
   ]
  },
  {
   "cell_type": "code",
   "execution_count": null,
   "id": "bb2c48e7",
   "metadata": {},
   "outputs": [],
   "source": [
    "gbcv = cross_val_score(gbc, X, y, cv=10)\n",
    "gbcv.mean()"
   ]
  },
  {
   "cell_type": "code",
   "execution_count": null,
   "id": "dbd32334",
   "metadata": {},
   "outputs": [],
   "source": [
    "gbcv"
   ]
  },
  {
   "cell_type": "code",
   "execution_count": null,
   "id": "d2263e1f",
   "metadata": {},
   "outputs": [],
   "source": [
    "rf  = RandomForestClassifier(random_state=42)\n",
    "rf.fit(X_train, y_train)"
   ]
  },
  {
   "cell_type": "code",
   "execution_count": null,
   "id": "d4e82e20",
   "metadata": {},
   "outputs": [],
   "source": [
    "rf.score(X_test, y_test)"
   ]
  },
  {
   "cell_type": "code",
   "execution_count": null,
   "id": "8059a414",
   "metadata": {},
   "outputs": [],
   "source": [
    "rfcv = cross_val_score(rf, X, y, cv=10)\n",
    "rfcv.mean()"
   ]
  },
  {
   "cell_type": "code",
   "execution_count": null,
   "id": "fd3d71fa",
   "metadata": {},
   "outputs": [],
   "source": [
    "plt.figure(figsize=(10,10))\n",
    "plot_confusion_matrix(rf, X_test, y_test, cmap=plt.cm.viridis)\n"
   ]
  },
  {
   "cell_type": "code",
   "execution_count": null,
   "id": "44e279e3",
   "metadata": {},
   "outputs": [],
   "source": [
    "import matplotlib.pyplot as plt\n",
    "from sklearn.metrics import f1_score, plot_confusion_matrix"
   ]
  },
  {
   "cell_type": "code",
   "execution_count": null,
   "id": "0e1ba056",
   "metadata": {},
   "outputs": [],
   "source": [
    "models = [rf, gbc, knc, lightgbm, xgboost]\n",
    "r = pd.DataFrame(columns=[\"MODELS\",\"ACC\",\"PRECISION\", \"RECALL\", 'F1_SCORE'])\n",
    "\n",
    "for model in models:\n",
    "    name = model.__class__.__name__\n",
    "    #predict = model.predict(X_test)\n",
    "    accuracy = round(model.score(X_test, y_test),3)\n",
    "    precision = round(precision_score(y_test, model.predict(X_test), average='macro', zero_division=0),3)\n",
    "    recall = round(recall_score(y_test, model.predict(X_test), average='macro', zero_division=0),3)\n",
    "    f1_scores = round(f1_score(y_test, model.predict(X_test), average='macro', zero_division=0),3)\n",
    "    print(\"-\" * 28)\n",
    "    print(name + \": \")\n",
    "    print(f\"Accuracy: {accuracy}\")\n",
    "    print(f\"Precision: {precision}\")\n",
    "    print(f\"Recall: {recall}\")\n",
    "    print(f\"f1_score: {f1_scores}\")\n",
    "    result = pd.DataFrame([[name,accuracy*100, precision*100, recall*100, f1_scores*100]],columns=[\"MODELS\",\"ACC\",\"PRECISION\",\"RECALL\", \"F1_SCORE\"])\n",
    "    r = r.append(result)\n",
    "\n",
    "    "
   ]
  },
  {
   "cell_type": "code",
   "execution_count": null,
   "id": "62d3fca6",
   "metadata": {
    "scrolled": false
   },
   "outputs": [],
   "source": [
    "r.T#.to_excel('outputs.xlsx')"
   ]
  },
  {
   "cell_type": "code",
   "execution_count": null,
   "id": "61137b26",
   "metadata": {},
   "outputs": [],
   "source": [
    "plt.figure(figsize=(8,6))\n",
    "sns.barplot(x=\"ACC\",y=\"MODELS\",data=r)\n",
    "plt.xlabel(\"ACCURACY\")\n",
    "plt.title(\"MODEL ACCURACY COMPARISON\")\n",
    "#plt.grid()"
   ]
  },
  {
   "cell_type": "code",
   "execution_count": null,
   "id": "71b1076a",
   "metadata": {},
   "outputs": [],
   "source": []
  }
 ],
 "metadata": {
  "kernelspec": {
   "display_name": "Python 3",
   "language": "python",
   "name": "python3"
  },
  "language_info": {
   "codemirror_mode": {
    "name": "ipython",
    "version": 3
   },
   "file_extension": ".py",
   "mimetype": "text/x-python",
   "name": "python",
   "nbconvert_exporter": "python",
   "pygments_lexer": "ipython3",
   "version": "3.8.8"
  }
 },
 "nbformat": 4,
 "nbformat_minor": 5
}
