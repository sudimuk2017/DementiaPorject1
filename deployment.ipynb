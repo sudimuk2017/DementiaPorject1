{
 "cells": [
  {
   "cell_type": "code",
   "execution_count": 1,
   "metadata": {},
   "outputs": [],
   "source": [
    "import streamlit as st"
   ]
  },
  {
   "cell_type": "code",
   "execution_count": 2,
   "metadata": {},
   "outputs": [
    {
     "name": "stdout",
     "output_type": "stream",
     "text": [
      "Overwriting app.py\n"
     ]
    }
   ],
   "source": [
    "%%writefile app.py\n",
    "import streamlit as st\n",
    "import tensorflow as tf\n",
    "import numpy as np\n",
    "\n",
    "\n",
    "#loading the trained model\n",
    "model = tf.keras.models.load_model('model.h5')\n",
    "\n",
    "@st.cache(allow_output_mutation=True)\n",
    "\n",
    "def prediction(Age,Gender,EDUC,SES,MMSE,CDR,eTIV,nWBV,ASF):\n",
    "    \n",
    "    # preprocess user input\n",
    "    if Gender == 'Male':\n",
    "        Gender = 0\n",
    "    else:\n",
    "        Gender = 1\n",
    "        \n",
    "    # making predictions\n",
    "    predictions = model.predict(\n",
    "        [[Age,Gender,EDUC,SES,MMSE,CDR,eTIV,nWBV,ASF]])\n",
    "        \n",
    "    score = tf.nn.softmax(predictions[0])\n",
    "    class_names = ['Converted','Demented','Nondemented']\n",
    "    final_pred = class_names[np.argmax(predictions)]\n",
    "        \n",
    "    return final_pred\n",
    "        \n",
    "# main function defines our webpage\n",
    "\n",
    "def main():\n",
    "    \n",
    "     # front end elements of the web page \n",
    "    html_temp = \"\"\" \n",
    "    <div style =\"background-color:green;padding:13px\"> \n",
    "    <h1 style =\"color:black;text-align:center;\">ALzeimers Hub</h1> \n",
    "    </div> \n",
    "    \"\"\"\n",
    "      \n",
    "    # display the front end aspect\n",
    "    st.markdown(html_temp, unsafe_allow_html = True) \n",
    "    \n",
    "    # allow user input \n",
    "    Age  = st.number_input('Age',min_value=1, max_value=100, value=10, step=1)\n",
    "    Gender = st.selectbox('Gender',('Male','Female'))\n",
    "    EDUC  = st.number_input('Years of Education: EDUC',min_value=1, max_value=100, value=1, step=1)\n",
    "    SES  = st.number_input('Socialeconomic Status (SES): 1-5',min_value=1, max_value=50, value=1, step=1)\n",
    "    MMSE = st.number_input('Mini Mental State Examination (MMSE)',min_value=1, max_value=40, value=1, step=1)\n",
    "    CDR = st.number_input('Clinical Dimentia Rating (CDR): 0-3',min_value=0.0, max_value=3.0, value=0.0, step=0.5)\n",
    "    eTIV = st.number_input(' Estimated total intracranial volume:eTIV ',min_value=1000, max_value=2000, value=1000, step=1)\n",
    "    nWBV  = st.number_input('Normalized whole Brain Volume: nWBV',min_value=0.0, max_value=1.0, value=0.0,step=0.01)\n",
    "    ASF  = st.number_input('Atlas Scaling Factor: ASF',min_value=0.7, max_value=1.6, value=0.7, step=0.01)\n",
    "    \n",
    "    # when 'Predict' is clicked, make the prediction and store it\n",
    "    if st.button(\"Predict\"):\n",
    "        result = prediction(Age,Gender,EDUC,SES,MMSE,CDR,eTIV,nWBV,ASF)\n",
    "        \n",
    "        st.success('Health Status is {}'.format(result))\n",
    "        \n",
    "if __name__=='__main__': \n",
    "    main()"
   ]
  },
  {
   "cell_type": "code",
   "execution_count": 3,
   "metadata": {},
   "outputs": [],
   "source": [
    "import streamlit as st"
   ]
  },
  {
   "cell_type": "code",
   "execution_count": 4,
   "metadata": {},
   "outputs": [
    {
     "ename": "SyntaxError",
     "evalue": "invalid syntax (<ipython-input-4-36d834ab7b01>, line 1)",
     "output_type": "error",
     "traceback": [
      "\u001b[1;36m  File \u001b[1;32m\"<ipython-input-4-36d834ab7b01>\"\u001b[1;36m, line \u001b[1;32m1\u001b[0m\n\u001b[1;33m    st run app.py\u001b[0m\n\u001b[1;37m       ^\u001b[0m\n\u001b[1;31mSyntaxError\u001b[0m\u001b[1;31m:\u001b[0m invalid syntax\n"
     ]
    }
   ],
   "source": [
    "st run app.py"
   ]
  },
  {
   "cell_type": "code",
   "execution_count": null,
   "metadata": {},
   "outputs": [],
   "source": []
  }
 ],
 "metadata": {
  "kernelspec": {
   "display_name": "Python 3",
   "language": "python",
   "name": "python3"
  },
  "language_info": {
   "codemirror_mode": {
    "name": "ipython",
    "version": 3
   },
   "file_extension": ".py",
   "mimetype": "text/x-python",
   "name": "python",
   "nbconvert_exporter": "python",
   "pygments_lexer": "ipython3",
   "version": "3.8.8"
  }
 },
 "nbformat": 4,
 "nbformat_minor": 4
}
