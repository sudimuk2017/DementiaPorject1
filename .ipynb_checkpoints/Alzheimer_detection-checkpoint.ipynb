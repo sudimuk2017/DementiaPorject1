{
 "cells": [
  {
   "cell_type": "code",
   "execution_count": 1,
   "id": "59ea8338",
   "metadata": {},
   "outputs": [
    {
     "ename": "ModuleNotFoundError",
     "evalue": "No module named 'pyforest'",
     "output_type": "error",
     "traceback": [
      "\u001b[1;31m---------------------------------------------------------------------------\u001b[0m",
      "\u001b[1;31mModuleNotFoundError\u001b[0m                       Traceback (most recent call last)",
      "\u001b[1;32m<ipython-input-1-5ddcfaefe75e>\u001b[0m in \u001b[0;36m<module>\u001b[1;34m\u001b[0m\n\u001b[0;32m      1\u001b[0m \u001b[1;32mimport\u001b[0m \u001b[0mpandas\u001b[0m \u001b[1;32mas\u001b[0m \u001b[0mpd\u001b[0m\u001b[1;33m\u001b[0m\u001b[1;33m\u001b[0m\u001b[0m\n\u001b[0;32m      2\u001b[0m \u001b[1;32mimport\u001b[0m \u001b[0mnumpy\u001b[0m \u001b[1;32mas\u001b[0m \u001b[0mnp\u001b[0m\u001b[1;33m\u001b[0m\u001b[1;33m\u001b[0m\u001b[0m\n\u001b[1;32m----> 3\u001b[1;33m \u001b[1;32mfrom\u001b[0m \u001b[0mpyforest\u001b[0m \u001b[1;32mimport\u001b[0m \u001b[1;33m*\u001b[0m\u001b[1;33m\u001b[0m\u001b[1;33m\u001b[0m\u001b[0m\n\u001b[0m\u001b[0;32m      4\u001b[0m \u001b[1;32mfrom\u001b[0m \u001b[0msklearn\u001b[0m\u001b[1;33m.\u001b[0m\u001b[0mmodel_selection\u001b[0m \u001b[1;32mimport\u001b[0m \u001b[0mcross_val_score\u001b[0m\u001b[1;33m,\u001b[0m \u001b[0mcross_val_predict\u001b[0m\u001b[1;33m,\u001b[0m \u001b[0mcross_validate\u001b[0m\u001b[1;33m\u001b[0m\u001b[1;33m\u001b[0m\u001b[0m\n",
      "\u001b[1;31mModuleNotFoundError\u001b[0m: No module named 'pyforest'"
     ]
    }
   ],
   "source": [
    "import pandas as pd\n",
    "import numpy as np\n",
    "from pyforest import *\n",
    "from sklearn.model_selection import cross_val_score, cross_val_predict, cross_validate"
   ]
  },
  {
   "cell_type": "code",
   "execution_count": null,
   "id": "95d45b9d",
   "metadata": {},
   "outputs": [],
   "source": [
    "data = pd.read_csv('alzheimer.csv')"
   ]
  },
  {
   "cell_type": "code",
   "execution_count": null,
   "id": "4baa3179",
   "metadata": {},
   "outputs": [],
   "source": [
    "df_copy =data.copy()"
   ]
  },
  {
   "cell_type": "code",
   "execution_count": null,
   "id": "03321aba",
   "metadata": {},
   "outputs": [],
   "source": [
    "data.shape"
   ]
  },
  {
   "cell_type": "code",
   "execution_count": null,
   "id": "5170e919",
   "metadata": {
    "scrolled": true
   },
   "outputs": [],
   "source": [
    "data.head()"
   ]
  },
  {
   "cell_type": "code",
   "execution_count": null,
   "id": "be44471e",
   "metadata": {},
   "outputs": [],
   "source": [
    "data.groupby(['Group']).size()"
   ]
  },
  {
   "cell_type": "code",
   "execution_count": null,
   "id": "d799ae26",
   "metadata": {},
   "outputs": [],
   "source": [
    "data.select_dtypes('int64')"
   ]
  },
  {
   "cell_type": "code",
   "execution_count": null,
   "id": "b66f4bc5",
   "metadata": {},
   "outputs": [],
   "source": [
    "data.info()"
   ]
  },
  {
   "cell_type": "code",
   "execution_count": null,
   "id": "7873eeef",
   "metadata": {},
   "outputs": [],
   "source": [
    "data.isnull().sum()"
   ]
  },
  {
   "cell_type": "code",
   "execution_count": null,
   "id": "a32cad1c",
   "metadata": {},
   "outputs": [],
   "source": [
    "group = data['Group'].unique()"
   ]
  },
  {
   "cell_type": "code",
   "execution_count": null,
   "id": "44c0f594",
   "metadata": {},
   "outputs": [],
   "source": [
    "from sklearn.preprocessing import LabelEncoder, OneHotEncoder"
   ]
  },
  {
   "cell_type": "code",
   "execution_count": null,
   "id": "7c71b225",
   "metadata": {},
   "outputs": [],
   "source": [
    "le = LabelEncoder()\n",
    "#for each in data['Group'].unique():\n",
    "data['Group'] = le.fit_transform(data.Group)"
   ]
  },
  {
   "cell_type": "code",
   "execution_count": null,
   "id": "0fc81447",
   "metadata": {},
   "outputs": [],
   "source": [
    "data.Group.unique()"
   ]
  },
  {
   "cell_type": "code",
   "execution_count": null,
   "id": "af651e7c",
   "metadata": {},
   "outputs": [],
   "source": [
    "list(zip(group, data.Group.unique()))"
   ]
  },
  {
   "cell_type": "code",
   "execution_count": null,
   "id": "09648f3e",
   "metadata": {},
   "outputs": [],
   "source": [
    "data['M/F'] = le.fit_transform(data['M/F'])"
   ]
  },
  {
   "cell_type": "code",
   "execution_count": null,
   "id": "7214dc61",
   "metadata": {},
   "outputs": [],
   "source": [
    "list(zip(df_copy['M/F'].unique(), data['M/F'].unique()))"
   ]
  },
  {
   "cell_type": "code",
   "execution_count": null,
   "id": "b5b16d11",
   "metadata": {
    "scrolled": true
   },
   "outputs": [],
   "source": [
    "data.dtypes\n",
    "print (data.isna().sum())"
   ]
  },
  {
   "cell_type": "code",
   "execution_count": null,
   "id": "dbdd713c",
   "metadata": {},
   "outputs": [],
   "source": [
    "#from sklearn.impute import SimpleImputer\n",
    "#imp = SimpleImputer(strategy='mean')\n",
    "data['SES'] = data.SES.fillna(data['SES'].mean())\n",
    "data['MMSE'] = data.MMSE.fillna(data['MMSE'].mean())"
   ]
  },
  {
   "cell_type": "code",
   "execution_count": null,
   "id": "9e3de924",
   "metadata": {},
   "outputs": [],
   "source": [
    "print (data.isna().sum())"
   ]
  },
  {
   "cell_type": "code",
   "execution_count": null,
   "id": "099d337f",
   "metadata": {},
   "outputs": [],
   "source": [
    "data.info()"
   ]
  },
  {
   "cell_type": "code",
   "execution_count": null,
   "id": "53a85d40",
   "metadata": {},
   "outputs": [],
   "source": [
    "data.corr()"
   ]
  },
  {
   "cell_type": "code",
   "execution_count": null,
   "id": "894d0b37",
   "metadata": {},
   "outputs": [],
   "source": [
    "import seaborn as sns\n",
    "import matplotlib.pyplot as plt"
   ]
  },
  {
   "cell_type": "code",
   "execution_count": null,
   "id": "1ba1a5b0",
   "metadata": {
    "tags": []
   },
   "outputs": [],
   "source": [
    "fig = plt.figure(figsize=(10,8))\n",
    "sns.heatmap(data.corr(), annot=True)"
   ]
  },
  {
   "cell_type": "code",
   "execution_count": null,
   "id": "6cb6c121-d70b-40c8-b11e-479df8fa53e0",
   "metadata": {},
   "outputs": [],
   "source": [
    "data.head()"
   ]
  },
  {
   "cell_type": "code",
   "execution_count": null,
   "id": "939af5ad",
   "metadata": {},
   "outputs": [],
   "source": [
    "sns.pairplot(X)"
   ]
  },
  {
   "cell_type": "code",
   "execution_count": null,
   "id": "0004f4f6",
   "metadata": {},
   "outputs": [],
   "source": [
    "sns.scatterplot(data=X, x='MMSE', y='Age', hue=data.Group)"
   ]
  },
  {
   "cell_type": "code",
   "execution_count": null,
   "id": "85f40626",
   "metadata": {},
   "outputs": [],
   "source": [
    "plt.figure(figsize=(15,6))\n",
    "sns.relplot(data=X, x='Age', y='nWBV', kind='scatter', hue=df_copy.Group)"
   ]
  },
  {
   "cell_type": "code",
   "execution_count": null,
   "id": "69f3da6d",
   "metadata": {},
   "outputs": [],
   "source": []
  },
  {
   "cell_type": "code",
   "execution_count": null,
   "id": "82ca7a63",
   "metadata": {},
   "outputs": [],
   "source": []
  },
  {
   "cell_type": "code",
   "execution_count": null,
   "id": "abe0ff65",
   "metadata": {},
   "outputs": [],
   "source": []
  },
  {
   "cell_type": "code",
   "execution_count": null,
   "id": "1a047ed5",
   "metadata": {},
   "outputs": [],
   "source": []
  },
  {
   "cell_type": "code",
   "execution_count": null,
   "id": "a54bd5ea",
   "metadata": {},
   "outputs": [],
   "source": []
  },
  {
   "cell_type": "code",
   "execution_count": null,
   "id": "d112fc85",
   "metadata": {},
   "outputs": [],
   "source": []
  },
  {
   "cell_type": "code",
   "execution_count": null,
   "id": "15170bb4",
   "metadata": {},
   "outputs": [],
   "source": []
  },
  {
   "cell_type": "code",
   "execution_count": null,
   "id": "ea7819cd",
   "metadata": {},
   "outputs": [],
   "source": []
  },
  {
   "cell_type": "code",
   "execution_count": null,
   "id": "975dc851",
   "metadata": {},
   "outputs": [],
   "source": [
    "from sklearn.model_selection import train_test_split\n",
    "from sklearn.decomposition import PCA\n",
    "from sklearn.preprocessing import StandardScaler"
   ]
  },
  {
   "cell_type": "code",
   "execution_count": null,
   "id": "246a5d53",
   "metadata": {},
   "outputs": [],
   "source": [
    "from catboost import CatBoostClassifier\n",
    "from xgboost import XGBClassifier\n",
    "from lightgbm import LGBMRegressor, LGBMClassifier\n",
    "from sklearn.model_selection import GridSearchCV\n",
    "from sklearn.linear_model import LogisticRegression\n",
    "from sklearn.ensemble import GradientBoostingClassifier, RandomForestClassifier\n",
    "from sklearn.tree import DecisionTreeClassifier\n",
    "from sklearn.neighbors import KNeighborsClassifier\n",
    "from sklearn.naive_bayes import GaussianNB\n",
    "from sklearn.svm import SVC\n",
    "from sklearn.metrics import accuracy_score, precision_score, recall_score, confusion_matrix, f1_score"
   ]
  },
  {
   "cell_type": "code",
   "execution_count": null,
   "id": "f1ac8168",
   "metadata": {},
   "outputs": [],
   "source": [
    "y = data.Group\n",
    "X = data.drop('Group', axis=1)"
   ]
  },
  {
   "cell_type": "code",
   "execution_count": null,
   "id": "04a4a8d7",
   "metadata": {},
   "outputs": [],
   "source": [
    "X_train, X_test, y_train, y_test = train_test_split(X, y, test_size=.3, random_state=42)"
   ]
  },
  {
   "cell_type": "code",
   "execution_count": null,
   "id": "12a532b8",
   "metadata": {},
   "outputs": [],
   "source": [
    "scaler = StandardScaler()\n",
    "X_train = scaler.fit_transform(X_train)\n",
    "X_test = scaler.fit_transform(X_test)"
   ]
  },
  {
   "cell_type": "code",
   "execution_count": null,
   "id": "f5009db7",
   "metadata": {},
   "outputs": [],
   "source": [
    "# catboost = CatBoostClassifier()#depth=10, iterations=1000, learning_rate=0.05,verbose=False)#depth=5, iterations=200, learning_rate=0.05,verbose=False)\n",
    "# catboost.fit(X_train, y_train);\n"
   ]
  },
  {
   "cell_type": "code",
   "execution_count": null,
   "id": "7c630877",
   "metadata": {},
   "outputs": [],
   "source": [
    "# cat_predict = catboost.predict(X_test)\n",
    "# catboost.score(X_test, y_test)"
   ]
  },
  {
   "cell_type": "code",
   "execution_count": null,
   "id": "7cc2608b",
   "metadata": {},
   "outputs": [],
   "source": [
    "# cat_cv = cross_val_score(catboost, X, y, cv=10)\n"
   ]
  },
  {
   "cell_type": "code",
   "execution_count": null,
   "id": "22fcbd1d",
   "metadata": {},
   "outputs": [],
   "source": [
    "#import xgboost as xgb\n",
    "xgboost = XGBClassifier()#XGBClassifier()#learning_rate=0.01, max_depth=10,\n",
    "                          #    n_estimators=100, subsample=0.8,use_label_encoder=False)"
   ]
  },
  {
   "cell_type": "code",
   "execution_count": null,
   "id": "feb1f21f",
   "metadata": {},
   "outputs": [],
   "source": [
    "xgboost.fit(X_train, y_train);"
   ]
  },
  {
   "cell_type": "code",
   "execution_count": null,
   "id": "42866ab0",
   "metadata": {},
   "outputs": [],
   "source": [
    "xgboost.score(X_test, y_test)"
   ]
  },
  {
   "cell_type": "code",
   "execution_count": null,
   "id": "a7a66120",
   "metadata": {},
   "outputs": [],
   "source": [
    "lightgbm = LGBMClassifier()#learning_rate=0.01, max_depth=5, min_child_samples=20, num_leaves=\n",
    "                           #n_estimators=10000, subsample=0.5)"
   ]
  },
  {
   "cell_type": "code",
   "execution_count": null,
   "id": "2df46024",
   "metadata": {},
   "outputs": [],
   "source": [
    "lightgbm.fit(X_train, y_train)"
   ]
  },
  {
   "cell_type": "code",
   "execution_count": null,
   "id": "57b9e62c",
   "metadata": {
    "scrolled": true
   },
   "outputs": [],
   "source": [
    "lightgbm.score(X_test, y_test)"
   ]
  },
  {
   "cell_type": "code",
   "execution_count": null,
   "id": "d7b67a22",
   "metadata": {},
   "outputs": [],
   "source": [
    "lr = LogisticRegression(random_state=42)#solver='liblinear')"
   ]
  },
  {
   "cell_type": "code",
   "execution_count": null,
   "id": "44af01ac",
   "metadata": {},
   "outputs": [],
   "source": [
    "# for train_index, test_index in kf.split(X):\n",
    "#     X_train,X_test = X.iloc[train_index, :], X.iloc[test_index,:]\n",
    "#     y_train, y_test = y[train_index], y[test_index]\n",
    "    \n",
    "lr.fit(X_train, y_train)"
   ]
  },
  {
   "cell_type": "code",
   "execution_count": null,
   "id": "997defba",
   "metadata": {
    "scrolled": true
   },
   "outputs": [],
   "source": [
    "lr.score(X_test, y_test)"
   ]
  },
  {
   "cell_type": "code",
   "execution_count": null,
   "id": "65204a83",
   "metadata": {},
   "outputs": [],
   "source": [
    "# gbmc = GradientBoostingClassifier(random_state=42)\n",
    "# gbmc.fit(X_train,y_train)"
   ]
  },
  {
   "cell_type": "code",
   "execution_count": null,
   "id": "e1ec45c5",
   "metadata": {
    "scrolled": true
   },
   "outputs": [],
   "source": [
    "# gbmc.score(X_test, y_test)"
   ]
  },
  {
   "cell_type": "code",
   "execution_count": null,
   "id": "c025aaf7",
   "metadata": {},
   "outputs": [],
   "source": [
    "knc = KNeighborsClassifier()\n",
    "knc.fit(X_train, y_train)"
   ]
  },
  {
   "cell_type": "code",
   "execution_count": null,
   "id": "cc2b18e8",
   "metadata": {},
   "outputs": [],
   "source": [
    "knc.score(X_test, y_test)"
   ]
  },
  {
   "cell_type": "code",
   "execution_count": null,
   "id": "e1131d25",
   "metadata": {},
   "outputs": [],
   "source": [
    "kcv = cross_val_score(knc, X,y,cv=10)\n",
    "kcv.mean()"
   ]
  },
  {
   "cell_type": "code",
   "execution_count": null,
   "id": "1b0c3853",
   "metadata": {},
   "outputs": [],
   "source": [
    "kcv"
   ]
  },
  {
   "cell_type": "code",
   "execution_count": null,
   "id": "647316bf",
   "metadata": {},
   "outputs": [],
   "source": [
    "gbc = GaussianNB()\n",
    "gbc.fit(X_train, y_train)\n"
   ]
  },
  {
   "cell_type": "code",
   "execution_count": null,
   "id": "ec996a71",
   "metadata": {},
   "outputs": [],
   "source": [
    "gbc.score(X_test, y_test)"
   ]
  },
  {
   "cell_type": "code",
   "execution_count": null,
   "id": "bb2c48e7",
   "metadata": {},
   "outputs": [],
   "source": [
    "gbcv = cross_val_score(gbc, X, y, cv=10)\n",
    "gbcv.mean()"
   ]
  },
  {
   "cell_type": "code",
   "execution_count": null,
   "id": "dbd32334",
   "metadata": {},
   "outputs": [],
   "source": [
    "gbcv"
   ]
  },
  {
   "cell_type": "code",
   "execution_count": null,
   "id": "d2263e1f",
   "metadata": {},
   "outputs": [],
   "source": [
    "rf  = RandomForestClassifier(random_state=42)\n",
    "rf.fit(X_train, y_train)"
   ]
  },
  {
   "cell_type": "code",
   "execution_count": null,
   "id": "d4e82e20",
   "metadata": {},
   "outputs": [],
   "source": [
    "rf.score(X_test, y_test)"
   ]
  },
  {
   "cell_type": "code",
   "execution_count": null,
   "id": "8059a414",
   "metadata": {},
   "outputs": [],
   "source": [
    "rfcv = cross_val_score(rf, X, y, cv=10)\n",
    "rfcv.mean()"
   ]
  },
  {
   "cell_type": "code",
   "execution_count": null,
   "id": "fd3d71fa",
   "metadata": {},
   "outputs": [],
   "source": [
    "plt.figure(figsize=(10,10))\n",
    "plot_confusion_matrix(rf, X_test, y_test, cmap=plt.cm.viridis)\n"
   ]
  },
  {
   "cell_type": "code",
   "execution_count": null,
   "id": "44e279e3",
   "metadata": {},
   "outputs": [],
   "source": [
    "import matplotlib.pyplot as plt\n",
    "from sklearn.metrics import f1_score, plot_confusion_matrix"
   ]
  },
  {
   "cell_type": "code",
   "execution_count": null,
   "id": "0e1ba056",
   "metadata": {},
   "outputs": [],
   "source": [
    "models = [rf, gbc, knc, lightgbm, xgboost]\n",
    "r = pd.DataFrame(columns=[\"MODELS\",\"ACC\",\"PRECISION\", \"RECALL\", 'F1_SCORE'])\n",
    "\n",
    "for model in models:\n",
    "    name = model.__class__.__name__\n",
    "    #predict = model.predict(X_test)\n",
    "    accuracy = round(model.score(X_test, y_test),3)\n",
    "    precision = round(precision_score(y_test, model.predict(X_test), average='macro', zero_division=0),3)\n",
    "    recall = round(recall_score(y_test, model.predict(X_test), average='macro', zero_division=0),3)\n",
    "    f1_scores = round(f1_score(y_test, model.predict(X_test), average='macro', zero_division=0),3)\n",
    "    print(\"-\" * 28)\n",
    "    print(name + \": \")\n",
    "    print(f\"Accuracy: {accuracy}\")\n",
    "    print(f\"Precision: {precision}\")\n",
    "    print(f\"Recall: {recall}\")\n",
    "    print(f\"f1_score: {f1_scores}\")\n",
    "    result = pd.DataFrame([[name,accuracy*100, precision*100, recall*100, f1_scores*100]],columns=[\"MODELS\",\"ACC\",\"PRECISION\",\"RECALL\", \"F1_SCORE\"])\n",
    "    r = r.append(result)\n",
    "\n",
    "    "
   ]
  },
  {
   "cell_type": "code",
   "execution_count": null,
   "id": "62d3fca6",
   "metadata": {
    "scrolled": false
   },
   "outputs": [],
   "source": [
    "r.T#.to_excel('outputs.xlsx')"
   ]
  },
  {
   "cell_type": "code",
   "execution_count": null,
   "id": "61137b26",
   "metadata": {},
   "outputs": [],
   "source": [
    "plt.figure(figsize=(8,6))\n",
    "sns.barplot(x=\"ACC\",y=\"MODELS\",data=r)\n",
    "plt.xlabel(\"ACCURACY\")\n",
    "plt.title(\"MODEL ACCURACY COMPARISON\")\n",
    "#plt.grid()"
   ]
  },
  {
   "cell_type": "code",
   "execution_count": null,
   "id": "71b1076a",
   "metadata": {},
   "outputs": [],
   "source": []
  }
 ],
 "metadata": {
  "kernelspec": {
   "display_name": "Python 3",
   "language": "python",
   "name": "python3"
  },
  "language_info": {
   "codemirror_mode": {
    "name": "ipython",
    "version": 3
   },
   "file_extension": ".py",
   "mimetype": "text/x-python",
   "name": "python",
   "nbconvert_exporter": "python",
   "pygments_lexer": "ipython3",
   "version": "3.8.8"
  }
 },
 "nbformat": 4,
 "nbformat_minor": 5
}
