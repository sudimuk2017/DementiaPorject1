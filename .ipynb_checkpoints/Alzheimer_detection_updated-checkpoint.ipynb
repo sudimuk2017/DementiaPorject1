{
 "cells": [
  {
   "cell_type": "markdown",
   "id": "897e9d68",
   "metadata": {},
   "source": [
    "# Import Libraries"
   ]
  },
  {
   "cell_type": "code",
   "execution_count": 1,
   "id": "59ea8338",
   "metadata": {},
   "outputs": [],
   "source": [
    "# Data Analysis and Wrangling\n",
    "import pandas as pd\n",
    "import numpy as np\n",
    "from scipy.stats import mode \n",
    "\n",
    "# Data Visualization\n",
    "import matplotlib.pyplot as plt\n",
    "import seaborn as sns\n"
   ]
  },
  {
   "cell_type": "markdown",
   "id": "788bc196",
   "metadata": {},
   "source": [
    "# Load data"
   ]
  },
  {
   "cell_type": "code",
   "execution_count": 2,
   "id": "95d45b9d",
   "metadata": {},
   "outputs": [],
   "source": [
    "data = pd.read_csv('alzheimer.csv')"
   ]
  },
  {
   "cell_type": "code",
   "execution_count": 3,
   "id": "c2e05dba",
   "metadata": {},
   "outputs": [],
   "source": [
    "df = data.copy()"
   ]
  },
  {
   "cell_type": "markdown",
   "id": "98e2afa2",
   "metadata": {},
   "source": [
    "\n",
    "# Exploratory data analysis"
   ]
  },
  {
   "cell_type": "code",
   "execution_count": 4,
   "id": "7d5479e9",
   "metadata": {},
   "outputs": [
    {
     "data": {
      "text/plain": [
       "(373, 10)"
      ]
     },
     "execution_count": 4,
     "metadata": {},
     "output_type": "execute_result"
    }
   ],
   "source": [
    "# data shape\n",
    "df.shape"
   ]
  },
  {
   "cell_type": "code",
   "execution_count": 5,
   "id": "fa61488f",
   "metadata": {},
   "outputs": [
    {
     "data": {
      "text/html": [
       "<div>\n",
       "<style scoped>\n",
       "    .dataframe tbody tr th:only-of-type {\n",
       "        vertical-align: middle;\n",
       "    }\n",
       "\n",
       "    .dataframe tbody tr th {\n",
       "        vertical-align: top;\n",
       "    }\n",
       "\n",
       "    .dataframe thead th {\n",
       "        text-align: right;\n",
       "    }\n",
       "</style>\n",
       "<table border=\"1\" class=\"dataframe\">\n",
       "  <thead>\n",
       "    <tr style=\"text-align: right;\">\n",
       "      <th></th>\n",
       "      <th>Group</th>\n",
       "      <th>M/F</th>\n",
       "      <th>Age</th>\n",
       "      <th>EDUC</th>\n",
       "      <th>SES</th>\n",
       "      <th>MMSE</th>\n",
       "      <th>CDR</th>\n",
       "      <th>eTIV</th>\n",
       "      <th>nWBV</th>\n",
       "      <th>ASF</th>\n",
       "    </tr>\n",
       "  </thead>\n",
       "  <tbody>\n",
       "    <tr>\n",
       "      <th>0</th>\n",
       "      <td>Nondemented</td>\n",
       "      <td>M</td>\n",
       "      <td>87</td>\n",
       "      <td>14</td>\n",
       "      <td>2.0</td>\n",
       "      <td>27.0</td>\n",
       "      <td>0.0</td>\n",
       "      <td>1987</td>\n",
       "      <td>0.696</td>\n",
       "      <td>0.883</td>\n",
       "    </tr>\n",
       "    <tr>\n",
       "      <th>1</th>\n",
       "      <td>Nondemented</td>\n",
       "      <td>M</td>\n",
       "      <td>88</td>\n",
       "      <td>14</td>\n",
       "      <td>2.0</td>\n",
       "      <td>30.0</td>\n",
       "      <td>0.0</td>\n",
       "      <td>2004</td>\n",
       "      <td>0.681</td>\n",
       "      <td>0.876</td>\n",
       "    </tr>\n",
       "    <tr>\n",
       "      <th>2</th>\n",
       "      <td>Demented</td>\n",
       "      <td>M</td>\n",
       "      <td>75</td>\n",
       "      <td>12</td>\n",
       "      <td>NaN</td>\n",
       "      <td>23.0</td>\n",
       "      <td>0.5</td>\n",
       "      <td>1678</td>\n",
       "      <td>0.736</td>\n",
       "      <td>1.046</td>\n",
       "    </tr>\n",
       "    <tr>\n",
       "      <th>3</th>\n",
       "      <td>Demented</td>\n",
       "      <td>M</td>\n",
       "      <td>76</td>\n",
       "      <td>12</td>\n",
       "      <td>NaN</td>\n",
       "      <td>28.0</td>\n",
       "      <td>0.5</td>\n",
       "      <td>1738</td>\n",
       "      <td>0.713</td>\n",
       "      <td>1.010</td>\n",
       "    </tr>\n",
       "    <tr>\n",
       "      <th>4</th>\n",
       "      <td>Demented</td>\n",
       "      <td>M</td>\n",
       "      <td>80</td>\n",
       "      <td>12</td>\n",
       "      <td>NaN</td>\n",
       "      <td>22.0</td>\n",
       "      <td>0.5</td>\n",
       "      <td>1698</td>\n",
       "      <td>0.701</td>\n",
       "      <td>1.034</td>\n",
       "    </tr>\n",
       "    <tr>\n",
       "      <th>...</th>\n",
       "      <td>...</td>\n",
       "      <td>...</td>\n",
       "      <td>...</td>\n",
       "      <td>...</td>\n",
       "      <td>...</td>\n",
       "      <td>...</td>\n",
       "      <td>...</td>\n",
       "      <td>...</td>\n",
       "      <td>...</td>\n",
       "      <td>...</td>\n",
       "    </tr>\n",
       "    <tr>\n",
       "      <th>368</th>\n",
       "      <td>Demented</td>\n",
       "      <td>M</td>\n",
       "      <td>82</td>\n",
       "      <td>16</td>\n",
       "      <td>1.0</td>\n",
       "      <td>28.0</td>\n",
       "      <td>0.5</td>\n",
       "      <td>1693</td>\n",
       "      <td>0.694</td>\n",
       "      <td>1.037</td>\n",
       "    </tr>\n",
       "    <tr>\n",
       "      <th>369</th>\n",
       "      <td>Demented</td>\n",
       "      <td>M</td>\n",
       "      <td>86</td>\n",
       "      <td>16</td>\n",
       "      <td>1.0</td>\n",
       "      <td>26.0</td>\n",
       "      <td>0.5</td>\n",
       "      <td>1688</td>\n",
       "      <td>0.675</td>\n",
       "      <td>1.040</td>\n",
       "    </tr>\n",
       "    <tr>\n",
       "      <th>370</th>\n",
       "      <td>Nondemented</td>\n",
       "      <td>F</td>\n",
       "      <td>61</td>\n",
       "      <td>13</td>\n",
       "      <td>2.0</td>\n",
       "      <td>30.0</td>\n",
       "      <td>0.0</td>\n",
       "      <td>1319</td>\n",
       "      <td>0.801</td>\n",
       "      <td>1.331</td>\n",
       "    </tr>\n",
       "    <tr>\n",
       "      <th>371</th>\n",
       "      <td>Nondemented</td>\n",
       "      <td>F</td>\n",
       "      <td>63</td>\n",
       "      <td>13</td>\n",
       "      <td>2.0</td>\n",
       "      <td>30.0</td>\n",
       "      <td>0.0</td>\n",
       "      <td>1327</td>\n",
       "      <td>0.796</td>\n",
       "      <td>1.323</td>\n",
       "    </tr>\n",
       "    <tr>\n",
       "      <th>372</th>\n",
       "      <td>Nondemented</td>\n",
       "      <td>F</td>\n",
       "      <td>65</td>\n",
       "      <td>13</td>\n",
       "      <td>2.0</td>\n",
       "      <td>30.0</td>\n",
       "      <td>0.0</td>\n",
       "      <td>1333</td>\n",
       "      <td>0.801</td>\n",
       "      <td>1.317</td>\n",
       "    </tr>\n",
       "  </tbody>\n",
       "</table>\n",
       "<p>373 rows × 10 columns</p>\n",
       "</div>"
      ],
      "text/plain": [
       "           Group M/F  Age  EDUC  SES  MMSE  CDR  eTIV   nWBV    ASF\n",
       "0    Nondemented   M   87    14  2.0  27.0  0.0  1987  0.696  0.883\n",
       "1    Nondemented   M   88    14  2.0  30.0  0.0  2004  0.681  0.876\n",
       "2       Demented   M   75    12  NaN  23.0  0.5  1678  0.736  1.046\n",
       "3       Demented   M   76    12  NaN  28.0  0.5  1738  0.713  1.010\n",
       "4       Demented   M   80    12  NaN  22.0  0.5  1698  0.701  1.034\n",
       "..           ...  ..  ...   ...  ...   ...  ...   ...    ...    ...\n",
       "368     Demented   M   82    16  1.0  28.0  0.5  1693  0.694  1.037\n",
       "369     Demented   M   86    16  1.0  26.0  0.5  1688  0.675  1.040\n",
       "370  Nondemented   F   61    13  2.0  30.0  0.0  1319  0.801  1.331\n",
       "371  Nondemented   F   63    13  2.0  30.0  0.0  1327  0.796  1.323\n",
       "372  Nondemented   F   65    13  2.0  30.0  0.0  1333  0.801  1.317\n",
       "\n",
       "[373 rows x 10 columns]"
      ]
     },
     "execution_count": 5,
     "metadata": {},
     "output_type": "execute_result"
    }
   ],
   "source": [
    "# Check data\n",
    "df"
   ]
  },
  {
   "cell_type": "markdown",
   "id": "d013ead4",
   "metadata": {},
   "source": [
    "## Summary of our data \n",
    "**df.info() prints information about a DataFrame including the index dtype and column dtypes, non-null values**"
   ]
  },
  {
   "cell_type": "code",
   "execution_count": 6,
   "id": "d429fca7",
   "metadata": {},
   "outputs": [
    {
     "name": "stdout",
     "output_type": "stream",
     "text": [
      "<class 'pandas.core.frame.DataFrame'>\n",
      "RangeIndex: 373 entries, 0 to 372\n",
      "Data columns (total 10 columns):\n",
      " #   Column  Non-Null Count  Dtype  \n",
      "---  ------  --------------  -----  \n",
      " 0   Group   373 non-null    object \n",
      " 1   M/F     373 non-null    object \n",
      " 2   Age     373 non-null    int64  \n",
      " 3   EDUC    373 non-null    int64  \n",
      " 4   SES     354 non-null    float64\n",
      " 5   MMSE    371 non-null    float64\n",
      " 6   CDR     373 non-null    float64\n",
      " 7   eTIV    373 non-null    int64  \n",
      " 8   nWBV    373 non-null    float64\n",
      " 9   ASF     373 non-null    float64\n",
      "dtypes: float64(5), int64(3), object(2)\n",
      "memory usage: 29.3+ KB\n"
     ]
    }
   ],
   "source": [
    "# Information about our dataset\n",
    "#df.info() prints information about the dataframe including the index dtype and column dtypes, non-null values \n",
    "#df.info()\n",
    "df.info()"
   ]
  },
  {
   "cell_type": "code",
   "execution_count": 7,
   "id": "52ea0620",
   "metadata": {},
   "outputs": [
    {
     "data": {
      "text/plain": [
       "(373, 10)"
      ]
     },
     "execution_count": 7,
     "metadata": {},
     "output_type": "execute_result"
    }
   ],
   "source": [
    "# shape of dataset\n",
    "df.shape"
   ]
  },
  {
   "cell_type": "markdown",
   "id": "e4fd296f",
   "metadata": {},
   "source": [
    "### Descriptive statistics\n",
    "\n",
    "**df.describe()** gives us a statistical summary for numerical columns in our DataFrame."
   ]
  },
  {
   "cell_type": "code",
   "execution_count": 8,
   "id": "e0ed2dcc",
   "metadata": {},
   "outputs": [
    {
     "data": {
      "text/html": [
       "<div>\n",
       "<style scoped>\n",
       "    .dataframe tbody tr th:only-of-type {\n",
       "        vertical-align: middle;\n",
       "    }\n",
       "\n",
       "    .dataframe tbody tr th {\n",
       "        vertical-align: top;\n",
       "    }\n",
       "\n",
       "    .dataframe thead th {\n",
       "        text-align: right;\n",
       "    }\n",
       "</style>\n",
       "<table border=\"1\" class=\"dataframe\">\n",
       "  <thead>\n",
       "    <tr style=\"text-align: right;\">\n",
       "      <th></th>\n",
       "      <th>Age</th>\n",
       "      <th>EDUC</th>\n",
       "      <th>SES</th>\n",
       "      <th>MMSE</th>\n",
       "      <th>CDR</th>\n",
       "      <th>eTIV</th>\n",
       "      <th>nWBV</th>\n",
       "      <th>ASF</th>\n",
       "    </tr>\n",
       "  </thead>\n",
       "  <tbody>\n",
       "    <tr>\n",
       "      <th>count</th>\n",
       "      <td>373.000000</td>\n",
       "      <td>373.000000</td>\n",
       "      <td>354.000000</td>\n",
       "      <td>371.000000</td>\n",
       "      <td>373.000000</td>\n",
       "      <td>373.000000</td>\n",
       "      <td>373.000000</td>\n",
       "      <td>373.000000</td>\n",
       "    </tr>\n",
       "    <tr>\n",
       "      <th>mean</th>\n",
       "      <td>77.013405</td>\n",
       "      <td>14.597855</td>\n",
       "      <td>2.460452</td>\n",
       "      <td>27.342318</td>\n",
       "      <td>0.290885</td>\n",
       "      <td>1488.128686</td>\n",
       "      <td>0.729568</td>\n",
       "      <td>1.195461</td>\n",
       "    </tr>\n",
       "    <tr>\n",
       "      <th>std</th>\n",
       "      <td>7.640957</td>\n",
       "      <td>2.876339</td>\n",
       "      <td>1.134005</td>\n",
       "      <td>3.683244</td>\n",
       "      <td>0.374557</td>\n",
       "      <td>176.139286</td>\n",
       "      <td>0.037135</td>\n",
       "      <td>0.138092</td>\n",
       "    </tr>\n",
       "    <tr>\n",
       "      <th>min</th>\n",
       "      <td>60.000000</td>\n",
       "      <td>6.000000</td>\n",
       "      <td>1.000000</td>\n",
       "      <td>4.000000</td>\n",
       "      <td>0.000000</td>\n",
       "      <td>1106.000000</td>\n",
       "      <td>0.644000</td>\n",
       "      <td>0.876000</td>\n",
       "    </tr>\n",
       "    <tr>\n",
       "      <th>25%</th>\n",
       "      <td>71.000000</td>\n",
       "      <td>12.000000</td>\n",
       "      <td>2.000000</td>\n",
       "      <td>27.000000</td>\n",
       "      <td>0.000000</td>\n",
       "      <td>1357.000000</td>\n",
       "      <td>0.700000</td>\n",
       "      <td>1.099000</td>\n",
       "    </tr>\n",
       "    <tr>\n",
       "      <th>50%</th>\n",
       "      <td>77.000000</td>\n",
       "      <td>15.000000</td>\n",
       "      <td>2.000000</td>\n",
       "      <td>29.000000</td>\n",
       "      <td>0.000000</td>\n",
       "      <td>1470.000000</td>\n",
       "      <td>0.729000</td>\n",
       "      <td>1.194000</td>\n",
       "    </tr>\n",
       "    <tr>\n",
       "      <th>75%</th>\n",
       "      <td>82.000000</td>\n",
       "      <td>16.000000</td>\n",
       "      <td>3.000000</td>\n",
       "      <td>30.000000</td>\n",
       "      <td>0.500000</td>\n",
       "      <td>1597.000000</td>\n",
       "      <td>0.756000</td>\n",
       "      <td>1.293000</td>\n",
       "    </tr>\n",
       "    <tr>\n",
       "      <th>max</th>\n",
       "      <td>98.000000</td>\n",
       "      <td>23.000000</td>\n",
       "      <td>5.000000</td>\n",
       "      <td>30.000000</td>\n",
       "      <td>2.000000</td>\n",
       "      <td>2004.000000</td>\n",
       "      <td>0.837000</td>\n",
       "      <td>1.587000</td>\n",
       "    </tr>\n",
       "  </tbody>\n",
       "</table>\n",
       "</div>"
      ],
      "text/plain": [
       "              Age        EDUC         SES        MMSE         CDR  \\\n",
       "count  373.000000  373.000000  354.000000  371.000000  373.000000   \n",
       "mean    77.013405   14.597855    2.460452   27.342318    0.290885   \n",
       "std      7.640957    2.876339    1.134005    3.683244    0.374557   \n",
       "min     60.000000    6.000000    1.000000    4.000000    0.000000   \n",
       "25%     71.000000   12.000000    2.000000   27.000000    0.000000   \n",
       "50%     77.000000   15.000000    2.000000   29.000000    0.000000   \n",
       "75%     82.000000   16.000000    3.000000   30.000000    0.500000   \n",
       "max     98.000000   23.000000    5.000000   30.000000    2.000000   \n",
       "\n",
       "              eTIV        nWBV         ASF  \n",
       "count   373.000000  373.000000  373.000000  \n",
       "mean   1488.128686    0.729568    1.195461  \n",
       "std     176.139286    0.037135    0.138092  \n",
       "min    1106.000000    0.644000    0.876000  \n",
       "25%    1357.000000    0.700000    1.099000  \n",
       "50%    1470.000000    0.729000    1.194000  \n",
       "75%    1597.000000    0.756000    1.293000  \n",
       "max    2004.000000    0.837000    1.587000  "
      ]
     },
     "execution_count": 8,
     "metadata": {},
     "output_type": "execute_result"
    }
   ],
   "source": [
    "# descriptive statistics for all numeric columns\n",
    "df.describe()"
   ]
  },
  {
   "cell_type": "markdown",
   "id": "99ed4c58",
   "metadata": {},
   "source": [
    "##  We can also display statistics for categorical features\n",
    "### use describe(include='O') for only categorical columns or describe(include='all') for both numerical and categorcal columns"
   ]
  },
  {
   "cell_type": "code",
   "execution_count": 9,
   "id": "7873eeef",
   "metadata": {},
   "outputs": [
    {
     "data": {
      "text/html": [
       "<div>\n",
       "<style scoped>\n",
       "    .dataframe tbody tr th:only-of-type {\n",
       "        vertical-align: middle;\n",
       "    }\n",
       "\n",
       "    .dataframe tbody tr th {\n",
       "        vertical-align: top;\n",
       "    }\n",
       "\n",
       "    .dataframe thead th {\n",
       "        text-align: right;\n",
       "    }\n",
       "</style>\n",
       "<table border=\"1\" class=\"dataframe\">\n",
       "  <thead>\n",
       "    <tr style=\"text-align: right;\">\n",
       "      <th></th>\n",
       "      <th>Group</th>\n",
       "      <th>M/F</th>\n",
       "      <th>Age</th>\n",
       "      <th>EDUC</th>\n",
       "      <th>SES</th>\n",
       "      <th>MMSE</th>\n",
       "      <th>CDR</th>\n",
       "      <th>eTIV</th>\n",
       "      <th>nWBV</th>\n",
       "      <th>ASF</th>\n",
       "    </tr>\n",
       "  </thead>\n",
       "  <tbody>\n",
       "    <tr>\n",
       "      <th>count</th>\n",
       "      <td>373</td>\n",
       "      <td>373</td>\n",
       "      <td>373.000000</td>\n",
       "      <td>373.000000</td>\n",
       "      <td>354.000000</td>\n",
       "      <td>371.000000</td>\n",
       "      <td>373.000000</td>\n",
       "      <td>373.000000</td>\n",
       "      <td>373.000000</td>\n",
       "      <td>373.000000</td>\n",
       "    </tr>\n",
       "    <tr>\n",
       "      <th>unique</th>\n",
       "      <td>3</td>\n",
       "      <td>2</td>\n",
       "      <td>NaN</td>\n",
       "      <td>NaN</td>\n",
       "      <td>NaN</td>\n",
       "      <td>NaN</td>\n",
       "      <td>NaN</td>\n",
       "      <td>NaN</td>\n",
       "      <td>NaN</td>\n",
       "      <td>NaN</td>\n",
       "    </tr>\n",
       "    <tr>\n",
       "      <th>top</th>\n",
       "      <td>Nondemented</td>\n",
       "      <td>F</td>\n",
       "      <td>NaN</td>\n",
       "      <td>NaN</td>\n",
       "      <td>NaN</td>\n",
       "      <td>NaN</td>\n",
       "      <td>NaN</td>\n",
       "      <td>NaN</td>\n",
       "      <td>NaN</td>\n",
       "      <td>NaN</td>\n",
       "    </tr>\n",
       "    <tr>\n",
       "      <th>freq</th>\n",
       "      <td>190</td>\n",
       "      <td>213</td>\n",
       "      <td>NaN</td>\n",
       "      <td>NaN</td>\n",
       "      <td>NaN</td>\n",
       "      <td>NaN</td>\n",
       "      <td>NaN</td>\n",
       "      <td>NaN</td>\n",
       "      <td>NaN</td>\n",
       "      <td>NaN</td>\n",
       "    </tr>\n",
       "    <tr>\n",
       "      <th>mean</th>\n",
       "      <td>NaN</td>\n",
       "      <td>NaN</td>\n",
       "      <td>77.013405</td>\n",
       "      <td>14.597855</td>\n",
       "      <td>2.460452</td>\n",
       "      <td>27.342318</td>\n",
       "      <td>0.290885</td>\n",
       "      <td>1488.128686</td>\n",
       "      <td>0.729568</td>\n",
       "      <td>1.195461</td>\n",
       "    </tr>\n",
       "    <tr>\n",
       "      <th>std</th>\n",
       "      <td>NaN</td>\n",
       "      <td>NaN</td>\n",
       "      <td>7.640957</td>\n",
       "      <td>2.876339</td>\n",
       "      <td>1.134005</td>\n",
       "      <td>3.683244</td>\n",
       "      <td>0.374557</td>\n",
       "      <td>176.139286</td>\n",
       "      <td>0.037135</td>\n",
       "      <td>0.138092</td>\n",
       "    </tr>\n",
       "    <tr>\n",
       "      <th>min</th>\n",
       "      <td>NaN</td>\n",
       "      <td>NaN</td>\n",
       "      <td>60.000000</td>\n",
       "      <td>6.000000</td>\n",
       "      <td>1.000000</td>\n",
       "      <td>4.000000</td>\n",
       "      <td>0.000000</td>\n",
       "      <td>1106.000000</td>\n",
       "      <td>0.644000</td>\n",
       "      <td>0.876000</td>\n",
       "    </tr>\n",
       "    <tr>\n",
       "      <th>25%</th>\n",
       "      <td>NaN</td>\n",
       "      <td>NaN</td>\n",
       "      <td>71.000000</td>\n",
       "      <td>12.000000</td>\n",
       "      <td>2.000000</td>\n",
       "      <td>27.000000</td>\n",
       "      <td>0.000000</td>\n",
       "      <td>1357.000000</td>\n",
       "      <td>0.700000</td>\n",
       "      <td>1.099000</td>\n",
       "    </tr>\n",
       "    <tr>\n",
       "      <th>50%</th>\n",
       "      <td>NaN</td>\n",
       "      <td>NaN</td>\n",
       "      <td>77.000000</td>\n",
       "      <td>15.000000</td>\n",
       "      <td>2.000000</td>\n",
       "      <td>29.000000</td>\n",
       "      <td>0.000000</td>\n",
       "      <td>1470.000000</td>\n",
       "      <td>0.729000</td>\n",
       "      <td>1.194000</td>\n",
       "    </tr>\n",
       "    <tr>\n",
       "      <th>75%</th>\n",
       "      <td>NaN</td>\n",
       "      <td>NaN</td>\n",
       "      <td>82.000000</td>\n",
       "      <td>16.000000</td>\n",
       "      <td>3.000000</td>\n",
       "      <td>30.000000</td>\n",
       "      <td>0.500000</td>\n",
       "      <td>1597.000000</td>\n",
       "      <td>0.756000</td>\n",
       "      <td>1.293000</td>\n",
       "    </tr>\n",
       "    <tr>\n",
       "      <th>max</th>\n",
       "      <td>NaN</td>\n",
       "      <td>NaN</td>\n",
       "      <td>98.000000</td>\n",
       "      <td>23.000000</td>\n",
       "      <td>5.000000</td>\n",
       "      <td>30.000000</td>\n",
       "      <td>2.000000</td>\n",
       "      <td>2004.000000</td>\n",
       "      <td>0.837000</td>\n",
       "      <td>1.587000</td>\n",
       "    </tr>\n",
       "  </tbody>\n",
       "</table>\n",
       "</div>"
      ],
      "text/plain": [
       "              Group  M/F         Age        EDUC         SES        MMSE  \\\n",
       "count           373  373  373.000000  373.000000  354.000000  371.000000   \n",
       "unique            3    2         NaN         NaN         NaN         NaN   \n",
       "top     Nondemented    F         NaN         NaN         NaN         NaN   \n",
       "freq            190  213         NaN         NaN         NaN         NaN   \n",
       "mean            NaN  NaN   77.013405   14.597855    2.460452   27.342318   \n",
       "std             NaN  NaN    7.640957    2.876339    1.134005    3.683244   \n",
       "min             NaN  NaN   60.000000    6.000000    1.000000    4.000000   \n",
       "25%             NaN  NaN   71.000000   12.000000    2.000000   27.000000   \n",
       "50%             NaN  NaN   77.000000   15.000000    2.000000   29.000000   \n",
       "75%             NaN  NaN   82.000000   16.000000    3.000000   30.000000   \n",
       "max             NaN  NaN   98.000000   23.000000    5.000000   30.000000   \n",
       "\n",
       "               CDR         eTIV        nWBV         ASF  \n",
       "count   373.000000   373.000000  373.000000  373.000000  \n",
       "unique         NaN          NaN         NaN         NaN  \n",
       "top            NaN          NaN         NaN         NaN  \n",
       "freq           NaN          NaN         NaN         NaN  \n",
       "mean      0.290885  1488.128686    0.729568    1.195461  \n",
       "std       0.374557   176.139286    0.037135    0.138092  \n",
       "min       0.000000  1106.000000    0.644000    0.876000  \n",
       "25%       0.000000  1357.000000    0.700000    1.099000  \n",
       "50%       0.000000  1470.000000    0.729000    1.194000  \n",
       "75%       0.500000  1597.000000    0.756000    1.293000  \n",
       "max       2.000000  2004.000000    0.837000    1.587000  "
      ]
     },
     "execution_count": 9,
     "metadata": {},
     "output_type": "execute_result"
    }
   ],
   "source": [
    "#show statistical summary for all data types\n",
    "df.describe(include='all')"
   ]
  },
  {
   "cell_type": "code",
   "execution_count": 10,
   "id": "a5e6d669",
   "metadata": {
    "scrolled": true
   },
   "outputs": [
    {
     "data": {
      "text/plain": [
       "F    213\n",
       "M    160\n",
       "Name: M/F, dtype: int64"
      ]
     },
     "execution_count": 10,
     "metadata": {},
     "output_type": "execute_result"
    }
   ],
   "source": [
    "df['M/F'].value_counts()"
   ]
  },
  {
   "cell_type": "markdown",
   "id": "569e3c08",
   "metadata": {},
   "source": [
    "# Feature Engineering"
   ]
  },
  {
   "cell_type": "markdown",
   "id": "7629ee82",
   "metadata": {},
   "source": [
    "### Imputing Missing data\n",
    "Missing data is seen as nan, na, null "
   ]
  },
  {
   "cell_type": "code",
   "execution_count": 11,
   "id": "9a69509c",
   "metadata": {
    "scrolled": true
   },
   "outputs": [
    {
     "data": {
      "text/plain": [
       "Group     0\n",
       "M/F       0\n",
       "Age       0\n",
       "EDUC      0\n",
       "SES      19\n",
       "MMSE      2\n",
       "CDR       0\n",
       "eTIV      0\n",
       "nWBV      0\n",
       "ASF       0\n",
       "dtype: int64"
      ]
     },
     "execution_count": 11,
     "metadata": {},
     "output_type": "execute_result"
    }
   ],
   "source": [
    "#return sum of missing values in each column\n",
    "df.isna().sum()\n"
   ]
  },
  {
   "cell_type": "markdown",
   "id": "e00eb409",
   "metadata": {},
   "source": [
    "## Social Economic Status 'SES ' COLUMN"
   ]
  },
  {
   "cell_type": "code",
   "execution_count": 12,
   "id": "e0d3ca8a",
   "metadata": {},
   "outputs": [],
   "source": [
    "#df.SES.mode()"
   ]
  },
  {
   "cell_type": "code",
   "execution_count": 13,
   "id": "04c4cedc",
   "metadata": {},
   "outputs": [
    {
     "data": {
      "text/plain": [
       "(array([ 2., nan,  3.,  4.,  1.,  5.]), dtype('float64'))"
      ]
     },
     "execution_count": 13,
     "metadata": {},
     "output_type": "execute_result"
    }
   ],
   "source": [
    "#display all the unique values in the SES column, and the data type of SES he column\n",
    "df['SES'].unique(), df['SES'].dtype"
   ]
  },
  {
   "cell_type": "code",
   "execution_count": 14,
   "id": "2770b096",
   "metadata": {
    "scrolled": true
   },
   "outputs": [
    {
     "data": {
      "text/plain": [
       "2.0    103\n",
       "1.0     88\n",
       "3.0     82\n",
       "4.0     74\n",
       "5.0      7\n",
       "Name: SES, dtype: int64"
      ]
     },
     "execution_count": 14,
     "metadata": {},
     "output_type": "execute_result"
    }
   ],
   "source": [
    "#Return a Series of counts of unique values in SES columns\n",
    "df['SES'].value_counts()"
   ]
  },
  {
   "cell_type": "markdown",
   "id": "5bdc1696",
   "metadata": {},
   "source": [
    "### Often we use mean to replace na values for numerical data"
   ]
  },
  {
   "cell_type": "code",
   "execution_count": 15,
   "id": "1e976dac",
   "metadata": {},
   "outputs": [],
   "source": [
    "from sklearn.impute import SimpleImputer\n",
    "imputer = SimpleImputer(strategy ='mean').fit_transform(df.SES.values.reshape(-1,1))"
   ]
  },
  {
   "cell_type": "code",
   "execution_count": 16,
   "id": "c05f7094",
   "metadata": {},
   "outputs": [],
   "source": [
    "#imputer"
   ]
  },
  {
   "cell_type": "code",
   "execution_count": 17,
   "id": "3830d843",
   "metadata": {},
   "outputs": [],
   "source": [
    "#replace SES values with imputer output\n",
    "df['SES'] = imputer"
   ]
  },
  {
   "cell_type": "code",
   "execution_count": 18,
   "id": "b8f569a1",
   "metadata": {},
   "outputs": [],
   "source": [
    "#df.SES.unique()"
   ]
  },
  {
   "cell_type": "code",
   "execution_count": 19,
   "id": "86ccc35c",
   "metadata": {},
   "outputs": [],
   "source": [
    "#we can also use fillna to fill nan values  with mean method directly\n",
    "#data.SES = data.SES.fillna(data.SES.mean())"
   ]
  },
  {
   "cell_type": "code",
   "execution_count": 20,
   "id": "89167b33",
   "metadata": {},
   "outputs": [
    {
     "data": {
      "text/plain": [
       "Group    0\n",
       "M/F      0\n",
       "Age      0\n",
       "EDUC     0\n",
       "SES      0\n",
       "MMSE     2\n",
       "CDR      0\n",
       "eTIV     0\n",
       "nWBV     0\n",
       "ASF      0\n",
       "dtype: int64"
      ]
     },
     "execution_count": 20,
     "metadata": {},
     "output_type": "execute_result"
    }
   ],
   "source": [
    "#check data again for  other na values\n",
    "df.isna().sum()"
   ]
  },
  {
   "cell_type": "markdown",
   "id": "e64dbfdf",
   "metadata": {},
   "source": [
    "## MMSE COLUMN\n"
   ]
  },
  {
   "cell_type": "code",
   "execution_count": 21,
   "id": "0c607d7e",
   "metadata": {},
   "outputs": [
    {
     "data": {
      "text/plain": [
       "array([27., 30., 23., 28., 22., 29., 24., 21., 16., 25., 26., 15., 20.,\n",
       "       19.,  7.,  4., 17., 18., nan])"
      ]
     },
     "execution_count": 21,
     "metadata": {},
     "output_type": "execute_result"
    }
   ],
   "source": [
    "df.MMSE.unique()"
   ]
  },
  {
   "cell_type": "code",
   "execution_count": 22,
   "id": "2e1dfa53",
   "metadata": {},
   "outputs": [],
   "source": [
    "# we can use SimpleImputer\n",
    "#from sklearn.impute import SimpleImputer\n",
    "#imputer = SimpleImputer(strategy ='mean').fit_transform(df.MMSE.values.reshape(-1,1))"
   ]
  },
  {
   "cell_type": "code",
   "execution_count": 23,
   "id": "d9d7ba96",
   "metadata": {},
   "outputs": [],
   "source": [
    "#df.MMSE.mean(),type(df.MMSE.mean())"
   ]
  },
  {
   "cell_type": "code",
   "execution_count": 24,
   "id": "bab2535d",
   "metadata": {},
   "outputs": [],
   "source": [
    "#np.mean(df.MMSE), type(np.mean(df.MMSE))"
   ]
  },
  {
   "cell_type": "code",
   "execution_count": 25,
   "id": "b43f8ae4",
   "metadata": {},
   "outputs": [],
   "source": [
    "df['MMSE'] = df['MMSE'].fillna(df.MMSE.mean())"
   ]
  },
  {
   "cell_type": "code",
   "execution_count": 26,
   "id": "0cd4d18f",
   "metadata": {
    "scrolled": true
   },
   "outputs": [
    {
     "data": {
      "text/plain": [
       "Group    0\n",
       "M/F      0\n",
       "Age      0\n",
       "EDUC     0\n",
       "SES      0\n",
       "MMSE     0\n",
       "CDR      0\n",
       "eTIV     0\n",
       "nWBV     0\n",
       "ASF      0\n",
       "dtype: int64"
      ]
     },
     "execution_count": 26,
     "metadata": {},
     "output_type": "execute_result"
    }
   ],
   "source": [
    "df.isnull().sum()"
   ]
  },
  {
   "cell_type": "code",
   "execution_count": 27,
   "id": "140ec205",
   "metadata": {},
   "outputs": [
    {
     "data": {
      "text/plain": [
       "Group    0\n",
       "M/F      0\n",
       "Age      0\n",
       "EDUC     0\n",
       "SES      0\n",
       "MMSE     0\n",
       "CDR      0\n",
       "eTIV     0\n",
       "nWBV     0\n",
       "ASF      0\n",
       "dtype: int64"
      ]
     },
     "execution_count": 27,
     "metadata": {},
     "output_type": "execute_result"
    }
   ],
   "source": [
    "df.isna().sum()"
   ]
  },
  {
   "cell_type": "code",
   "execution_count": 28,
   "id": "aedb74fe",
   "metadata": {
    "scrolled": true
   },
   "outputs": [
    {
     "data": {
      "text/plain": [
       "Group     object\n",
       "M/F       object\n",
       "Age        int64\n",
       "EDUC       int64\n",
       "SES      float64\n",
       "MMSE     float64\n",
       "CDR      float64\n",
       "eTIV       int64\n",
       "nWBV     float64\n",
       "ASF      float64\n",
       "dtype: object"
      ]
     },
     "execution_count": 28,
     "metadata": {},
     "output_type": "execute_result"
    }
   ],
   "source": [
    "data.dtypes"
   ]
  },
  {
   "cell_type": "markdown",
   "id": "9d72c762",
   "metadata": {},
   "source": [
    "# Visualization\n",
    "Trying to understand data by placing it in a visual context so that patterns, trends and correlations that might not otherwise be detected can be exposed.\n",
    "\n",
    "Understanding how variables in a dataset relate to each other and how those relationships depend on other variables. \n",
    "\n",
    "Visualization is a core component of statistical analysis because, when data are visualized properly, the human visual system can see trends and patterns that indicate a relationship"
   ]
  },
  {
   "cell_type": "markdown",
   "id": "47f3330b",
   "metadata": {},
   "source": [
    "### Feature Comparison and visualization \n"
   ]
  },
  {
   "cell_type": "code",
   "execution_count": null,
   "id": "bdba6d79",
   "metadata": {
    "scrolled": false
   },
   "outputs": [],
   "source": [
    "df.head()"
   ]
  },
  {
   "cell_type": "markdown",
   "id": "dbce7498",
   "metadata": {},
   "source": [
    "## Correlation between features\n",
    "Correlation is a statistical measure that expresses the extent to which two continuous variables are linearly related (meaning they change together at a constant rate)\n",
    "\n",
    "Correlation coefficients are indicators of the strength of the linear relationship between two different variables, x and y. A linear correlation coefficient that is greater than zero indicates a positive relationship. A value that is less than zero signifies a negative relationship. Finally, a value of zero indicates no relationship between the two variables x and y.\n",
    "\n",
    "However, when interpreting correlation, it's important to remember that just because two variables are correlated, it does not mean that one causes the other.\n",
    "\n",
    "Correlation can be an indicator of feature redundancy. We might want to remove the higly correlated features to reduce the **\"curse of dimensionality\"**\n",
    "\n",
    "If the data is very high dimensional, it may be too spread out to identify any trends or clusters. This is know as the curse of dimensionality.\n",
    "\n",
    "When reducing the dimensionality of the data, we will want to get rid of irrelevant or redundant features because when we have too many features, our observations become sparse(widely spaced), making it hard to detect trends in the data. \n",
    "\n",
    "Our model begins to simply memorize the training set based on the many features. We can also say our model is **overfiiting** or **fitting noise** instead of trend, because small random variations across many features results in observations being very separated."
   ]
  },
  {
   "cell_type": "code",
   "execution_count": 10,
   "id": "fd6e4bcd",
   "metadata": {},
   "outputs": [
    {
     "data": {
      "text/plain": [
       "<AxesSubplot:>"
      ]
     },
     "execution_count": 10,
     "metadata": {},
     "output_type": "execute_result"
    },
    {
     "data": {
      "image/png": "[encoded data removed]",
      "text/plain": [
       "<Figure size 720x576 with 2 Axes>"
      ]
     },
     "metadata": {
      "needs_background": "light"
     },
     "output_type": "display_data"
    }
   ],
   "source": [
    "\n",
    "plt.figure(figsize=(10,8))\n",
    "sns.heatmap(data.corr(), annot=True, vmax=1, linewidths=.5, cmap='summer')"
   ]
  },
  {
   "cell_type": "code",
   "execution_count": 239,
   "id": "26f3f391",
   "metadata": {},
   "outputs": [],
   "source": [
    "#plt.figure(figsize=(10,6))\n",
    "#sns.pairplot(data, hue='Group')\n"
   ]
  },
  {
   "cell_type": "markdown",
   "id": "6816c122",
   "metadata": {},
   "source": [
    "## Visualization with Discrete features : Group, M/F & SES, CDR\n",
    "Discrete features have data with specific and fixed data values determined by counting"
   ]
  },
  {
   "cell_type": "code",
   "execution_count": 182,
   "id": "942e5d3e",
   "metadata": {},
   "outputs": [],
   "source": [
    "# plt.figure(figsize=(6,6))\n",
    "# sns.countplot(x='M/F', hue='Group', data=df); #Group and Sex"
   ]
  },
  {
   "cell_type": "code",
   "execution_count": null,
   "id": "92873c25",
   "metadata": {},
   "outputs": [],
   "source": []
  },
  {
   "cell_type": "code",
   "execution_count": 18,
   "id": "6ed5bd4c",
   "metadata": {
    "scrolled": true
   },
   "outputs": [
    {
     "data": {
      "text/plain": [
       "Group        M/F\n",
       "Converted    F       24\n",
       "             M       13\n",
       "Demented     F       60\n",
       "             M       86\n",
       "Nondemented  F      129\n",
       "             M       61\n",
       "dtype: int64"
      ]
     },
     "execution_count": 18,
     "metadata": {},
     "output_type": "execute_result"
    }
   ],
   "source": [
    "# Group and Sex\n",
    "df.groupby(['Group', 'M/F']).size()"
   ]
  },
  {
   "cell_type": "code",
   "execution_count": null,
   "id": "55378779",
   "metadata": {},
   "outputs": [],
   "source": [
    "## GROUP and SES"
   ]
  },
  {
   "cell_type": "code",
   "execution_count": null,
   "id": "acf2231e",
   "metadata": {},
   "outputs": [],
   "source": [
    "#group SES and Group columns\n",
    "df.groupby(['SES','M/F']).size()"
   ]
  },
  {
   "cell_type": "code",
   "execution_count": null,
   "id": "22d7ff1c",
   "metadata": {},
   "outputs": [],
   "source": [
    "values = list(df.groupby(['SES','M/F']).size())"
   ]
  },
  {
   "cell_type": "code",
   "execution_count": 15,
   "id": "2b06f0a9",
   "metadata": {},
   "outputs": [
    {
     "data": {
      "text/plain": [
       "<AxesSubplot:xlabel='SES', ylabel='count'>"
      ]
     },
     "execution_count": 15,
     "metadata": {},
     "output_type": "execute_result"
    },
    {
     "data": {
      "image/png": "[encoded data removed]",
      "text/plain": [
       "<Figure size 1080x432 with 1 Axes>"
      ]
     },
     "metadata": {
      "needs_background": "light"
     },
     "output_type": "display_data"
    }
   ],
   "source": [
    "#plot for SES and Group\n",
    "plt.figure(figsize=(15,6))\n",
    "sns.countplot(data=df, x='SES', hue='Group')"
   ]
  },
  {
   "cell_type": "markdown",
   "id": "b50a9641",
   "metadata": {},
   "source": [
    "## CDR Clinical Dementia Rating\n",
    "0 = Normal, 0.5 = Very Mild Dementia, 1 = Mild Dementia, 2 = Moderate Dementia"
   ]
  },
  {
   "cell_type": "code",
   "execution_count": 220,
   "id": "ef44304d",
   "metadata": {},
   "outputs": [
    {
     "data": {
      "text/plain": [
       "CDR  Group      \n",
       "0.0  Converted       18\n",
       "     Nondemented    188\n",
       "0.5  Converted       19\n",
       "     Demented       102\n",
       "     Nondemented      2\n",
       "1.0  Demented        41\n",
       "2.0  Demented         3\n",
       "dtype: int64"
      ]
     },
     "execution_count": 220,
     "metadata": {},
     "output_type": "execute_result"
    }
   ],
   "source": [
    "df.groupby(['CDR', 'Group']).size()"
   ]
  },
  {
   "cell_type": "code",
   "execution_count": 222,
   "id": "56ceb474",
   "metadata": {
    "scrolled": true
   },
   "outputs": [
    {
     "data": {
      "text/plain": [
       "<AxesSubplot:xlabel='CDR', ylabel='count'>"
      ]
     },
     "execution_count": 222,
     "metadata": {},
     "output_type": "execute_result"
    },
    {
     "data": {
      "image/png": "[encoded data removed]",
      "text/plain": [
       "<Figure size 720x288 with 1 Axes>"
      ]
     },
     "metadata": {
      "needs_background": "light"
     },
     "output_type": "display_data"
    }
   ],
   "source": [
    "#CDR and Group\n",
    "plt.figure(figsize=(10,4))\n",
    "sns.countplot(data=df, x='CDR', hue='Group')"
   ]
  },
  {
   "cell_type": "markdown",
   "id": "4a0220b4",
   "metadata": {},
   "source": [
    "## Visualization with Continuous variables"
   ]
  },
  {
   "cell_type": "code",
   "execution_count": 240,
   "id": "2a8e53f4",
   "metadata": {},
   "outputs": [],
   "source": [
    "# numerical_columns = df[df.columns[df.dtypes!='O']]\n",
    "# numerical_columns.hist(figsize=(12,8));"
   ]
  },
  {
   "cell_type": "markdown",
   "id": "d2a81f16",
   "metadata": {
    "scrolled": true
   },
   "source": [
    "### MMSE  : Mini-Mental State Exam"
   ]
  },
  {
   "cell_type": "code",
   "execution_count": 180,
   "id": "ae8ce81e",
   "metadata": {},
   "outputs": [
    {
     "data": {
      "image/png": "[encoded data removed]",
      "text/plain": [
       "<Figure size 720x360 with 1 Axes>"
      ]
     },
     "metadata": {
      "needs_background": "light"
     },
     "output_type": "display_data"
    }
   ],
   "source": [
    "#MMSE and Age and Group\n",
    "plt.figure(figsize=(10,5))\n",
    "#plt.scatter(df.MMSE, df.Age) # Matplotlib\n",
    "sns.scatterplot(data=df, x='MMSE', y='Age', hue='Group')\n",
    "plt.grid()"
   ]
  },
  {
   "cell_type": "markdown",
   "id": "b7eed7fb",
   "metadata": {},
   "source": [
    "## eTIV: Estimated intracranial volume"
   ]
  },
  {
   "cell_type": "code",
   "execution_count": 187,
   "id": "f7e0131a",
   "metadata": {},
   "outputs": [],
   "source": [
    "#eTIV and Age\n",
    "#sns.scatterplot(data=df, x='eTIV', y='Age', hue='Group')"
   ]
  },
  {
   "cell_type": "code",
   "execution_count": 223,
   "id": "4b93b509",
   "metadata": {},
   "outputs": [
    {
     "data": {
      "text/plain": [
       "<AxesSubplot:xlabel='eTIV', ylabel='Age'>"
      ]
     },
     "execution_count": 223,
     "metadata": {},
     "output_type": "execute_result"
    },
    {
     "data": {
      "image/png": "[encoded data removed]",
      "text/plain": [
       "<Figure size 432x288 with 1 Axes>"
      ]
     },
     "metadata": {
      "needs_background": "light"
     },
     "output_type": "display_data"
    }
   ],
   "source": [
    "#eTIV and Sex\n",
    "sns.scatterplot(data=df, x='eTIV', y='Age', hue='M/F')"
   ]
  },
  {
   "cell_type": "code",
   "execution_count": 238,
   "id": "f753a67a",
   "metadata": {},
   "outputs": [],
   "source": [
    "#eTIVand ASF\n",
    "#sns.scatterplot(data=df, x='ASF', y='eTIV', hue='M/F')"
   ]
  },
  {
   "cell_type": "markdown",
   "id": "62f0cb26",
   "metadata": {},
   "source": [
    "### Conclusion: Females have a low eTIV compared to men"
   ]
  },
  {
   "cell_type": "markdown",
   "id": "51959e63",
   "metadata": {},
   "source": [
    "### Age "
   ]
  },
  {
   "cell_type": "code",
   "execution_count": 261,
   "id": "a697e228",
   "metadata": {},
   "outputs": [
    {
     "data": {
      "text/plain": [
       "<AxesSubplot:xlabel='Age', ylabel='Count'>"
      ]
     },
     "execution_count": 261,
     "metadata": {},
     "output_type": "execute_result"
    },
    {
     "data": {
      "image/png": "[encoded data removed]",
      "text/plain": [
       "<Figure size 432x288 with 1 Axes>"
      ]
     },
     "metadata": {
      "needs_background": "light"
     },
     "output_type": "display_data"
    }
   ],
   "source": [
    "#plot histogram to show frequency of ages\n",
    "# plt.figure()\n",
    "# plt.hist(data.Age, density=True)\n",
    "# plt.ylabel('Probability distribution')\n",
    "# plt.xlabel('Age')\n",
    "sns.histplot(data=df, x='Age')#, kde=True, stat='probability');"
   ]
  },
  {
   "cell_type": "code",
   "execution_count": null,
   "id": "6309d433",
   "metadata": {},
   "outputs": [],
   "source": []
  },
  {
   "cell_type": "markdown",
   "id": "f8b2037e",
   "metadata": {},
   "source": [
    "## Age data is normally distributed, so we can draw a normal distribution curve to show the probability distribution of Ages"
   ]
  },
  {
   "cell_type": "code",
   "execution_count": null,
   "id": "cd1596c5",
   "metadata": {},
   "outputs": [],
   "source": [
    "#df[['Group', 'M/F','Age']].groupby(['Group','M/F', '']).size()#/data.shape[0]"
   ]
  },
  {
   "cell_type": "markdown",
   "id": "b2621271",
   "metadata": {},
   "source": [
    "### kde plot\n",
    "KDE Plot described as Kernel Density Estimate is used for visualizing the Probability Density of a continuous variable. It depicts the probability density at different values in a continuous variable\n",
    "kernel density estimation (KDE) is a non-parametric way to estimate the probability density function of a random variable"
   ]
  },
  {
   "cell_type": "code",
   "execution_count": 262,
   "id": "cc19d690",
   "metadata": {},
   "outputs": [
    {
     "data": {
      "text/plain": [
       "<AxesSubplot:xlabel='Age', ylabel='Density'>"
      ]
     },
     "execution_count": 262,
     "metadata": {},
     "output_type": "execute_result"
    },
    {
     "data": {
      "image/png": "[encoded data removed]",
      "text/plain": [
       "<Figure size 432x288 with 1 Axes>"
      ]
     },
     "metadata": {
      "needs_background": "light"
     },
     "output_type": "display_data"
    }
   ],
   "source": [
    "#kde density function of ages for different groups\n",
    "sns.kdeplot(data=df, x='Age')#, hue='Group')"
   ]
  },
  {
   "cell_type": "markdown",
   "id": "cc304378",
   "metadata": {},
   "source": [
    "### We can also draw a Box plot\n",
    "Visually show the distribution of numerical data and skewness through displaying the data quartiles (or percentiles) and averages.\n",
    "\n",
    "Box plots show the five-number summary of a set of data: including the minimum score, first (lower) quartile, median, third (upper) quartile, and maximum score.\n",
    "\n",
    "The box plot shape will show if a statistical data set is normally distributed or skewed.\n",
    "\n",
    "They show **outliers** within a data set. **An outlier is an observation that is numerically distant from the rest of the data.**"
   ]
  },
  {
   "cell_type": "code",
   "execution_count": 264,
   "id": "0f681d83",
   "metadata": {},
   "outputs": [
    {
     "data": {
      "text/plain": [
       "<AxesSubplot:xlabel='Group', ylabel='Age'>"
      ]
     },
     "execution_count": 264,
     "metadata": {},
     "output_type": "execute_result"
    },
    {
     "data": {
      "image/png": "[encoded data removed]",
      "text/plain": [
       "<Figure size 1080x360 with 1 Axes>"
      ]
     },
     "metadata": {
      "needs_background": "light"
     },
     "output_type": "display_data"
    }
   ],
   "source": [
    "plt.figure(figsize=(15,5))\n",
    "\n",
    "plt.grid()\n",
    "sns.boxplot(data=df, x='Group',y='Age', hue='M/F')"
   ]
  },
  {
   "cell_type": "code",
   "execution_count": 284,
   "id": "43138f76",
   "metadata": {},
   "outputs": [
    {
     "data": {
      "text/plain": [
       "<AxesSubplot:xlabel='Group', ylabel='Age'>"
      ]
     },
     "execution_count": 284,
     "metadata": {},
     "output_type": "execute_result"
    },
    {
     "data": {
      "image/png": "[encoded data removed]",
      "text/plain": [
       "<Figure size 1080x432 with 1 Axes>"
      ]
     },
     "metadata": {
      "needs_background": "light"
     },
     "output_type": "display_data"
    }
   ],
   "source": [
    "#plot kde and boxplot\n",
    "plt.figure(figsize=(15,6))\n",
    "plt.grid()\n",
    "sns.violinplot(data=df, x='Group', y='Age',hue='M/F')"
   ]
  },
  {
   "cell_type": "markdown",
   "id": "7e2edb9d",
   "metadata": {},
   "source": [
    "# Feature Selection and Feature Extraction\n",
    "Feature selection, also known as variable selection, is the process of selecting a subset of relevant features (variables, predictors) for use in model construction.\n",
    "\n",
    "Feature extraction is for creating a new, smaller set of features that still captures most of the useful information."
   ]
  },
  {
   "cell_type": "markdown",
   "id": "fde83741",
   "metadata": {},
   "source": [
    "## Categorical features"
   ]
  },
  {
   "cell_type": "code",
   "execution_count": 285,
   "id": "d160dc54",
   "metadata": {
    "scrolled": true
   },
   "outputs": [
    {
     "data": {
      "text/plain": [
       "Index(['Group', 'M/F'], dtype='object')"
      ]
     },
     "execution_count": 285,
     "metadata": {},
     "output_type": "execute_result"
    }
   ],
   "source": [
    "categorical_features = df.columns[data.dtypes == 'O']\n",
    "categorical_features"
   ]
  },
  {
   "cell_type": "code",
   "execution_count": 286,
   "id": "3fc74ba2",
   "metadata": {},
   "outputs": [],
   "source": [
    "new_df = df.copy()"
   ]
  },
  {
   "cell_type": "code",
   "execution_count": 287,
   "id": "faac6e00",
   "metadata": {},
   "outputs": [
    {
     "data": {
      "text/html": [
       "<div>\n",
       "<style scoped>\n",
       "    .dataframe tbody tr th:only-of-type {\n",
       "        vertical-align: middle;\n",
       "    }\n",
       "\n",
       "    .dataframe tbody tr th {\n",
       "        vertical-align: top;\n",
       "    }\n",
       "\n",
       "    .dataframe thead th {\n",
       "        text-align: right;\n",
       "    }\n",
       "</style>\n",
       "<table border=\"1\" class=\"dataframe\">\n",
       "  <thead>\n",
       "    <tr style=\"text-align: right;\">\n",
       "      <th></th>\n",
       "      <th>Group</th>\n",
       "      <th>M/F</th>\n",
       "      <th>Age</th>\n",
       "      <th>EDUC</th>\n",
       "      <th>SES</th>\n",
       "      <th>MMSE</th>\n",
       "      <th>CDR</th>\n",
       "      <th>eTIV</th>\n",
       "      <th>nWBV</th>\n",
       "      <th>ASF</th>\n",
       "    </tr>\n",
       "  </thead>\n",
       "  <tbody>\n",
       "    <tr>\n",
       "      <th>0</th>\n",
       "      <td>Nondemented</td>\n",
       "      <td>M</td>\n",
       "      <td>87</td>\n",
       "      <td>14</td>\n",
       "      <td>2.000000</td>\n",
       "      <td>27.0</td>\n",
       "      <td>0.0</td>\n",
       "      <td>1987</td>\n",
       "      <td>0.696</td>\n",
       "      <td>0.883</td>\n",
       "    </tr>\n",
       "    <tr>\n",
       "      <th>1</th>\n",
       "      <td>Nondemented</td>\n",
       "      <td>M</td>\n",
       "      <td>88</td>\n",
       "      <td>14</td>\n",
       "      <td>2.000000</td>\n",
       "      <td>30.0</td>\n",
       "      <td>0.0</td>\n",
       "      <td>2004</td>\n",
       "      <td>0.681</td>\n",
       "      <td>0.876</td>\n",
       "    </tr>\n",
       "    <tr>\n",
       "      <th>2</th>\n",
       "      <td>Demented</td>\n",
       "      <td>M</td>\n",
       "      <td>75</td>\n",
       "      <td>12</td>\n",
       "      <td>2.460452</td>\n",
       "      <td>23.0</td>\n",
       "      <td>0.5</td>\n",
       "      <td>1678</td>\n",
       "      <td>0.736</td>\n",
       "      <td>1.046</td>\n",
       "    </tr>\n",
       "    <tr>\n",
       "      <th>3</th>\n",
       "      <td>Demented</td>\n",
       "      <td>M</td>\n",
       "      <td>76</td>\n",
       "      <td>12</td>\n",
       "      <td>2.460452</td>\n",
       "      <td>28.0</td>\n",
       "      <td>0.5</td>\n",
       "      <td>1738</td>\n",
       "      <td>0.713</td>\n",
       "      <td>1.010</td>\n",
       "    </tr>\n",
       "    <tr>\n",
       "      <th>4</th>\n",
       "      <td>Demented</td>\n",
       "      <td>M</td>\n",
       "      <td>80</td>\n",
       "      <td>12</td>\n",
       "      <td>2.460452</td>\n",
       "      <td>22.0</td>\n",
       "      <td>0.5</td>\n",
       "      <td>1698</td>\n",
       "      <td>0.701</td>\n",
       "      <td>1.034</td>\n",
       "    </tr>\n",
       "  </tbody>\n",
       "</table>\n",
       "</div>"
      ],
      "text/plain": [
       "         Group M/F  Age  EDUC       SES  MMSE  CDR  eTIV   nWBV    ASF\n",
       "0  Nondemented   M   87    14  2.000000  27.0  0.0  1987  0.696  0.883\n",
       "1  Nondemented   M   88    14  2.000000  30.0  0.0  2004  0.681  0.876\n",
       "2     Demented   M   75    12  2.460452  23.0  0.5  1678  0.736  1.046\n",
       "3     Demented   M   76    12  2.460452  28.0  0.5  1738  0.713  1.010\n",
       "4     Demented   M   80    12  2.460452  22.0  0.5  1698  0.701  1.034"
      ]
     },
     "execution_count": 287,
     "metadata": {},
     "output_type": "execute_result"
    }
   ],
   "source": [
    "new_df.head()"
   ]
  },
  {
   "cell_type": "code",
   "execution_count": 320,
   "id": "65d967a4",
   "metadata": {},
   "outputs": [],
   "source": [
    "X = new_df.drop(['Group'], axis=1)\n",
    "y = new_df.Group"
   ]
  },
  {
   "cell_type": "code",
   "execution_count": 321,
   "id": "ef010131",
   "metadata": {
    "scrolled": true
   },
   "outputs": [],
   "source": [
    "#X"
   ]
  },
  {
   "cell_type": "code",
   "execution_count": 322,
   "id": "d602822f",
   "metadata": {},
   "outputs": [],
   "source": [
    "#y"
   ]
  },
  {
   "cell_type": "code",
   "execution_count": 323,
   "id": "44c0f594",
   "metadata": {},
   "outputs": [],
   "source": [
    "from sklearn.preprocessing import LabelEncoder, OneHotEncoder\n",
    "from sklearn.compose import ColumnTransformer"
   ]
  },
  {
   "cell_type": "code",
   "execution_count": 324,
   "id": "99b7b9f7",
   "metadata": {},
   "outputs": [],
   "source": [
    "le = LabelEncoder()\n",
    "y= le.fit_transform(y)"
   ]
  },
  {
   "cell_type": "code",
   "execution_count": 325,
   "id": "1492449e",
   "metadata": {},
   "outputs": [],
   "source": [
    "#le.classes_"
   ]
  },
  {
   "cell_type": "code",
   "execution_count": 326,
   "id": "0379e847",
   "metadata": {},
   "outputs": [],
   "source": [
    "ohe = OneHotEncoder(sparse=False)\n",
    "\n",
    "ct = ColumnTransformer([\n",
    "    ('encoder', ohe,['M/F'])], \n",
    "    remainder= 'passthrough')"
   ]
  },
  {
   "cell_type": "code",
   "execution_count": 327,
   "id": "0f51ec90",
   "metadata": {},
   "outputs": [],
   "source": [
    "X_encoded = ct.fit_transform(X)"
   ]
  },
  {
   "cell_type": "code",
   "execution_count": 329,
   "id": "9c58bebe",
   "metadata": {},
   "outputs": [],
   "source": [
    "#ct.get_feature_names()"
   ]
  },
  {
   "cell_type": "code",
   "execution_count": 330,
   "id": "4e9a39ec",
   "metadata": {},
   "outputs": [],
   "source": [
    "X = pd.DataFrame(X_encoded, columns=ct.get_feature_names())"
   ]
  },
  {
   "cell_type": "code",
   "execution_count": 331,
   "id": "be6997e8",
   "metadata": {
    "scrolled": true
   },
   "outputs": [
    {
     "data": {
      "text/html": [
       "<div>\n",
       "<style scoped>\n",
       "    .dataframe tbody tr th:only-of-type {\n",
       "        vertical-align: middle;\n",
       "    }\n",
       "\n",
       "    .dataframe tbody tr th {\n",
       "        vertical-align: top;\n",
       "    }\n",
       "\n",
       "    .dataframe thead th {\n",
       "        text-align: right;\n",
       "    }\n",
       "</style>\n",
       "<table border=\"1\" class=\"dataframe\">\n",
       "  <thead>\n",
       "    <tr style=\"text-align: right;\">\n",
       "      <th></th>\n",
       "      <th>encoder__x0_F</th>\n",
       "      <th>encoder__x0_M</th>\n",
       "      <th>Age</th>\n",
       "      <th>EDUC</th>\n",
       "      <th>SES</th>\n",
       "      <th>MMSE</th>\n",
       "      <th>CDR</th>\n",
       "      <th>eTIV</th>\n",
       "      <th>nWBV</th>\n",
       "      <th>ASF</th>\n",
       "    </tr>\n",
       "  </thead>\n",
       "  <tbody>\n",
       "    <tr>\n",
       "      <th>0</th>\n",
       "      <td>0.0</td>\n",
       "      <td>1.0</td>\n",
       "      <td>87.0</td>\n",
       "      <td>14.0</td>\n",
       "      <td>2.000000</td>\n",
       "      <td>27.0</td>\n",
       "      <td>0.0</td>\n",
       "      <td>1987.0</td>\n",
       "      <td>0.696</td>\n",
       "      <td>0.883</td>\n",
       "    </tr>\n",
       "    <tr>\n",
       "      <th>1</th>\n",
       "      <td>0.0</td>\n",
       "      <td>1.0</td>\n",
       "      <td>88.0</td>\n",
       "      <td>14.0</td>\n",
       "      <td>2.000000</td>\n",
       "      <td>30.0</td>\n",
       "      <td>0.0</td>\n",
       "      <td>2004.0</td>\n",
       "      <td>0.681</td>\n",
       "      <td>0.876</td>\n",
       "    </tr>\n",
       "    <tr>\n",
       "      <th>2</th>\n",
       "      <td>0.0</td>\n",
       "      <td>1.0</td>\n",
       "      <td>75.0</td>\n",
       "      <td>12.0</td>\n",
       "      <td>2.460452</td>\n",
       "      <td>23.0</td>\n",
       "      <td>0.5</td>\n",
       "      <td>1678.0</td>\n",
       "      <td>0.736</td>\n",
       "      <td>1.046</td>\n",
       "    </tr>\n",
       "    <tr>\n",
       "      <th>3</th>\n",
       "      <td>0.0</td>\n",
       "      <td>1.0</td>\n",
       "      <td>76.0</td>\n",
       "      <td>12.0</td>\n",
       "      <td>2.460452</td>\n",
       "      <td>28.0</td>\n",
       "      <td>0.5</td>\n",
       "      <td>1738.0</td>\n",
       "      <td>0.713</td>\n",
       "      <td>1.010</td>\n",
       "    </tr>\n",
       "    <tr>\n",
       "      <th>4</th>\n",
       "      <td>0.0</td>\n",
       "      <td>1.0</td>\n",
       "      <td>80.0</td>\n",
       "      <td>12.0</td>\n",
       "      <td>2.460452</td>\n",
       "      <td>22.0</td>\n",
       "      <td>0.5</td>\n",
       "      <td>1698.0</td>\n",
       "      <td>0.701</td>\n",
       "      <td>1.034</td>\n",
       "    </tr>\n",
       "  </tbody>\n",
       "</table>\n",
       "</div>"
      ],
      "text/plain": [
       "   encoder__x0_F  encoder__x0_M   Age  EDUC       SES  MMSE  CDR    eTIV  \\\n",
       "0            0.0            1.0  87.0  14.0  2.000000  27.0  0.0  1987.0   \n",
       "1            0.0            1.0  88.0  14.0  2.000000  30.0  0.0  2004.0   \n",
       "2            0.0            1.0  75.0  12.0  2.460452  23.0  0.5  1678.0   \n",
       "3            0.0            1.0  76.0  12.0  2.460452  28.0  0.5  1738.0   \n",
       "4            0.0            1.0  80.0  12.0  2.460452  22.0  0.5  1698.0   \n",
       "\n",
       "    nWBV    ASF  \n",
       "0  0.696  0.883  \n",
       "1  0.681  0.876  \n",
       "2  0.736  1.046  \n",
       "3  0.713  1.010  \n",
       "4  0.701  1.034  "
      ]
     },
     "execution_count": 331,
     "metadata": {},
     "output_type": "execute_result"
    }
   ],
   "source": [
    "X.head()"
   ]
  },
  {
   "cell_type": "code",
   "execution_count": 332,
   "id": "68361185",
   "metadata": {},
   "outputs": [
    {
     "name": "stdout",
     "output_type": "stream",
     "text": [
      "(373, 10) (373,)\n"
     ]
    }
   ],
   "source": [
    "print (X.shape, y.shape)"
   ]
  },
  {
   "cell_type": "code",
   "execution_count": null,
   "id": "65204a83",
   "metadata": {},
   "outputs": [],
   "source": []
  }
 ],
 "metadata": {
  "kernelspec": {
   "display_name": "Python 3",
   "language": "python",
   "name": "python3"
  },
  "language_info": {
   "codemirror_mode": {
    "name": "ipython",
    "version": 3
   },
   "file_extension": ".py",
   "mimetype": "text/x-python",
   "name": "python",
   "nbconvert_exporter": "python",
   "pygments_lexer": "ipython3",
   "version": "3.8.8"
  }
 },
 "nbformat": 4,
 "nbformat_minor": 5
}
