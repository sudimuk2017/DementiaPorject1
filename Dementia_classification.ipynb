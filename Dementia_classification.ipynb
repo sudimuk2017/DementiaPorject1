{
 "cells": [
  {
   "cell_type": "markdown",
   "metadata": {},
   "source": [
    "### Import Libraries"
   ]
  },
  {
   "cell_type": "code",
   "execution_count": 107,
   "metadata": {},
   "outputs": [],
   "source": [
    "# For Data Analysis and Wrangling\n",
    "import pandas as pd\n",
    "import numpy as np\n",
    "from scipy.stats import mode \n",
    "\n",
    "# For Data Visualization\n",
    "import matplotlib.pyplot as plt\n",
    "import seaborn as sns"
   ]
  },
  {
   "cell_type": "markdown",
   "metadata": {},
   "source": [
    "### Load data"
   ]
  },
  {
   "cell_type": "code",
   "execution_count": 108,
   "metadata": {},
   "outputs": [
    {
     "data": {
      "text/html": [
       "<div>\n",
       "<style scoped>\n",
       "    .dataframe tbody tr th:only-of-type {\n",
       "        vertical-align: middle;\n",
       "    }\n",
       "\n",
       "    .dataframe tbody tr th {\n",
       "        vertical-align: top;\n",
       "    }\n",
       "\n",
       "    .dataframe thead th {\n",
       "        text-align: right;\n",
       "    }\n",
       "</style>\n",
       "<table border=\"1\" class=\"dataframe\">\n",
       "  <thead>\n",
       "    <tr style=\"text-align: right;\">\n",
       "      <th></th>\n",
       "      <th>Group</th>\n",
       "      <th>M/F</th>\n",
       "      <th>Age</th>\n",
       "      <th>EDUC</th>\n",
       "      <th>SES</th>\n",
       "      <th>MMSE</th>\n",
       "      <th>CDR</th>\n",
       "      <th>eTIV</th>\n",
       "      <th>nWBV</th>\n",
       "      <th>ASF</th>\n",
       "    </tr>\n",
       "  </thead>\n",
       "  <tbody>\n",
       "    <tr>\n",
       "      <th>0</th>\n",
       "      <td>Nondemented</td>\n",
       "      <td>M</td>\n",
       "      <td>87</td>\n",
       "      <td>14</td>\n",
       "      <td>2.0</td>\n",
       "      <td>27.0</td>\n",
       "      <td>0.0</td>\n",
       "      <td>1987</td>\n",
       "      <td>0.696</td>\n",
       "      <td>0.883</td>\n",
       "    </tr>\n",
       "    <tr>\n",
       "      <th>1</th>\n",
       "      <td>Nondemented</td>\n",
       "      <td>M</td>\n",
       "      <td>88</td>\n",
       "      <td>14</td>\n",
       "      <td>2.0</td>\n",
       "      <td>30.0</td>\n",
       "      <td>0.0</td>\n",
       "      <td>2004</td>\n",
       "      <td>0.681</td>\n",
       "      <td>0.876</td>\n",
       "    </tr>\n",
       "    <tr>\n",
       "      <th>2</th>\n",
       "      <td>Demented</td>\n",
       "      <td>M</td>\n",
       "      <td>75</td>\n",
       "      <td>12</td>\n",
       "      <td>NaN</td>\n",
       "      <td>23.0</td>\n",
       "      <td>0.5</td>\n",
       "      <td>1678</td>\n",
       "      <td>0.736</td>\n",
       "      <td>1.046</td>\n",
       "    </tr>\n",
       "    <tr>\n",
       "      <th>3</th>\n",
       "      <td>Demented</td>\n",
       "      <td>M</td>\n",
       "      <td>76</td>\n",
       "      <td>12</td>\n",
       "      <td>NaN</td>\n",
       "      <td>28.0</td>\n",
       "      <td>0.5</td>\n",
       "      <td>1738</td>\n",
       "      <td>0.713</td>\n",
       "      <td>1.010</td>\n",
       "    </tr>\n",
       "    <tr>\n",
       "      <th>4</th>\n",
       "      <td>Demented</td>\n",
       "      <td>M</td>\n",
       "      <td>80</td>\n",
       "      <td>12</td>\n",
       "      <td>NaN</td>\n",
       "      <td>22.0</td>\n",
       "      <td>0.5</td>\n",
       "      <td>1698</td>\n",
       "      <td>0.701</td>\n",
       "      <td>1.034</td>\n",
       "    </tr>\n",
       "  </tbody>\n",
       "</table>\n",
       "</div>"
      ],
      "text/plain": [
       "         Group M/F  Age  EDUC  SES  MMSE  CDR  eTIV   nWBV    ASF\n",
       "0  Nondemented   M   87    14  2.0  27.0  0.0  1987  0.696  0.883\n",
       "1  Nondemented   M   88    14  2.0  30.0  0.0  2004  0.681  0.876\n",
       "2     Demented   M   75    12  NaN  23.0  0.5  1678  0.736  1.046\n",
       "3     Demented   M   76    12  NaN  28.0  0.5  1738  0.713  1.010\n",
       "4     Demented   M   80    12  NaN  22.0  0.5  1698  0.701  1.034"
      ]
     },
     "execution_count": 108,
     "metadata": {},
     "output_type": "execute_result"
    }
   ],
   "source": [
    "df = pd.read_csv('alzheimer.csv')\n",
    "df = df.copy()\n",
    "df.head()"
   ]
  },
  {
   "cell_type": "code",
   "execution_count": null,
   "metadata": {},
   "outputs": [],
   "source": []
  },
  {
   "cell_type": "code",
   "execution_count": null,
   "metadata": {},
   "outputs": [],
   "source": []
  },
  {
   "cell_type": "markdown",
   "metadata": {},
   "source": [
    "# Exploratory data analysis"
   ]
  },
  {
   "cell_type": "code",
   "execution_count": 109,
   "metadata": {},
   "outputs": [
    {
     "data": {
      "text/plain": [
       "(373, 10)"
      ]
     },
     "execution_count": 109,
     "metadata": {},
     "output_type": "execute_result"
    }
   ],
   "source": [
    "df.shape # data shape"
   ]
  },
  {
   "cell_type": "markdown",
   "metadata": {},
   "source": [
    "#### Summary of our data"
   ]
  },
  {
   "cell_type": "code",
   "execution_count": 110,
   "metadata": {},
   "outputs": [
    {
     "name": "stdout",
     "output_type": "stream",
     "text": [
      "<class 'pandas.core.frame.DataFrame'>\n",
      "RangeIndex: 373 entries, 0 to 372\n",
      "Data columns (total 10 columns):\n",
      " #   Column  Non-Null Count  Dtype  \n",
      "---  ------  --------------  -----  \n",
      " 0   Group   373 non-null    object \n",
      " 1   M/F     373 non-null    object \n",
      " 2   Age     373 non-null    int64  \n",
      " 3   EDUC    373 non-null    int64  \n",
      " 4   SES     354 non-null    float64\n",
      " 5   MMSE    371 non-null    float64\n",
      " 6   CDR     373 non-null    float64\n",
      " 7   eTIV    373 non-null    int64  \n",
      " 8   nWBV    373 non-null    float64\n",
      " 9   ASF     373 non-null    float64\n",
      "dtypes: float64(5), int64(3), object(2)\n",
      "memory usage: 29.3+ KB\n"
     ]
    }
   ],
   "source": [
    "df.info() #prints information about a DataFrame including the index dtype and column dtypes, non-null values"
   ]
  },
  {
   "cell_type": "markdown",
   "metadata": {},
   "source": [
    "#### Descriptive statistics"
   ]
  },
  {
   "cell_type": "code",
   "execution_count": 111,
   "metadata": {},
   "outputs": [
    {
     "data": {
      "text/html": [
       "<div>\n",
       "<style scoped>\n",
       "    .dataframe tbody tr th:only-of-type {\n",
       "        vertical-align: middle;\n",
       "    }\n",
       "\n",
       "    .dataframe tbody tr th {\n",
       "        vertical-align: top;\n",
       "    }\n",
       "\n",
       "    .dataframe thead th {\n",
       "        text-align: right;\n",
       "    }\n",
       "</style>\n",
       "<table border=\"1\" class=\"dataframe\">\n",
       "  <thead>\n",
       "    <tr style=\"text-align: right;\">\n",
       "      <th></th>\n",
       "      <th>Age</th>\n",
       "      <th>EDUC</th>\n",
       "      <th>SES</th>\n",
       "      <th>MMSE</th>\n",
       "      <th>CDR</th>\n",
       "      <th>eTIV</th>\n",
       "      <th>nWBV</th>\n",
       "      <th>ASF</th>\n",
       "    </tr>\n",
       "  </thead>\n",
       "  <tbody>\n",
       "    <tr>\n",
       "      <th>count</th>\n",
       "      <td>373.000000</td>\n",
       "      <td>373.000000</td>\n",
       "      <td>354.000000</td>\n",
       "      <td>371.000000</td>\n",
       "      <td>373.000000</td>\n",
       "      <td>373.000000</td>\n",
       "      <td>373.000000</td>\n",
       "      <td>373.000000</td>\n",
       "    </tr>\n",
       "    <tr>\n",
       "      <th>mean</th>\n",
       "      <td>77.013405</td>\n",
       "      <td>14.597855</td>\n",
       "      <td>2.460452</td>\n",
       "      <td>27.342318</td>\n",
       "      <td>0.290885</td>\n",
       "      <td>1488.128686</td>\n",
       "      <td>0.729568</td>\n",
       "      <td>1.195461</td>\n",
       "    </tr>\n",
       "    <tr>\n",
       "      <th>std</th>\n",
       "      <td>7.640957</td>\n",
       "      <td>2.876339</td>\n",
       "      <td>1.134005</td>\n",
       "      <td>3.683244</td>\n",
       "      <td>0.374557</td>\n",
       "      <td>176.139286</td>\n",
       "      <td>0.037135</td>\n",
       "      <td>0.138092</td>\n",
       "    </tr>\n",
       "    <tr>\n",
       "      <th>min</th>\n",
       "      <td>60.000000</td>\n",
       "      <td>6.000000</td>\n",
       "      <td>1.000000</td>\n",
       "      <td>4.000000</td>\n",
       "      <td>0.000000</td>\n",
       "      <td>1106.000000</td>\n",
       "      <td>0.644000</td>\n",
       "      <td>0.876000</td>\n",
       "    </tr>\n",
       "    <tr>\n",
       "      <th>25%</th>\n",
       "      <td>71.000000</td>\n",
       "      <td>12.000000</td>\n",
       "      <td>2.000000</td>\n",
       "      <td>27.000000</td>\n",
       "      <td>0.000000</td>\n",
       "      <td>1357.000000</td>\n",
       "      <td>0.700000</td>\n",
       "      <td>1.099000</td>\n",
       "    </tr>\n",
       "    <tr>\n",
       "      <th>50%</th>\n",
       "      <td>77.000000</td>\n",
       "      <td>15.000000</td>\n",
       "      <td>2.000000</td>\n",
       "      <td>29.000000</td>\n",
       "      <td>0.000000</td>\n",
       "      <td>1470.000000</td>\n",
       "      <td>0.729000</td>\n",
       "      <td>1.194000</td>\n",
       "    </tr>\n",
       "    <tr>\n",
       "      <th>75%</th>\n",
       "      <td>82.000000</td>\n",
       "      <td>16.000000</td>\n",
       "      <td>3.000000</td>\n",
       "      <td>30.000000</td>\n",
       "      <td>0.500000</td>\n",
       "      <td>1597.000000</td>\n",
       "      <td>0.756000</td>\n",
       "      <td>1.293000</td>\n",
       "    </tr>\n",
       "    <tr>\n",
       "      <th>max</th>\n",
       "      <td>98.000000</td>\n",
       "      <td>23.000000</td>\n",
       "      <td>5.000000</td>\n",
       "      <td>30.000000</td>\n",
       "      <td>2.000000</td>\n",
       "      <td>2004.000000</td>\n",
       "      <td>0.837000</td>\n",
       "      <td>1.587000</td>\n",
       "    </tr>\n",
       "  </tbody>\n",
       "</table>\n",
       "</div>"
      ],
      "text/plain": [
       "              Age        EDUC         SES        MMSE         CDR  \\\n",
       "count  373.000000  373.000000  354.000000  371.000000  373.000000   \n",
       "mean    77.013405   14.597855    2.460452   27.342318    0.290885   \n",
       "std      7.640957    2.876339    1.134005    3.683244    0.374557   \n",
       "min     60.000000    6.000000    1.000000    4.000000    0.000000   \n",
       "25%     71.000000   12.000000    2.000000   27.000000    0.000000   \n",
       "50%     77.000000   15.000000    2.000000   29.000000    0.000000   \n",
       "75%     82.000000   16.000000    3.000000   30.000000    0.500000   \n",
       "max     98.000000   23.000000    5.000000   30.000000    2.000000   \n",
       "\n",
       "              eTIV        nWBV         ASF  \n",
       "count   373.000000  373.000000  373.000000  \n",
       "mean   1488.128686    0.729568    1.195461  \n",
       "std     176.139286    0.037135    0.138092  \n",
       "min    1106.000000    0.644000    0.876000  \n",
       "25%    1357.000000    0.700000    1.099000  \n",
       "50%    1470.000000    0.729000    1.194000  \n",
       "75%    1597.000000    0.756000    1.293000  \n",
       "max    2004.000000    0.837000    1.587000  "
      ]
     },
     "execution_count": 111,
     "metadata": {},
     "output_type": "execute_result"
    }
   ],
   "source": [
    "df.describe() #gives us a statistical summary for numerical columns in our DataFrame."
   ]
  },
  {
   "cell_type": "markdown",
   "metadata": {},
   "source": [
    "### Feature Engineering"
   ]
  },
  {
   "cell_type": "markdown",
   "metadata": {},
   "source": [
    "#### Missing data"
   ]
  },
  {
   "cell_type": "code",
   "execution_count": 112,
   "metadata": {},
   "outputs": [
    {
     "data": {
      "text/plain": [
       "Group     0\n",
       "M/F       0\n",
       "Age       0\n",
       "EDUC      0\n",
       "SES      19\n",
       "MMSE      2\n",
       "CDR       0\n",
       "eTIV      0\n",
       "nWBV      0\n",
       "ASF       0\n",
       "dtype: int64"
      ]
     },
     "execution_count": 112,
     "metadata": {},
     "output_type": "execute_result"
    }
   ],
   "source": [
    "df.isna().sum() #return sum of missing values in each column"
   ]
  },
  {
   "cell_type": "code",
   "execution_count": 113,
   "metadata": {},
   "outputs": [],
   "source": [
    "df['MMSE'] = df['MMSE'].fillna(df.MMSE.mean())\n",
    "df['SES'] = df['SES'].fillna(df.MMSE.mean())"
   ]
  },
  {
   "cell_type": "code",
   "execution_count": 114,
   "metadata": {},
   "outputs": [
    {
     "data": {
      "text/plain": [
       "Group    0\n",
       "M/F      0\n",
       "Age      0\n",
       "EDUC     0\n",
       "SES      0\n",
       "MMSE     0\n",
       "CDR      0\n",
       "eTIV     0\n",
       "nWBV     0\n",
       "ASF      0\n",
       "dtype: int64"
      ]
     },
     "execution_count": 114,
     "metadata": {},
     "output_type": "execute_result"
    }
   ],
   "source": [
    "df.isna().sum()"
   ]
  },
  {
   "cell_type": "code",
   "execution_count": 115,
   "metadata": {},
   "outputs": [
    {
     "data": {
      "text/html": [
       "<div>\n",
       "<style scoped>\n",
       "    .dataframe tbody tr th:only-of-type {\n",
       "        vertical-align: middle;\n",
       "    }\n",
       "\n",
       "    .dataframe tbody tr th {\n",
       "        vertical-align: top;\n",
       "    }\n",
       "\n",
       "    .dataframe thead th {\n",
       "        text-align: right;\n",
       "    }\n",
       "</style>\n",
       "<table border=\"1\" class=\"dataframe\">\n",
       "  <thead>\n",
       "    <tr style=\"text-align: right;\">\n",
       "      <th></th>\n",
       "      <th>Group</th>\n",
       "      <th>Gender</th>\n",
       "      <th>Age</th>\n",
       "      <th>EDUC</th>\n",
       "      <th>SES</th>\n",
       "      <th>MMSE</th>\n",
       "      <th>CDR</th>\n",
       "      <th>eTIV</th>\n",
       "      <th>nWBV</th>\n",
       "      <th>ASF</th>\n",
       "    </tr>\n",
       "  </thead>\n",
       "  <tbody>\n",
       "    <tr>\n",
       "      <th>0</th>\n",
       "      <td>Nondemented</td>\n",
       "      <td>M</td>\n",
       "      <td>87</td>\n",
       "      <td>14</td>\n",
       "      <td>2.000000</td>\n",
       "      <td>27.0</td>\n",
       "      <td>0.0</td>\n",
       "      <td>1987</td>\n",
       "      <td>0.696</td>\n",
       "      <td>0.883</td>\n",
       "    </tr>\n",
       "    <tr>\n",
       "      <th>1</th>\n",
       "      <td>Nondemented</td>\n",
       "      <td>M</td>\n",
       "      <td>88</td>\n",
       "      <td>14</td>\n",
       "      <td>2.000000</td>\n",
       "      <td>30.0</td>\n",
       "      <td>0.0</td>\n",
       "      <td>2004</td>\n",
       "      <td>0.681</td>\n",
       "      <td>0.876</td>\n",
       "    </tr>\n",
       "    <tr>\n",
       "      <th>2</th>\n",
       "      <td>Demented</td>\n",
       "      <td>M</td>\n",
       "      <td>75</td>\n",
       "      <td>12</td>\n",
       "      <td>27.342318</td>\n",
       "      <td>23.0</td>\n",
       "      <td>0.5</td>\n",
       "      <td>1678</td>\n",
       "      <td>0.736</td>\n",
       "      <td>1.046</td>\n",
       "    </tr>\n",
       "    <tr>\n",
       "      <th>3</th>\n",
       "      <td>Demented</td>\n",
       "      <td>M</td>\n",
       "      <td>76</td>\n",
       "      <td>12</td>\n",
       "      <td>27.342318</td>\n",
       "      <td>28.0</td>\n",
       "      <td>0.5</td>\n",
       "      <td>1738</td>\n",
       "      <td>0.713</td>\n",
       "      <td>1.010</td>\n",
       "    </tr>\n",
       "    <tr>\n",
       "      <th>4</th>\n",
       "      <td>Demented</td>\n",
       "      <td>M</td>\n",
       "      <td>80</td>\n",
       "      <td>12</td>\n",
       "      <td>27.342318</td>\n",
       "      <td>22.0</td>\n",
       "      <td>0.5</td>\n",
       "      <td>1698</td>\n",
       "      <td>0.701</td>\n",
       "      <td>1.034</td>\n",
       "    </tr>\n",
       "    <tr>\n",
       "      <th>...</th>\n",
       "      <td>...</td>\n",
       "      <td>...</td>\n",
       "      <td>...</td>\n",
       "      <td>...</td>\n",
       "      <td>...</td>\n",
       "      <td>...</td>\n",
       "      <td>...</td>\n",
       "      <td>...</td>\n",
       "      <td>...</td>\n",
       "      <td>...</td>\n",
       "    </tr>\n",
       "    <tr>\n",
       "      <th>368</th>\n",
       "      <td>Demented</td>\n",
       "      <td>M</td>\n",
       "      <td>82</td>\n",
       "      <td>16</td>\n",
       "      <td>1.000000</td>\n",
       "      <td>28.0</td>\n",
       "      <td>0.5</td>\n",
       "      <td>1693</td>\n",
       "      <td>0.694</td>\n",
       "      <td>1.037</td>\n",
       "    </tr>\n",
       "    <tr>\n",
       "      <th>369</th>\n",
       "      <td>Demented</td>\n",
       "      <td>M</td>\n",
       "      <td>86</td>\n",
       "      <td>16</td>\n",
       "      <td>1.000000</td>\n",
       "      <td>26.0</td>\n",
       "      <td>0.5</td>\n",
       "      <td>1688</td>\n",
       "      <td>0.675</td>\n",
       "      <td>1.040</td>\n",
       "    </tr>\n",
       "    <tr>\n",
       "      <th>370</th>\n",
       "      <td>Nondemented</td>\n",
       "      <td>F</td>\n",
       "      <td>61</td>\n",
       "      <td>13</td>\n",
       "      <td>2.000000</td>\n",
       "      <td>30.0</td>\n",
       "      <td>0.0</td>\n",
       "      <td>1319</td>\n",
       "      <td>0.801</td>\n",
       "      <td>1.331</td>\n",
       "    </tr>\n",
       "    <tr>\n",
       "      <th>371</th>\n",
       "      <td>Nondemented</td>\n",
       "      <td>F</td>\n",
       "      <td>63</td>\n",
       "      <td>13</td>\n",
       "      <td>2.000000</td>\n",
       "      <td>30.0</td>\n",
       "      <td>0.0</td>\n",
       "      <td>1327</td>\n",
       "      <td>0.796</td>\n",
       "      <td>1.323</td>\n",
       "    </tr>\n",
       "    <tr>\n",
       "      <th>372</th>\n",
       "      <td>Nondemented</td>\n",
       "      <td>F</td>\n",
       "      <td>65</td>\n",
       "      <td>13</td>\n",
       "      <td>2.000000</td>\n",
       "      <td>30.0</td>\n",
       "      <td>0.0</td>\n",
       "      <td>1333</td>\n",
       "      <td>0.801</td>\n",
       "      <td>1.317</td>\n",
       "    </tr>\n",
       "  </tbody>\n",
       "</table>\n",
       "<p>373 rows × 10 columns</p>\n",
       "</div>"
      ],
      "text/plain": [
       "           Group Gender  Age  EDUC        SES  MMSE  CDR  eTIV   nWBV    ASF\n",
       "0    Nondemented      M   87    14   2.000000  27.0  0.0  1987  0.696  0.883\n",
       "1    Nondemented      M   88    14   2.000000  30.0  0.0  2004  0.681  0.876\n",
       "2       Demented      M   75    12  27.342318  23.0  0.5  1678  0.736  1.046\n",
       "3       Demented      M   76    12  27.342318  28.0  0.5  1738  0.713  1.010\n",
       "4       Demented      M   80    12  27.342318  22.0  0.5  1698  0.701  1.034\n",
       "..           ...    ...  ...   ...        ...   ...  ...   ...    ...    ...\n",
       "368     Demented      M   82    16   1.000000  28.0  0.5  1693  0.694  1.037\n",
       "369     Demented      M   86    16   1.000000  26.0  0.5  1688  0.675  1.040\n",
       "370  Nondemented      F   61    13   2.000000  30.0  0.0  1319  0.801  1.331\n",
       "371  Nondemented      F   63    13   2.000000  30.0  0.0  1327  0.796  1.323\n",
       "372  Nondemented      F   65    13   2.000000  30.0  0.0  1333  0.801  1.317\n",
       "\n",
       "[373 rows x 10 columns]"
      ]
     },
     "execution_count": 115,
     "metadata": {},
     "output_type": "execute_result"
    }
   ],
   "source": [
    "df.rename(columns = {'M/F':'Gender'}, inplace = True)\n",
    "df"
   ]
  },
  {
   "cell_type": "code",
   "execution_count": 116,
   "metadata": {},
   "outputs": [
    {
     "data": {
      "text/html": [
       "<div>\n",
       "<style scoped>\n",
       "    .dataframe tbody tr th:only-of-type {\n",
       "        vertical-align: middle;\n",
       "    }\n",
       "\n",
       "    .dataframe tbody tr th {\n",
       "        vertical-align: top;\n",
       "    }\n",
       "\n",
       "    .dataframe thead th {\n",
       "        text-align: right;\n",
       "    }\n",
       "</style>\n",
       "<table border=\"1\" class=\"dataframe\">\n",
       "  <thead>\n",
       "    <tr style=\"text-align: right;\">\n",
       "      <th></th>\n",
       "      <th>Group</th>\n",
       "      <th>Gender</th>\n",
       "      <th>Age</th>\n",
       "      <th>EDUC</th>\n",
       "      <th>SES</th>\n",
       "      <th>MMSE</th>\n",
       "      <th>CDR</th>\n",
       "      <th>eTIV</th>\n",
       "      <th>nWBV</th>\n",
       "      <th>ASF</th>\n",
       "    </tr>\n",
       "  </thead>\n",
       "  <tbody>\n",
       "    <tr>\n",
       "      <th>0</th>\n",
       "      <td>Nondemented</td>\n",
       "      <td>0</td>\n",
       "      <td>87</td>\n",
       "      <td>14</td>\n",
       "      <td>2.000000</td>\n",
       "      <td>27.0</td>\n",
       "      <td>0.0</td>\n",
       "      <td>1987</td>\n",
       "      <td>0.696</td>\n",
       "      <td>0.883</td>\n",
       "    </tr>\n",
       "    <tr>\n",
       "      <th>1</th>\n",
       "      <td>Nondemented</td>\n",
       "      <td>0</td>\n",
       "      <td>88</td>\n",
       "      <td>14</td>\n",
       "      <td>2.000000</td>\n",
       "      <td>30.0</td>\n",
       "      <td>0.0</td>\n",
       "      <td>2004</td>\n",
       "      <td>0.681</td>\n",
       "      <td>0.876</td>\n",
       "    </tr>\n",
       "    <tr>\n",
       "      <th>2</th>\n",
       "      <td>Demented</td>\n",
       "      <td>0</td>\n",
       "      <td>75</td>\n",
       "      <td>12</td>\n",
       "      <td>27.342318</td>\n",
       "      <td>23.0</td>\n",
       "      <td>0.5</td>\n",
       "      <td>1678</td>\n",
       "      <td>0.736</td>\n",
       "      <td>1.046</td>\n",
       "    </tr>\n",
       "    <tr>\n",
       "      <th>3</th>\n",
       "      <td>Demented</td>\n",
       "      <td>0</td>\n",
       "      <td>76</td>\n",
       "      <td>12</td>\n",
       "      <td>27.342318</td>\n",
       "      <td>28.0</td>\n",
       "      <td>0.5</td>\n",
       "      <td>1738</td>\n",
       "      <td>0.713</td>\n",
       "      <td>1.010</td>\n",
       "    </tr>\n",
       "    <tr>\n",
       "      <th>4</th>\n",
       "      <td>Demented</td>\n",
       "      <td>0</td>\n",
       "      <td>80</td>\n",
       "      <td>12</td>\n",
       "      <td>27.342318</td>\n",
       "      <td>22.0</td>\n",
       "      <td>0.5</td>\n",
       "      <td>1698</td>\n",
       "      <td>0.701</td>\n",
       "      <td>1.034</td>\n",
       "    </tr>\n",
       "  </tbody>\n",
       "</table>\n",
       "</div>"
      ],
      "text/plain": [
       "         Group  Gender  Age  EDUC        SES  MMSE  CDR  eTIV   nWBV    ASF\n",
       "0  Nondemented       0   87    14   2.000000  27.0  0.0  1987  0.696  0.883\n",
       "1  Nondemented       0   88    14   2.000000  30.0  0.0  2004  0.681  0.876\n",
       "2     Demented       0   75    12  27.342318  23.0  0.5  1678  0.736  1.046\n",
       "3     Demented       0   76    12  27.342318  28.0  0.5  1738  0.713  1.010\n",
       "4     Demented       0   80    12  27.342318  22.0  0.5  1698  0.701  1.034"
      ]
     },
     "execution_count": 116,
     "metadata": {},
     "output_type": "execute_result"
    }
   ],
   "source": [
    "df['Gender']= df['Gender'].map({'M':0, 'F':1}) # rename the M/F column to Gender\n",
    "df.head()"
   ]
  },
  {
   "cell_type": "markdown",
   "metadata": {},
   "source": [
    "### Feature Comparison and visualization"
   ]
  },
  {
   "cell_type": "markdown",
   "metadata": {},
   "source": [
    "#### Feature Comparison"
   ]
  },
  {
   "cell_type": "code",
   "execution_count": 117,
   "metadata": {},
   "outputs": [
    {
     "data": {
      "text/plain": [
       "<AxesSubplot:>"
      ]
     },
     "execution_count": 117,
     "metadata": {},
     "output_type": "execute_result"
    },
    {
     "data": {
      "image/png": "[encoded data removed]",
      "text/plain": [
       "<Figure size 720x576 with 2 Axes>"
      ]
     },
     "metadata": {
      "needs_background": "light"
     },
     "output_type": "display_data"
    }
   ],
   "source": [
    "plt.figure(figsize=(10,8))\n",
    "sns.heatmap(df.corr(), annot=True)\n"
   ]
  },
  {
   "cell_type": "markdown",
   "metadata": {},
   "source": [
    "#### Visualization of Age"
   ]
  },
  {
   "cell_type": "code",
   "execution_count": 118,
   "metadata": {},
   "outputs": [
    {
     "data": {
      "text/plain": [
       "<AxesSubplot:xlabel='Age', ylabel='Count'>"
      ]
     },
     "execution_count": 118,
     "metadata": {},
     "output_type": "execute_result"
    },
    {
     "data": {
      "image/png": "[encoded data removed]",
      "text/plain": [
       "<Figure size 720x432 with 1 Axes>"
      ]
     },
     "metadata": {
      "needs_background": "light"
     },
     "output_type": "display_data"
    }
   ],
   "source": [
    "plt.figure(figsize=(10,6))\n",
    "sns.histplot(data=df, x='Age')"
   ]
  },
  {
   "cell_type": "markdown",
   "metadata": {},
   "source": [
    "#### Probability distribution of Ages"
   ]
  },
  {
   "cell_type": "code",
   "execution_count": 119,
   "metadata": {},
   "outputs": [
    {
     "data": {
      "text/plain": [
       "<AxesSubplot:xlabel='Age', ylabel='Density'>"
      ]
     },
     "execution_count": 119,
     "metadata": {},
     "output_type": "execute_result"
    },
    {
     "data": {
      "image/png": "[encoded data removed]",
      "text/plain": [
       "<Figure size 720x432 with 1 Axes>"
      ]
     },
     "metadata": {
      "needs_background": "light"
     },
     "output_type": "display_data"
    }
   ],
   "source": [
    "plt.figure(figsize=(10,6))\n",
    "sns.kdeplot(data=df, x='Age')"
   ]
  },
  {
   "cell_type": "markdown",
   "metadata": {},
   "source": [
    "#### Visualization of features : Group and SES"
   ]
  },
  {
   "cell_type": "code",
   "execution_count": 120,
   "metadata": {},
   "outputs": [
    {
     "data": {
      "text/plain": [
       "<AxesSubplot:xlabel='SES', ylabel='count'>"
      ]
     },
     "execution_count": 120,
     "metadata": {},
     "output_type": "execute_result"
    },
    {
     "data": {
      "image/png": "[encoded data removed]",
      "text/plain": [
       "<Figure size 720x432 with 1 Axes>"
      ]
     },
     "metadata": {
      "needs_background": "light"
     },
     "output_type": "display_data"
    }
   ],
   "source": [
    "plt.figure(figsize=(10,6))\n",
    "sns.countplot(data = df, x='SES', hue='Group')"
   ]
  },
  {
   "cell_type": "markdown",
   "metadata": {},
   "source": [
    "#### Visualization of features: Clinical Dementia Rating (CDR) and Group"
   ]
  },
  {
   "cell_type": "code",
   "execution_count": 121,
   "metadata": {},
   "outputs": [
    {
     "data": {
      "text/plain": [
       "<AxesSubplot:xlabel='CDR', ylabel='count'>"
      ]
     },
     "execution_count": 121,
     "metadata": {},
     "output_type": "execute_result"
    },
    {
     "data": {
      "image/png": "[encoded data removed]",
      "text/plain": [
       "<Figure size 720x432 with 1 Axes>"
      ]
     },
     "metadata": {
      "needs_background": "light"
     },
     "output_type": "display_data"
    }
   ],
   "source": [
    "plt.figure(figsize=(10,6))\n",
    "sns.countplot(data=df, x='CDR', hue='Group')"
   ]
  },
  {
   "cell_type": "markdown",
   "metadata": {},
   "source": [
    "#### Visualization of features: Mini-Mental State Exam (MMSE), Age and Group "
   ]
  },
  {
   "cell_type": "code",
   "execution_count": 122,
   "metadata": {},
   "outputs": [
    {
     "data": {
      "text/plain": [
       "<AxesSubplot:xlabel='MMSE', ylabel='Age'>"
      ]
     },
     "execution_count": 122,
     "metadata": {},
     "output_type": "execute_result"
    },
    {
     "data": {
      "image/png": "[encoded data removed]",
      "text/plain": [
       "<Figure size 720x432 with 1 Axes>"
      ]
     },
     "metadata": {
      "needs_background": "light"
     },
     "output_type": "display_data"
    }
   ],
   "source": [
    "plt.figure(figsize=(10,6))\n",
    "sns.scatterplot(data=df, x='MMSE', y='Age', hue='Group')"
   ]
  },
  {
   "cell_type": "code",
   "execution_count": 123,
   "metadata": {},
   "outputs": [
    {
     "data": {
      "text/plain": [
       "<AxesSubplot:xlabel='MMSE', ylabel='Age'>"
      ]
     },
     "execution_count": 123,
     "metadata": {},
     "output_type": "execute_result"
    },
    {
     "data": {
      "image/png": "[encoded data removed]",
      "text/plain": [
       "<Figure size 720x432 with 1 Axes>"
      ]
     },
     "metadata": {
      "needs_background": "light"
     },
     "output_type": "display_data"
    }
   ],
   "source": [
    "plt.figure(figsize=(10,6))\n",
    "sns.boxplot(data=df, x='MMSE',y='Age', hue='Group')"
   ]
  },
  {
   "cell_type": "code",
   "execution_count": 124,
   "metadata": {},
   "outputs": [
    {
     "data": {
      "text/plain": [
       "<AxesSubplot:xlabel='MMSE', ylabel='Age'>"
      ]
     },
     "execution_count": 124,
     "metadata": {},
     "output_type": "execute_result"
    },
    {
     "data": {
      "image/png": "[encoded data removed]",
      "text/plain": [
       "<Figure size 720x432 with 1 Axes>"
      ]
     },
     "metadata": {
      "needs_background": "light"
     },
     "output_type": "display_data"
    }
   ],
   "source": [
    "plt.figure(figsize=(10,6))\n",
    "sns.violinplot(data=df, x='MMSE', y='Age',hue='Group')"
   ]
  },
  {
   "cell_type": "markdown",
   "metadata": {},
   "source": [
    "#### Visualization of features: Estimated intracranial volume (eTIV), Age and Gender"
   ]
  },
  {
   "cell_type": "code",
   "execution_count": 125,
   "metadata": {},
   "outputs": [
    {
     "data": {
      "text/plain": [
       "<AxesSubplot:xlabel='eTIV', ylabel='Age'>"
      ]
     },
     "execution_count": 125,
     "metadata": {},
     "output_type": "execute_result"
    },
    {
     "data": {
      "image/png": "[encoded data removed]",
      "text/plain": [
       "<Figure size 720x432 with 1 Axes>"
      ]
     },
     "metadata": {
      "needs_background": "light"
     },
     "output_type": "display_data"
    }
   ],
   "source": [
    "plt.figure(figsize=(10,6))\n",
    "sns.scatterplot(data=df, x='eTIV', y='Age', hue='Gender')"
   ]
  },
  {
   "cell_type": "code",
   "execution_count": 126,
   "metadata": {},
   "outputs": [
    {
     "data": {
      "text/plain": [
       "<AxesSubplot:xlabel='eTIV', ylabel='Age'>"
      ]
     },
     "execution_count": 126,
     "metadata": {},
     "output_type": "execute_result"
    },
    {
     "data": {
      "image/png": "[encoded data removed]",
      "text/plain": [
       "<Figure size 720x432 with 1 Axes>"
      ]
     },
     "metadata": {
      "needs_background": "light"
     },
     "output_type": "display_data"
    }
   ],
   "source": [
    "plt.figure(figsize=(10,6))\n",
    "sns.boxplot(data=df, x='eTIV', y='Age', hue='Gender')"
   ]
  },
  {
   "cell_type": "code",
   "execution_count": 127,
   "metadata": {},
   "outputs": [
    {
     "data": {
      "text/plain": [
       "<AxesSubplot:xlabel='eTIV', ylabel='Age'>"
      ]
     },
     "execution_count": 127,
     "metadata": {},
     "output_type": "execute_result"
    },
    {
     "data": {
      "image/png": "[encoded data removed]",
      "text/plain": [
       "<Figure size 720x432 with 1 Axes>"
      ]
     },
     "metadata": {
      "needs_background": "light"
     },
     "output_type": "display_data"
    }
   ],
   "source": [
    "plt.figure(figsize=(10,6))\n",
    "sns.violinplot(data=df, x='eTIV', y='Age', hue='Gender')"
   ]
  },
  {
   "cell_type": "markdown",
   "metadata": {},
   "source": [
    "# Models Creation"
   ]
  },
  {
   "cell_type": "markdown",
   "metadata": {},
   "source": [
    "### Load Libraries"
   ]
  },
  {
   "cell_type": "code",
   "execution_count": 128,
   "metadata": {},
   "outputs": [],
   "source": [
    "from sklearn.model_selection import train_test_split\n",
    "from sklearn.decomposition import PCA\n",
    "from sklearn.preprocessing import StandardScaler"
   ]
  },
  {
   "cell_type": "code",
   "execution_count": 129,
   "metadata": {},
   "outputs": [],
   "source": [
    "from catboost import CatBoostClassifier\n",
    "from xgboost import XGBClassifier\n",
    "from lightgbm import LGBMClassifier\n",
    "from sklearn.model_selection import GridSearchCV\n",
    "from sklearn.linear_model import LogisticRegression\n",
    "from sklearn.ensemble import GradientBoostingClassifier, RandomForestClassifier\n",
    "from sklearn.tree import DecisionTreeClassifier\n",
    "from sklearn.neighbors import KNeighborsClassifier\n",
    "from sklearn.naive_bayes import GaussianNB\n",
    "from sklearn.svm import SVC\n",
    "from sklearn.metrics import accuracy_score, precision_score, recall_score, confusion_matrix, f1_score, plot_confusion_matrix\n"
   ]
  },
  {
   "cell_type": "code",
   "execution_count": 130,
   "metadata": {},
   "outputs": [],
   "source": [
    "import tensorflow as tf\n",
    "from tensorflow import keras\n",
    "from sklearn.model_selection import train_test_split\n",
    "from sklearn import preprocessing\n",
    "from tensorflow.keras.models import Sequential\n",
    "from tensorflow.keras.layers import Activation,Dense,Dropout\n",
    "from tensorflow.keras import optimizers\n",
    "\n",
    "tf.random.set_seed(13)\n",
    "tf.debugging.set_log_device_placement(False)"
   ]
  },
  {
   "cell_type": "markdown",
   "metadata": {},
   "source": [
    "#### split data into x and y"
   ]
  },
  {
   "cell_type": "code",
   "execution_count": 131,
   "metadata": {},
   "outputs": [
    {
     "name": "stdout",
     "output_type": "stream",
     "text": [
      "(373, 9) (373,)\n"
     ]
    }
   ],
   "source": [
    "X = df.drop(['Group'],axis=1)\n",
    "y = df.Group\n",
    "print(X.shape, y.shape)"
   ]
  },
  {
   "cell_type": "code",
   "execution_count": 132,
   "metadata": {},
   "outputs": [
    {
     "data": {
      "text/plain": [
       "array(['Nondemented', 'Demented', 'Converted'], dtype=object)"
      ]
     },
     "execution_count": 132,
     "metadata": {},
     "output_type": "execute_result"
    }
   ],
   "source": [
    "y.unique() #print the unique values "
   ]
  },
  {
   "cell_type": "code",
   "execution_count": 133,
   "metadata": {},
   "outputs": [
    {
     "name": "stdout",
     "output_type": "stream",
     "text": [
      "(373, 9) (373,)\n"
     ]
    }
   ],
   "source": [
    "print(X.shape, y.shape)"
   ]
  },
  {
   "cell_type": "markdown",
   "metadata": {},
   "source": [
    "#### splitting the data into train and test data"
   ]
  },
  {
   "cell_type": "code",
   "execution_count": 134,
   "metadata": {},
   "outputs": [],
   "source": [
    "xtrain, xtest, ytrain, ytest = train_test_split(X,y,test_size=0.2,random_state=42)"
   ]
  },
  {
   "cell_type": "markdown",
   "metadata": {},
   "source": [
    "#### standardize your data \" to have mean = 0 and std = 1 \""
   ]
  },
  {
   "cell_type": "code",
   "execution_count": 135,
   "metadata": {},
   "outputs": [],
   "source": [
    "sc = StandardScaler()\n",
    "xtrain = sc.fit_transform(xtrain)\n",
    "xtest = sc.transform (xtest)"
   ]
  },
  {
   "cell_type": "markdown",
   "metadata": {},
   "source": [
    "### Scikit-learn Models"
   ]
  },
  {
   "cell_type": "markdown",
   "metadata": {},
   "source": [
    "##### Model No 1: xgboost"
   ]
  },
  {
   "cell_type": "code",
   "execution_count": 136,
   "metadata": {},
   "outputs": [
    {
     "name": "stdout",
     "output_type": "stream",
     "text": [
      "[16:39:50] WARNING: ..\\src\\learner.cc:1095: Starting in XGBoost 1.3.0, the default evaluation metric used with the objective 'multi:softprob' was changed from 'merror' to 'mlogloss'. Explicitly set eval_metric if you'd like to restore the old behavior.\n"
     ]
    },
    {
     "name": "stderr",
     "output_type": "stream",
     "text": [
      "C:\\Users\\25678\\anaconda3\\lib\\site-packages\\xgboost\\sklearn.py:1146: UserWarning: The use of label encoder in XGBClassifier is deprecated and will be removed in a future release. To remove this warning, do the following: 1) Pass option use_label_encoder=False when constructing XGBClassifier object; and 2) Encode your labels (y) as integers starting with 0, i.e. 0, 1, 2, ..., [num_class - 1].\n",
      "  warnings.warn(label_encoder_deprecation_msg, UserWarning)\n",
      "C:\\Users\\25678\\anaconda3\\lib\\site-packages\\xgboost\\data.py:112: UserWarning: Use subset (sliced data) of np.ndarray is not recommended because it will generate extra copies and increase memory consumption\n",
      "  warnings.warn(\n"
     ]
    },
    {
     "data": {
      "text/plain": [
       "0.8533333333333334"
      ]
     },
     "execution_count": 136,
     "metadata": {},
     "output_type": "execute_result"
    }
   ],
   "source": [
    "xgboost = XGBClassifier()\n",
    "xgboost.fit(xtrain, ytrain)\n",
    "xgboost.score(xtest, ytest)"
   ]
  },
  {
   "cell_type": "markdown",
   "metadata": {},
   "source": [
    "##### Model No 2: lightgbm"
   ]
  },
  {
   "cell_type": "code",
   "execution_count": 137,
   "metadata": {},
   "outputs": [
    {
     "data": {
      "text/plain": [
       "0.8533333333333334"
      ]
     },
     "execution_count": 137,
     "metadata": {},
     "output_type": "execute_result"
    }
   ],
   "source": [
    "lightgbm = LGBMClassifier()\n",
    "lightgbm.fit(xtrain, ytrain)\n",
    "lightgbm.score(xtest, ytest)"
   ]
  },
  {
   "cell_type": "markdown",
   "metadata": {},
   "source": [
    "##### Model No 3: Logistic Regression"
   ]
  },
  {
   "cell_type": "code",
   "execution_count": 138,
   "metadata": {},
   "outputs": [
    {
     "data": {
      "text/plain": [
       "0.8666666666666667"
      ]
     },
     "execution_count": 138,
     "metadata": {},
     "output_type": "execute_result"
    }
   ],
   "source": [
    "lr = LogisticRegression()\n",
    "lr.fit(xtrain, ytrain)\n",
    "lr.score(xtest, ytest)"
   ]
  },
  {
   "cell_type": "markdown",
   "metadata": {},
   "source": [
    "#### Model No 4: catboost"
   ]
  },
  {
   "cell_type": "code",
   "execution_count": 139,
   "metadata": {},
   "outputs": [
    {
     "name": "stdout",
     "output_type": "stream",
     "text": [
      "Learning rate set to 0.074389\n",
      "0:\tlearn: 1.0251185\ttotal: 11.9ms\tremaining: 11.9s\n",
      "1:\tlearn: 0.9402968\ttotal: 14.8ms\tremaining: 7.36s\n",
      "2:\tlearn: 0.8782274\ttotal: 23.5ms\tremaining: 7.8s\n",
      "3:\tlearn: 0.8312964\ttotal: 28.9ms\tremaining: 7.19s\n",
      "4:\tlearn: 0.7798304\ttotal: 32.2ms\tremaining: 6.41s\n",
      "5:\tlearn: 0.7396123\ttotal: 35.8ms\tremaining: 5.93s\n",
      "6:\tlearn: 0.6953293\ttotal: 39.4ms\tremaining: 5.59s\n",
      "7:\tlearn: 0.6541834\ttotal: 41ms\tremaining: 5.08s\n",
      "8:\tlearn: 0.6237734\ttotal: 44.3ms\tremaining: 4.88s\n",
      "9:\tlearn: 0.5934294\ttotal: 46.4ms\tremaining: 4.6s\n",
      "10:\tlearn: 0.5710181\ttotal: 49.9ms\tremaining: 4.48s\n",
      "11:\tlearn: 0.5489632\ttotal: 53.1ms\tremaining: 4.37s\n",
      "12:\tlearn: 0.5265995\ttotal: 57.7ms\tremaining: 4.38s\n",
      "13:\tlearn: 0.5078446\ttotal: 61.1ms\tremaining: 4.3s\n",
      "14:\tlearn: 0.4908002\ttotal: 64.5ms\tremaining: 4.24s\n",
      "15:\tlearn: 0.4737609\ttotal: 68.1ms\tremaining: 4.19s\n",
      "16:\tlearn: 0.4578707\ttotal: 72.1ms\tremaining: 4.17s\n",
      "17:\tlearn: 0.4420311\ttotal: 75.5ms\tremaining: 4.12s\n",
      "18:\tlearn: 0.4301375\ttotal: 78.7ms\tremaining: 4.06s\n",
      "19:\tlearn: 0.4187742\ttotal: 82.7ms\tremaining: 4.05s\n",
      "20:\tlearn: 0.4070003\ttotal: 86.4ms\tremaining: 4.03s\n",
      "21:\tlearn: 0.3940514\ttotal: 87.3ms\tremaining: 3.88s\n",
      "22:\tlearn: 0.3848751\ttotal: 91ms\tremaining: 3.86s\n",
      "23:\tlearn: 0.3752029\ttotal: 94.4ms\tremaining: 3.84s\n",
      "24:\tlearn: 0.3673245\ttotal: 97.8ms\tremaining: 3.81s\n",
      "25:\tlearn: 0.3598733\ttotal: 102ms\tremaining: 3.81s\n",
      "26:\tlearn: 0.3514405\ttotal: 105ms\tremaining: 3.79s\n",
      "27:\tlearn: 0.3449140\ttotal: 109ms\tremaining: 3.77s\n",
      "28:\tlearn: 0.3378408\ttotal: 112ms\tremaining: 3.76s\n",
      "29:\tlearn: 0.3318637\ttotal: 116ms\tremaining: 3.75s\n",
      "30:\tlearn: 0.3257055\ttotal: 119ms\tremaining: 3.73s\n",
      "31:\tlearn: 0.3199228\ttotal: 123ms\tremaining: 3.71s\n",
      "32:\tlearn: 0.3131324\ttotal: 126ms\tremaining: 3.7s\n",
      "33:\tlearn: 0.3070359\ttotal: 130ms\tremaining: 3.7s\n",
      "34:\tlearn: 0.3014085\ttotal: 134ms\tremaining: 3.69s\n",
      "35:\tlearn: 0.2965370\ttotal: 137ms\tremaining: 3.67s\n",
      "36:\tlearn: 0.2917115\ttotal: 139ms\tremaining: 3.62s\n",
      "37:\tlearn: 0.2871278\ttotal: 143ms\tremaining: 3.61s\n",
      "38:\tlearn: 0.2828455\ttotal: 146ms\tremaining: 3.61s\n",
      "39:\tlearn: 0.2781595\ttotal: 150ms\tremaining: 3.59s\n",
      "40:\tlearn: 0.2730893\ttotal: 153ms\tremaining: 3.58s\n",
      "41:\tlearn: 0.2698581\ttotal: 157ms\tremaining: 3.57s\n",
      "42:\tlearn: 0.2665131\ttotal: 160ms\tremaining: 3.55s\n",
      "43:\tlearn: 0.2624224\ttotal: 165ms\tremaining: 3.58s\n",
      "44:\tlearn: 0.2588543\ttotal: 168ms\tremaining: 3.57s\n",
      "45:\tlearn: 0.2553604\ttotal: 172ms\tremaining: 3.57s\n",
      "46:\tlearn: 0.2522604\ttotal: 176ms\tremaining: 3.56s\n",
      "47:\tlearn: 0.2497005\ttotal: 181ms\tremaining: 3.59s\n",
      "48:\tlearn: 0.2472987\ttotal: 186ms\tremaining: 3.62s\n",
      "49:\tlearn: 0.2446768\ttotal: 192ms\tremaining: 3.64s\n",
      "50:\tlearn: 0.2416114\ttotal: 197ms\tremaining: 3.66s\n",
      "51:\tlearn: 0.2389891\ttotal: 202ms\tremaining: 3.68s\n",
      "52:\tlearn: 0.2362909\ttotal: 208ms\tremaining: 3.72s\n",
      "53:\tlearn: 0.2328906\ttotal: 212ms\tremaining: 3.71s\n",
      "54:\tlearn: 0.2304799\ttotal: 213ms\tremaining: 3.66s\n",
      "55:\tlearn: 0.2287633\ttotal: 217ms\tremaining: 3.65s\n",
      "56:\tlearn: 0.2260056\ttotal: 220ms\tremaining: 3.64s\n",
      "57:\tlearn: 0.2238613\ttotal: 226ms\tremaining: 3.67s\n",
      "58:\tlearn: 0.2212930\ttotal: 229ms\tremaining: 3.65s\n",
      "59:\tlearn: 0.2180557\ttotal: 233ms\tremaining: 3.64s\n",
      "60:\tlearn: 0.2157921\ttotal: 236ms\tremaining: 3.63s\n",
      "61:\tlearn: 0.2137207\ttotal: 242ms\tremaining: 3.67s\n",
      "62:\tlearn: 0.2112841\ttotal: 247ms\tremaining: 3.67s\n",
      "63:\tlearn: 0.2090651\ttotal: 252ms\tremaining: 3.68s\n",
      "64:\tlearn: 0.2072702\ttotal: 257ms\tremaining: 3.7s\n",
      "65:\tlearn: 0.2056272\ttotal: 262ms\tremaining: 3.71s\n",
      "66:\tlearn: 0.2039812\ttotal: 265ms\tremaining: 3.69s\n",
      "67:\tlearn: 0.2021636\ttotal: 271ms\tremaining: 3.71s\n",
      "68:\tlearn: 0.2007124\ttotal: 276ms\tremaining: 3.72s\n",
      "69:\tlearn: 0.1982969\ttotal: 280ms\tremaining: 3.72s\n",
      "70:\tlearn: 0.1956596\ttotal: 285ms\tremaining: 3.73s\n",
      "71:\tlearn: 0.1934026\ttotal: 289ms\tremaining: 3.73s\n",
      "72:\tlearn: 0.1916756\ttotal: 294ms\tremaining: 3.73s\n",
      "73:\tlearn: 0.1901277\ttotal: 298ms\tremaining: 3.73s\n",
      "74:\tlearn: 0.1881830\ttotal: 304ms\tremaining: 3.75s\n",
      "75:\tlearn: 0.1867947\ttotal: 309ms\tremaining: 3.75s\n",
      "76:\tlearn: 0.1851409\ttotal: 314ms\tremaining: 3.76s\n",
      "77:\tlearn: 0.1835464\ttotal: 319ms\tremaining: 3.77s\n",
      "78:\tlearn: 0.1819745\ttotal: 324ms\tremaining: 3.77s\n",
      "79:\tlearn: 0.1805838\ttotal: 328ms\tremaining: 3.77s\n",
      "80:\tlearn: 0.1793099\ttotal: 334ms\tremaining: 3.79s\n",
      "81:\tlearn: 0.1779054\ttotal: 339ms\tremaining: 3.8s\n",
      "82:\tlearn: 0.1768308\ttotal: 344ms\tremaining: 3.81s\n",
      "83:\tlearn: 0.1751849\ttotal: 350ms\tremaining: 3.81s\n",
      "84:\tlearn: 0.1734994\ttotal: 354ms\tremaining: 3.81s\n",
      "85:\tlearn: 0.1719235\ttotal: 359ms\tremaining: 3.82s\n",
      "86:\tlearn: 0.1702773\ttotal: 365ms\tremaining: 3.83s\n",
      "87:\tlearn: 0.1690792\ttotal: 370ms\tremaining: 3.83s\n",
      "88:\tlearn: 0.1680304\ttotal: 377ms\tremaining: 3.86s\n",
      "89:\tlearn: 0.1665872\ttotal: 383ms\tremaining: 3.87s\n",
      "90:\tlearn: 0.1648814\ttotal: 387ms\tremaining: 3.87s\n",
      "91:\tlearn: 0.1638152\ttotal: 391ms\tremaining: 3.86s\n",
      "92:\tlearn: 0.1624344\ttotal: 398ms\tremaining: 3.88s\n",
      "93:\tlearn: 0.1608732\ttotal: 401ms\tremaining: 3.87s\n",
      "94:\tlearn: 0.1593723\ttotal: 406ms\tremaining: 3.86s\n",
      "95:\tlearn: 0.1582750\ttotal: 412ms\tremaining: 3.88s\n",
      "96:\tlearn: 0.1572816\ttotal: 416ms\tremaining: 3.87s\n",
      "97:\tlearn: 0.1561785\ttotal: 421ms\tremaining: 3.87s\n",
      "98:\tlearn: 0.1548410\ttotal: 425ms\tremaining: 3.87s\n",
      "99:\tlearn: 0.1537594\ttotal: 429ms\tremaining: 3.87s\n",
      "100:\tlearn: 0.1524212\ttotal: 434ms\tremaining: 3.86s\n",
      "101:\tlearn: 0.1509494\ttotal: 439ms\tremaining: 3.87s\n",
      "102:\tlearn: 0.1500261\ttotal: 446ms\tremaining: 3.88s\n",
      "103:\tlearn: 0.1485715\ttotal: 451ms\tremaining: 3.88s\n",
      "104:\tlearn: 0.1470914\ttotal: 455ms\tremaining: 3.88s\n",
      "105:\tlearn: 0.1457901\ttotal: 460ms\tremaining: 3.88s\n",
      "106:\tlearn: 0.1451114\ttotal: 464ms\tremaining: 3.88s\n",
      "107:\tlearn: 0.1436330\ttotal: 469ms\tremaining: 3.88s\n",
      "108:\tlearn: 0.1427673\ttotal: 475ms\tremaining: 3.88s\n",
      "109:\tlearn: 0.1416145\ttotal: 479ms\tremaining: 3.88s\n",
      "110:\tlearn: 0.1408328\ttotal: 484ms\tremaining: 3.87s\n",
      "111:\tlearn: 0.1394772\ttotal: 488ms\tremaining: 3.87s\n",
      "112:\tlearn: 0.1385356\ttotal: 494ms\tremaining: 3.88s\n",
      "113:\tlearn: 0.1375239\ttotal: 499ms\tremaining: 3.88s\n",
      "114:\tlearn: 0.1367042\ttotal: 504ms\tremaining: 3.88s\n",
      "115:\tlearn: 0.1358837\ttotal: 509ms\tremaining: 3.88s\n",
      "116:\tlearn: 0.1348810\ttotal: 517ms\tremaining: 3.9s\n",
      "117:\tlearn: 0.1340482\ttotal: 522ms\tremaining: 3.9s\n",
      "118:\tlearn: 0.1333330\ttotal: 527ms\tremaining: 3.9s\n",
      "119:\tlearn: 0.1322528\ttotal: 534ms\tremaining: 3.91s\n",
      "120:\tlearn: 0.1314508\ttotal: 541ms\tremaining: 3.93s\n",
      "121:\tlearn: 0.1306091\ttotal: 547ms\tremaining: 3.94s\n",
      "122:\tlearn: 0.1296823\ttotal: 559ms\tremaining: 3.98s\n",
      "123:\tlearn: 0.1288700\ttotal: 563ms\tremaining: 3.98s\n",
      "124:\tlearn: 0.1281522\ttotal: 569ms\tremaining: 3.98s\n",
      "125:\tlearn: 0.1268165\ttotal: 573ms\tremaining: 3.98s\n",
      "126:\tlearn: 0.1260842\ttotal: 578ms\tremaining: 3.97s\n",
      "127:\tlearn: 0.1249234\ttotal: 584ms\tremaining: 3.98s\n",
      "128:\tlearn: 0.1241025\ttotal: 589ms\tremaining: 3.98s\n",
      "129:\tlearn: 0.1231100\ttotal: 594ms\tremaining: 3.97s\n",
      "130:\tlearn: 0.1222369\ttotal: 599ms\tremaining: 3.97s\n",
      "131:\tlearn: 0.1213280\ttotal: 603ms\tremaining: 3.97s\n",
      "132:\tlearn: 0.1203702\ttotal: 608ms\tremaining: 3.96s\n",
      "133:\tlearn: 0.1196007\ttotal: 612ms\tremaining: 3.96s\n",
      "134:\tlearn: 0.1181278\ttotal: 619ms\tremaining: 3.96s\n",
      "135:\tlearn: 0.1173048\ttotal: 623ms\tremaining: 3.96s\n",
      "136:\tlearn: 0.1164397\ttotal: 627ms\tremaining: 3.95s\n",
      "137:\tlearn: 0.1158660\ttotal: 633ms\tremaining: 3.95s\n",
      "138:\tlearn: 0.1151702\ttotal: 637ms\tremaining: 3.95s\n",
      "139:\tlearn: 0.1140628\ttotal: 642ms\tremaining: 3.94s\n",
      "140:\tlearn: 0.1134087\ttotal: 648ms\tremaining: 3.95s\n",
      "141:\tlearn: 0.1126828\ttotal: 653ms\tremaining: 3.94s\n",
      "142:\tlearn: 0.1120843\ttotal: 657ms\tremaining: 3.94s\n",
      "143:\tlearn: 0.1111012\ttotal: 663ms\tremaining: 3.94s\n",
      "144:\tlearn: 0.1103833\ttotal: 668ms\tremaining: 3.94s\n",
      "145:\tlearn: 0.1096033\ttotal: 673ms\tremaining: 3.94s\n",
      "146:\tlearn: 0.1089400\ttotal: 679ms\tremaining: 3.94s\n",
      "147:\tlearn: 0.1082245\ttotal: 684ms\tremaining: 3.94s\n",
      "148:\tlearn: 0.1077017\ttotal: 690ms\tremaining: 3.94s\n",
      "149:\tlearn: 0.1069243\ttotal: 695ms\tremaining: 3.94s\n",
      "150:\tlearn: 0.1063626\ttotal: 700ms\tremaining: 3.94s\n",
      "151:\tlearn: 0.1056821\ttotal: 705ms\tremaining: 3.93s\n",
      "152:\tlearn: 0.1050629\ttotal: 712ms\tremaining: 3.94s\n",
      "153:\tlearn: 0.1044071\ttotal: 719ms\tremaining: 3.95s\n",
      "154:\tlearn: 0.1039370\ttotal: 726ms\tremaining: 3.96s\n",
      "155:\tlearn: 0.1030948\ttotal: 742ms\tremaining: 4.01s\n",
      "156:\tlearn: 0.1022929\ttotal: 754ms\tremaining: 4.05s\n",
      "157:\tlearn: 0.1016157\ttotal: 762ms\tremaining: 4.06s\n",
      "158:\tlearn: 0.1010672\ttotal: 770ms\tremaining: 4.07s\n",
      "159:\tlearn: 0.1005875\ttotal: 779ms\tremaining: 4.09s\n",
      "160:\tlearn: 0.1002504\ttotal: 786ms\tremaining: 4.09s\n",
      "161:\tlearn: 0.0997003\ttotal: 797ms\tremaining: 4.12s\n",
      "162:\tlearn: 0.0987277\ttotal: 807ms\tremaining: 4.14s\n",
      "163:\tlearn: 0.0983280\ttotal: 811ms\tremaining: 4.13s\n",
      "164:\tlearn: 0.0978145\ttotal: 817ms\tremaining: 4.14s\n",
      "165:\tlearn: 0.0972331\ttotal: 825ms\tremaining: 4.15s\n",
      "166:\tlearn: 0.0967095\ttotal: 831ms\tremaining: 4.14s\n",
      "167:\tlearn: 0.0960042\ttotal: 839ms\tremaining: 4.15s\n",
      "168:\tlearn: 0.0953600\ttotal: 844ms\tremaining: 4.15s\n",
      "169:\tlearn: 0.0949384\ttotal: 850ms\tremaining: 4.15s\n",
      "170:\tlearn: 0.0944755\ttotal: 859ms\tremaining: 4.16s\n",
      "171:\tlearn: 0.0938556\ttotal: 865ms\tremaining: 4.16s\n"
     ]
    },
    {
     "name": "stdout",
     "output_type": "stream",
     "text": [
      "172:\tlearn: 0.0930789\ttotal: 873ms\tremaining: 4.17s\n",
      "173:\tlearn: 0.0919188\ttotal: 879ms\tremaining: 4.17s\n",
      "174:\tlearn: 0.0913218\ttotal: 888ms\tremaining: 4.19s\n",
      "175:\tlearn: 0.0909487\ttotal: 895ms\tremaining: 4.19s\n",
      "176:\tlearn: 0.0906170\ttotal: 903ms\tremaining: 4.2s\n",
      "177:\tlearn: 0.0900177\ttotal: 910ms\tremaining: 4.2s\n",
      "178:\tlearn: 0.0896724\ttotal: 919ms\tremaining: 4.21s\n",
      "179:\tlearn: 0.0892689\ttotal: 926ms\tremaining: 4.22s\n",
      "180:\tlearn: 0.0887679\ttotal: 935ms\tremaining: 4.23s\n",
      "181:\tlearn: 0.0884154\ttotal: 942ms\tremaining: 4.23s\n",
      "182:\tlearn: 0.0880837\ttotal: 951ms\tremaining: 4.24s\n",
      "183:\tlearn: 0.0873732\ttotal: 959ms\tremaining: 4.25s\n",
      "184:\tlearn: 0.0869037\ttotal: 1s\tremaining: 4.42s\n",
      "185:\tlearn: 0.0862812\ttotal: 1.02s\tremaining: 4.47s\n",
      "186:\tlearn: 0.0857900\ttotal: 1.04s\tremaining: 4.52s\n",
      "187:\tlearn: 0.0855126\ttotal: 1.05s\tremaining: 4.52s\n",
      "188:\tlearn: 0.0849404\ttotal: 1.06s\tremaining: 4.55s\n",
      "189:\tlearn: 0.0846388\ttotal: 1.08s\tremaining: 4.61s\n",
      "190:\tlearn: 0.0843345\ttotal: 1.09s\tremaining: 4.62s\n",
      "191:\tlearn: 0.0837595\ttotal: 1.1s\tremaining: 4.62s\n",
      "192:\tlearn: 0.0832488\ttotal: 1.1s\tremaining: 4.62s\n",
      "193:\tlearn: 0.0829389\ttotal: 1.11s\tremaining: 4.62s\n",
      "194:\tlearn: 0.0825970\ttotal: 1.13s\tremaining: 4.65s\n",
      "195:\tlearn: 0.0820645\ttotal: 1.14s\tremaining: 4.66s\n",
      "196:\tlearn: 0.0816460\ttotal: 1.14s\tremaining: 4.67s\n",
      "197:\tlearn: 0.0812004\ttotal: 1.15s\tremaining: 4.67s\n",
      "198:\tlearn: 0.0808392\ttotal: 1.16s\tremaining: 4.68s\n",
      "199:\tlearn: 0.0805280\ttotal: 1.17s\tremaining: 4.69s\n",
      "200:\tlearn: 0.0801152\ttotal: 1.18s\tremaining: 4.7s\n",
      "201:\tlearn: 0.0796148\ttotal: 1.19s\tremaining: 4.7s\n",
      "202:\tlearn: 0.0792117\ttotal: 1.2s\tremaining: 4.69s\n",
      "203:\tlearn: 0.0786812\ttotal: 1.22s\tremaining: 4.76s\n",
      "204:\tlearn: 0.0782108\ttotal: 1.23s\tremaining: 4.77s\n",
      "205:\tlearn: 0.0777134\ttotal: 1.24s\tremaining: 4.78s\n",
      "206:\tlearn: 0.0774485\ttotal: 1.25s\tremaining: 4.8s\n",
      "207:\tlearn: 0.0768637\ttotal: 1.26s\tremaining: 4.8s\n",
      "208:\tlearn: 0.0764463\ttotal: 1.27s\tremaining: 4.8s\n",
      "209:\tlearn: 0.0761938\ttotal: 1.28s\tremaining: 4.81s\n",
      "210:\tlearn: 0.0758238\ttotal: 1.3s\tremaining: 4.85s\n",
      "211:\tlearn: 0.0755627\ttotal: 1.3s\tremaining: 4.85s\n",
      "212:\tlearn: 0.0750329\ttotal: 1.31s\tremaining: 4.85s\n",
      "213:\tlearn: 0.0747750\ttotal: 1.32s\tremaining: 4.85s\n",
      "214:\tlearn: 0.0744998\ttotal: 1.33s\tremaining: 4.85s\n",
      "215:\tlearn: 0.0740999\ttotal: 1.34s\tremaining: 4.88s\n",
      "216:\tlearn: 0.0739302\ttotal: 1.35s\tremaining: 4.88s\n",
      "217:\tlearn: 0.0735402\ttotal: 1.36s\tremaining: 4.9s\n",
      "218:\tlearn: 0.0730486\ttotal: 1.37s\tremaining: 4.9s\n",
      "219:\tlearn: 0.0728448\ttotal: 1.38s\tremaining: 4.91s\n",
      "220:\tlearn: 0.0725199\ttotal: 1.4s\tremaining: 4.92s\n",
      "221:\tlearn: 0.0723033\ttotal: 1.41s\tremaining: 4.93s\n",
      "222:\tlearn: 0.0719294\ttotal: 1.42s\tremaining: 4.95s\n",
      "223:\tlearn: 0.0715833\ttotal: 1.43s\tremaining: 4.95s\n",
      "224:\tlearn: 0.0712000\ttotal: 1.44s\tremaining: 4.97s\n",
      "225:\tlearn: 0.0709269\ttotal: 1.45s\tremaining: 4.96s\n",
      "226:\tlearn: 0.0705963\ttotal: 1.46s\tremaining: 4.97s\n",
      "227:\tlearn: 0.0704030\ttotal: 1.47s\tremaining: 4.97s\n",
      "228:\tlearn: 0.0699165\ttotal: 1.48s\tremaining: 4.97s\n",
      "229:\tlearn: 0.0695700\ttotal: 1.48s\tremaining: 4.96s\n",
      "230:\tlearn: 0.0692274\ttotal: 1.49s\tremaining: 4.96s\n",
      "231:\tlearn: 0.0688705\ttotal: 1.5s\tremaining: 4.96s\n",
      "232:\tlearn: 0.0685525\ttotal: 1.51s\tremaining: 4.96s\n",
      "233:\tlearn: 0.0682305\ttotal: 1.52s\tremaining: 4.97s\n",
      "234:\tlearn: 0.0677676\ttotal: 1.53s\tremaining: 4.97s\n",
      "235:\tlearn: 0.0674383\ttotal: 1.53s\tremaining: 4.97s\n",
      "236:\tlearn: 0.0670258\ttotal: 1.54s\tremaining: 4.97s\n",
      "237:\tlearn: 0.0666632\ttotal: 1.55s\tremaining: 4.98s\n",
      "238:\tlearn: 0.0664674\ttotal: 1.56s\tremaining: 4.98s\n",
      "239:\tlearn: 0.0661481\ttotal: 1.57s\tremaining: 4.98s\n",
      "240:\tlearn: 0.0658904\ttotal: 1.58s\tremaining: 4.98s\n",
      "241:\tlearn: 0.0655978\ttotal: 1.59s\tremaining: 4.97s\n",
      "242:\tlearn: 0.0654114\ttotal: 1.59s\tremaining: 4.97s\n",
      "243:\tlearn: 0.0651543\ttotal: 1.6s\tremaining: 4.97s\n",
      "244:\tlearn: 0.0649495\ttotal: 1.61s\tremaining: 4.97s\n",
      "245:\tlearn: 0.0645432\ttotal: 1.62s\tremaining: 4.96s\n",
      "246:\tlearn: 0.0641700\ttotal: 1.63s\tremaining: 4.96s\n",
      "247:\tlearn: 0.0638608\ttotal: 1.63s\tremaining: 4.96s\n",
      "248:\tlearn: 0.0635400\ttotal: 1.64s\tremaining: 4.96s\n",
      "249:\tlearn: 0.0632453\ttotal: 1.65s\tremaining: 4.95s\n",
      "250:\tlearn: 0.0631355\ttotal: 1.66s\tremaining: 4.94s\n",
      "251:\tlearn: 0.0627802\ttotal: 1.66s\tremaining: 4.94s\n",
      "252:\tlearn: 0.0624015\ttotal: 1.67s\tremaining: 4.93s\n",
      "253:\tlearn: 0.0621350\ttotal: 1.68s\tremaining: 4.94s\n",
      "254:\tlearn: 0.0618164\ttotal: 1.69s\tremaining: 4.93s\n",
      "255:\tlearn: 0.0613909\ttotal: 1.7s\tremaining: 4.93s\n",
      "256:\tlearn: 0.0610803\ttotal: 1.71s\tremaining: 4.93s\n",
      "257:\tlearn: 0.0608154\ttotal: 1.71s\tremaining: 4.93s\n",
      "258:\tlearn: 0.0605200\ttotal: 1.72s\tremaining: 4.92s\n",
      "259:\tlearn: 0.0602747\ttotal: 1.73s\tremaining: 4.92s\n",
      "260:\tlearn: 0.0600018\ttotal: 1.74s\tremaining: 4.92s\n",
      "261:\tlearn: 0.0596981\ttotal: 1.74s\tremaining: 4.91s\n",
      "262:\tlearn: 0.0595213\ttotal: 1.75s\tremaining: 4.91s\n",
      "263:\tlearn: 0.0592890\ttotal: 1.76s\tremaining: 4.91s\n",
      "264:\tlearn: 0.0588754\ttotal: 1.77s\tremaining: 4.9s\n",
      "265:\tlearn: 0.0586593\ttotal: 1.77s\tremaining: 4.9s\n",
      "266:\tlearn: 0.0584408\ttotal: 1.78s\tremaining: 4.89s\n",
      "267:\tlearn: 0.0581234\ttotal: 1.79s\tremaining: 4.89s\n",
      "268:\tlearn: 0.0579236\ttotal: 1.8s\tremaining: 4.88s\n",
      "269:\tlearn: 0.0576076\ttotal: 1.81s\tremaining: 4.89s\n",
      "270:\tlearn: 0.0572802\ttotal: 1.82s\tremaining: 4.89s\n",
      "271:\tlearn: 0.0570228\ttotal: 1.82s\tremaining: 4.88s\n",
      "272:\tlearn: 0.0567599\ttotal: 1.83s\tremaining: 4.88s\n",
      "273:\tlearn: 0.0564733\ttotal: 1.84s\tremaining: 4.88s\n",
      "274:\tlearn: 0.0561715\ttotal: 1.85s\tremaining: 4.87s\n",
      "275:\tlearn: 0.0559371\ttotal: 1.85s\tremaining: 4.86s\n",
      "276:\tlearn: 0.0557043\ttotal: 1.86s\tremaining: 4.86s\n",
      "277:\tlearn: 0.0555393\ttotal: 1.87s\tremaining: 4.87s\n",
      "278:\tlearn: 0.0553684\ttotal: 1.9s\tremaining: 4.92s\n",
      "279:\tlearn: 0.0551971\ttotal: 1.91s\tremaining: 4.92s\n",
      "280:\tlearn: 0.0549328\ttotal: 1.92s\tremaining: 4.91s\n",
      "281:\tlearn: 0.0547483\ttotal: 1.93s\tremaining: 4.9s\n",
      "282:\tlearn: 0.0544869\ttotal: 1.97s\tremaining: 5s\n",
      "283:\tlearn: 0.0542710\ttotal: 1.98s\tremaining: 5s\n",
      "284:\tlearn: 0.0540160\ttotal: 2.02s\tremaining: 5.08s\n",
      "285:\tlearn: 0.0538457\ttotal: 2.03s\tremaining: 5.07s\n",
      "286:\tlearn: 0.0536861\ttotal: 2.04s\tremaining: 5.07s\n",
      "287:\tlearn: 0.0534741\ttotal: 2.06s\tremaining: 5.09s\n",
      "288:\tlearn: 0.0532568\ttotal: 2.07s\tremaining: 5.09s\n",
      "289:\tlearn: 0.0530277\ttotal: 2.08s\tremaining: 5.08s\n",
      "290:\tlearn: 0.0528407\ttotal: 2.08s\tremaining: 5.08s\n",
      "291:\tlearn: 0.0526339\ttotal: 2.09s\tremaining: 5.08s\n",
      "292:\tlearn: 0.0524219\ttotal: 2.1s\tremaining: 5.07s\n",
      "293:\tlearn: 0.0522220\ttotal: 2.11s\tremaining: 5.07s\n",
      "294:\tlearn: 0.0519070\ttotal: 2.13s\tremaining: 5.1s\n",
      "295:\tlearn: 0.0517111\ttotal: 2.14s\tremaining: 5.09s\n",
      "296:\tlearn: 0.0515407\ttotal: 2.15s\tremaining: 5.08s\n",
      "297:\tlearn: 0.0513750\ttotal: 2.16s\tremaining: 5.08s\n",
      "298:\tlearn: 0.0512486\ttotal: 2.17s\tremaining: 5.08s\n",
      "299:\tlearn: 0.0510903\ttotal: 2.17s\tremaining: 5.07s\n",
      "300:\tlearn: 0.0508883\ttotal: 2.18s\tremaining: 5.06s\n",
      "301:\tlearn: 0.0507554\ttotal: 2.19s\tremaining: 5.06s\n",
      "302:\tlearn: 0.0505151\ttotal: 2.19s\tremaining: 5.05s\n",
      "303:\tlearn: 0.0504178\ttotal: 2.21s\tremaining: 5.05s\n",
      "304:\tlearn: 0.0503242\ttotal: 2.21s\tremaining: 5.05s\n",
      "305:\tlearn: 0.0501447\ttotal: 2.22s\tremaining: 5.04s\n",
      "306:\tlearn: 0.0499844\ttotal: 2.23s\tremaining: 5.04s\n",
      "307:\tlearn: 0.0498178\ttotal: 2.24s\tremaining: 5.03s\n",
      "308:\tlearn: 0.0496015\ttotal: 2.25s\tremaining: 5.02s\n",
      "309:\tlearn: 0.0494450\ttotal: 2.26s\tremaining: 5.02s\n",
      "310:\tlearn: 0.0492455\ttotal: 2.26s\tremaining: 5.01s\n",
      "311:\tlearn: 0.0490030\ttotal: 2.27s\tremaining: 5.01s\n",
      "312:\tlearn: 0.0487943\ttotal: 2.28s\tremaining: 5s\n",
      "313:\tlearn: 0.0486366\ttotal: 2.29s\tremaining: 5s\n",
      "314:\tlearn: 0.0484369\ttotal: 2.29s\tremaining: 4.99s\n",
      "315:\tlearn: 0.0482786\ttotal: 2.3s\tremaining: 4.99s\n",
      "316:\tlearn: 0.0480563\ttotal: 2.32s\tremaining: 4.99s\n",
      "317:\tlearn: 0.0479667\ttotal: 2.32s\tremaining: 4.99s\n",
      "318:\tlearn: 0.0477900\ttotal: 2.33s\tremaining: 4.98s\n",
      "319:\tlearn: 0.0476375\ttotal: 2.34s\tremaining: 4.97s\n",
      "320:\tlearn: 0.0475645\ttotal: 2.35s\tremaining: 4.97s\n",
      "321:\tlearn: 0.0474300\ttotal: 2.36s\tremaining: 4.96s\n",
      "322:\tlearn: 0.0473030\ttotal: 2.37s\tremaining: 4.96s\n",
      "323:\tlearn: 0.0471715\ttotal: 2.37s\tremaining: 4.95s\n",
      "324:\tlearn: 0.0470478\ttotal: 2.38s\tremaining: 4.95s\n",
      "325:\tlearn: 0.0469116\ttotal: 2.39s\tremaining: 4.94s\n",
      "326:\tlearn: 0.0467478\ttotal: 2.4s\tremaining: 4.93s\n",
      "327:\tlearn: 0.0465216\ttotal: 2.4s\tremaining: 4.92s\n",
      "328:\tlearn: 0.0462893\ttotal: 2.41s\tremaining: 4.92s\n",
      "329:\tlearn: 0.0461260\ttotal: 2.42s\tremaining: 4.91s\n",
      "330:\tlearn: 0.0460218\ttotal: 2.42s\tremaining: 4.9s\n",
      "331:\tlearn: 0.0459079\ttotal: 2.43s\tremaining: 4.89s\n",
      "332:\tlearn: 0.0457850\ttotal: 2.44s\tremaining: 4.88s\n",
      "333:\tlearn: 0.0456314\ttotal: 2.45s\tremaining: 4.88s\n",
      "334:\tlearn: 0.0454859\ttotal: 2.46s\tremaining: 4.87s\n",
      "335:\tlearn: 0.0452801\ttotal: 2.46s\tremaining: 4.87s\n",
      "336:\tlearn: 0.0450132\ttotal: 2.47s\tremaining: 4.86s\n",
      "337:\tlearn: 0.0448832\ttotal: 2.48s\tremaining: 4.86s\n",
      "338:\tlearn: 0.0447866\ttotal: 2.49s\tremaining: 4.86s\n",
      "339:\tlearn: 0.0446691\ttotal: 2.5s\tremaining: 4.85s\n",
      "340:\tlearn: 0.0444753\ttotal: 2.5s\tremaining: 4.84s\n",
      "341:\tlearn: 0.0443370\ttotal: 2.51s\tremaining: 4.83s\n",
      "342:\tlearn: 0.0442109\ttotal: 2.52s\tremaining: 4.82s\n"
     ]
    },
    {
     "name": "stdout",
     "output_type": "stream",
     "text": [
      "343:\tlearn: 0.0440136\ttotal: 2.53s\tremaining: 4.82s\n",
      "344:\tlearn: 0.0438553\ttotal: 2.53s\tremaining: 4.8s\n",
      "345:\tlearn: 0.0436314\ttotal: 2.54s\tremaining: 4.79s\n",
      "346:\tlearn: 0.0434628\ttotal: 2.54s\tremaining: 4.79s\n",
      "347:\tlearn: 0.0433432\ttotal: 2.55s\tremaining: 4.78s\n",
      "348:\tlearn: 0.0432055\ttotal: 2.56s\tremaining: 4.77s\n",
      "349:\tlearn: 0.0430785\ttotal: 2.56s\tremaining: 4.76s\n",
      "350:\tlearn: 0.0428537\ttotal: 2.57s\tremaining: 4.76s\n",
      "351:\tlearn: 0.0427269\ttotal: 2.58s\tremaining: 4.74s\n",
      "352:\tlearn: 0.0425729\ttotal: 2.58s\tremaining: 4.73s\n",
      "353:\tlearn: 0.0424233\ttotal: 2.59s\tremaining: 4.72s\n",
      "354:\tlearn: 0.0422578\ttotal: 2.6s\tremaining: 4.72s\n",
      "355:\tlearn: 0.0421255\ttotal: 2.6s\tremaining: 4.71s\n",
      "356:\tlearn: 0.0419888\ttotal: 2.61s\tremaining: 4.7s\n",
      "357:\tlearn: 0.0418039\ttotal: 2.62s\tremaining: 4.69s\n",
      "358:\tlearn: 0.0417147\ttotal: 2.62s\tremaining: 4.68s\n",
      "359:\tlearn: 0.0416469\ttotal: 2.63s\tremaining: 4.67s\n",
      "360:\tlearn: 0.0415169\ttotal: 2.64s\tremaining: 4.67s\n",
      "361:\tlearn: 0.0413259\ttotal: 2.64s\tremaining: 4.66s\n",
      "362:\tlearn: 0.0412060\ttotal: 2.65s\tremaining: 4.65s\n",
      "363:\tlearn: 0.0411145\ttotal: 2.66s\tremaining: 4.64s\n",
      "364:\tlearn: 0.0409867\ttotal: 2.66s\tremaining: 4.63s\n",
      "365:\tlearn: 0.0408439\ttotal: 2.67s\tremaining: 4.63s\n",
      "366:\tlearn: 0.0407384\ttotal: 2.68s\tremaining: 4.62s\n",
      "367:\tlearn: 0.0406095\ttotal: 2.69s\tremaining: 4.61s\n",
      "368:\tlearn: 0.0404682\ttotal: 2.69s\tremaining: 4.6s\n",
      "369:\tlearn: 0.0403597\ttotal: 2.7s\tremaining: 4.59s\n",
      "370:\tlearn: 0.0402565\ttotal: 2.71s\tremaining: 4.59s\n",
      "371:\tlearn: 0.0401005\ttotal: 2.71s\tremaining: 4.58s\n",
      "372:\tlearn: 0.0400122\ttotal: 2.73s\tremaining: 4.59s\n",
      "373:\tlearn: 0.0398591\ttotal: 2.74s\tremaining: 4.59s\n",
      "374:\tlearn: 0.0397013\ttotal: 2.75s\tremaining: 4.58s\n",
      "375:\tlearn: 0.0396239\ttotal: 2.76s\tremaining: 4.58s\n",
      "376:\tlearn: 0.0395218\ttotal: 2.77s\tremaining: 4.57s\n",
      "377:\tlearn: 0.0394108\ttotal: 2.77s\tremaining: 4.57s\n",
      "378:\tlearn: 0.0392986\ttotal: 2.78s\tremaining: 4.56s\n",
      "379:\tlearn: 0.0391634\ttotal: 2.79s\tremaining: 4.55s\n",
      "380:\tlearn: 0.0390407\ttotal: 2.79s\tremaining: 4.54s\n",
      "381:\tlearn: 0.0388558\ttotal: 2.8s\tremaining: 4.53s\n",
      "382:\tlearn: 0.0387381\ttotal: 2.81s\tremaining: 4.52s\n",
      "383:\tlearn: 0.0386383\ttotal: 2.81s\tremaining: 4.51s\n",
      "384:\tlearn: 0.0385207\ttotal: 2.82s\tremaining: 4.5s\n",
      "385:\tlearn: 0.0383689\ttotal: 2.83s\tremaining: 4.5s\n",
      "386:\tlearn: 0.0382171\ttotal: 2.83s\tremaining: 4.49s\n",
      "387:\tlearn: 0.0380630\ttotal: 2.84s\tremaining: 4.48s\n",
      "388:\tlearn: 0.0379839\ttotal: 2.85s\tremaining: 4.47s\n",
      "389:\tlearn: 0.0378989\ttotal: 2.85s\tremaining: 4.47s\n",
      "390:\tlearn: 0.0377431\ttotal: 2.86s\tremaining: 4.46s\n",
      "391:\tlearn: 0.0376639\ttotal: 2.87s\tremaining: 4.45s\n",
      "392:\tlearn: 0.0375407\ttotal: 2.88s\tremaining: 4.44s\n",
      "393:\tlearn: 0.0373702\ttotal: 2.88s\tremaining: 4.44s\n",
      "394:\tlearn: 0.0373027\ttotal: 2.89s\tremaining: 4.43s\n",
      "395:\tlearn: 0.0371983\ttotal: 2.9s\tremaining: 4.42s\n",
      "396:\tlearn: 0.0370888\ttotal: 2.91s\tremaining: 4.41s\n",
      "397:\tlearn: 0.0370079\ttotal: 2.91s\tremaining: 4.41s\n",
      "398:\tlearn: 0.0369185\ttotal: 2.92s\tremaining: 4.4s\n",
      "399:\tlearn: 0.0368524\ttotal: 2.92s\tremaining: 4.39s\n",
      "400:\tlearn: 0.0366731\ttotal: 2.93s\tremaining: 4.38s\n",
      "401:\tlearn: 0.0365736\ttotal: 2.94s\tremaining: 4.37s\n",
      "402:\tlearn: 0.0364233\ttotal: 2.94s\tremaining: 4.36s\n",
      "403:\tlearn: 0.0363044\ttotal: 2.95s\tremaining: 4.36s\n",
      "404:\tlearn: 0.0362350\ttotal: 2.96s\tremaining: 4.35s\n",
      "405:\tlearn: 0.0361507\ttotal: 2.96s\tremaining: 4.34s\n",
      "406:\tlearn: 0.0360844\ttotal: 2.97s\tremaining: 4.33s\n",
      "407:\tlearn: 0.0359857\ttotal: 2.98s\tremaining: 4.33s\n",
      "408:\tlearn: 0.0358619\ttotal: 2.99s\tremaining: 4.32s\n",
      "409:\tlearn: 0.0357906\ttotal: 2.99s\tremaining: 4.31s\n",
      "410:\tlearn: 0.0356600\ttotal: 3s\tremaining: 4.3s\n",
      "411:\tlearn: 0.0355772\ttotal: 3.01s\tremaining: 4.29s\n",
      "412:\tlearn: 0.0354752\ttotal: 3.01s\tremaining: 4.28s\n",
      "413:\tlearn: 0.0353529\ttotal: 3.02s\tremaining: 4.27s\n",
      "414:\tlearn: 0.0352652\ttotal: 3.02s\tremaining: 4.26s\n",
      "415:\tlearn: 0.0351960\ttotal: 3.03s\tremaining: 4.25s\n",
      "416:\tlearn: 0.0351033\ttotal: 3.04s\tremaining: 4.24s\n",
      "417:\tlearn: 0.0350170\ttotal: 3.04s\tremaining: 4.24s\n",
      "418:\tlearn: 0.0348687\ttotal: 3.05s\tremaining: 4.23s\n",
      "419:\tlearn: 0.0347816\ttotal: 3.06s\tremaining: 4.22s\n",
      "420:\tlearn: 0.0346786\ttotal: 3.07s\tremaining: 4.22s\n",
      "421:\tlearn: 0.0345448\ttotal: 3.07s\tremaining: 4.21s\n",
      "422:\tlearn: 0.0344327\ttotal: 3.08s\tremaining: 4.2s\n",
      "423:\tlearn: 0.0343333\ttotal: 3.09s\tremaining: 4.2s\n",
      "424:\tlearn: 0.0342486\ttotal: 3.1s\tremaining: 4.19s\n",
      "425:\tlearn: 0.0341236\ttotal: 3.1s\tremaining: 4.18s\n",
      "426:\tlearn: 0.0340021\ttotal: 3.11s\tremaining: 4.17s\n",
      "427:\tlearn: 0.0338965\ttotal: 3.12s\tremaining: 4.17s\n",
      "428:\tlearn: 0.0338129\ttotal: 3.12s\tremaining: 4.16s\n",
      "429:\tlearn: 0.0337686\ttotal: 3.13s\tremaining: 4.15s\n",
      "430:\tlearn: 0.0336963\ttotal: 3.14s\tremaining: 4.14s\n",
      "431:\tlearn: 0.0335815\ttotal: 3.15s\tremaining: 4.13s\n",
      "432:\tlearn: 0.0334154\ttotal: 3.15s\tremaining: 4.13s\n",
      "433:\tlearn: 0.0332906\ttotal: 3.16s\tremaining: 4.12s\n",
      "434:\tlearn: 0.0332049\ttotal: 3.17s\tremaining: 4.11s\n",
      "435:\tlearn: 0.0330991\ttotal: 3.17s\tremaining: 4.11s\n",
      "436:\tlearn: 0.0329946\ttotal: 3.18s\tremaining: 4.1s\n",
      "437:\tlearn: 0.0329277\ttotal: 3.19s\tremaining: 4.09s\n",
      "438:\tlearn: 0.0328277\ttotal: 3.2s\tremaining: 4.09s\n",
      "439:\tlearn: 0.0327389\ttotal: 3.2s\tremaining: 4.08s\n",
      "440:\tlearn: 0.0326664\ttotal: 3.21s\tremaining: 4.07s\n",
      "441:\tlearn: 0.0325836\ttotal: 3.22s\tremaining: 4.07s\n",
      "442:\tlearn: 0.0324931\ttotal: 3.23s\tremaining: 4.06s\n",
      "443:\tlearn: 0.0323845\ttotal: 3.23s\tremaining: 4.05s\n",
      "444:\tlearn: 0.0322979\ttotal: 3.24s\tremaining: 4.04s\n",
      "445:\tlearn: 0.0322180\ttotal: 3.25s\tremaining: 4.04s\n",
      "446:\tlearn: 0.0321323\ttotal: 3.26s\tremaining: 4.03s\n",
      "447:\tlearn: 0.0320307\ttotal: 3.27s\tremaining: 4.02s\n",
      "448:\tlearn: 0.0319295\ttotal: 3.27s\tremaining: 4.02s\n",
      "449:\tlearn: 0.0318404\ttotal: 3.28s\tremaining: 4.01s\n",
      "450:\tlearn: 0.0317543\ttotal: 3.29s\tremaining: 4s\n",
      "451:\tlearn: 0.0316321\ttotal: 3.29s\tremaining: 3.99s\n",
      "452:\tlearn: 0.0315767\ttotal: 3.3s\tremaining: 3.98s\n",
      "453:\tlearn: 0.0314899\ttotal: 3.31s\tremaining: 3.98s\n",
      "454:\tlearn: 0.0314073\ttotal: 3.31s\tremaining: 3.97s\n",
      "455:\tlearn: 0.0313377\ttotal: 3.32s\tremaining: 3.96s\n",
      "456:\tlearn: 0.0312635\ttotal: 3.32s\tremaining: 3.95s\n",
      "457:\tlearn: 0.0312127\ttotal: 3.33s\tremaining: 3.94s\n",
      "458:\tlearn: 0.0311365\ttotal: 3.33s\tremaining: 3.93s\n",
      "459:\tlearn: 0.0310352\ttotal: 3.34s\tremaining: 3.92s\n",
      "460:\tlearn: 0.0309652\ttotal: 3.34s\tremaining: 3.91s\n",
      "461:\tlearn: 0.0309084\ttotal: 3.35s\tremaining: 3.9s\n",
      "462:\tlearn: 0.0307893\ttotal: 3.36s\tremaining: 3.89s\n",
      "463:\tlearn: 0.0307187\ttotal: 3.36s\tremaining: 3.88s\n",
      "464:\tlearn: 0.0306910\ttotal: 3.37s\tremaining: 3.88s\n",
      "465:\tlearn: 0.0306339\ttotal: 3.37s\tremaining: 3.87s\n",
      "466:\tlearn: 0.0305323\ttotal: 3.38s\tremaining: 3.86s\n",
      "467:\tlearn: 0.0304658\ttotal: 3.38s\tremaining: 3.85s\n",
      "468:\tlearn: 0.0304423\ttotal: 3.39s\tremaining: 3.84s\n",
      "469:\tlearn: 0.0303919\ttotal: 3.4s\tremaining: 3.83s\n",
      "470:\tlearn: 0.0303453\ttotal: 3.4s\tremaining: 3.82s\n",
      "471:\tlearn: 0.0302461\ttotal: 3.41s\tremaining: 3.81s\n",
      "472:\tlearn: 0.0301911\ttotal: 3.41s\tremaining: 3.8s\n",
      "473:\tlearn: 0.0301330\ttotal: 3.42s\tremaining: 3.8s\n",
      "474:\tlearn: 0.0300614\ttotal: 3.43s\tremaining: 3.79s\n",
      "475:\tlearn: 0.0299865\ttotal: 3.43s\tremaining: 3.78s\n",
      "476:\tlearn: 0.0299257\ttotal: 3.44s\tremaining: 3.77s\n",
      "477:\tlearn: 0.0298348\ttotal: 3.45s\tremaining: 3.77s\n",
      "478:\tlearn: 0.0297634\ttotal: 3.45s\tremaining: 3.76s\n",
      "479:\tlearn: 0.0296648\ttotal: 3.46s\tremaining: 3.75s\n",
      "480:\tlearn: 0.0295819\ttotal: 3.46s\tremaining: 3.74s\n",
      "481:\tlearn: 0.0295368\ttotal: 3.47s\tremaining: 3.73s\n",
      "482:\tlearn: 0.0294496\ttotal: 3.48s\tremaining: 3.73s\n",
      "483:\tlearn: 0.0293758\ttotal: 3.49s\tremaining: 3.72s\n",
      "484:\tlearn: 0.0293005\ttotal: 3.49s\tremaining: 3.71s\n",
      "485:\tlearn: 0.0292387\ttotal: 3.5s\tremaining: 3.7s\n",
      "486:\tlearn: 0.0291857\ttotal: 3.5s\tremaining: 3.69s\n",
      "487:\tlearn: 0.0291070\ttotal: 3.51s\tremaining: 3.68s\n",
      "488:\tlearn: 0.0290203\ttotal: 3.51s\tremaining: 3.67s\n",
      "489:\tlearn: 0.0289542\ttotal: 3.52s\tremaining: 3.66s\n",
      "490:\tlearn: 0.0288969\ttotal: 3.52s\tremaining: 3.65s\n",
      "491:\tlearn: 0.0288301\ttotal: 3.53s\tremaining: 3.64s\n",
      "492:\tlearn: 0.0287793\ttotal: 3.53s\tremaining: 3.63s\n",
      "493:\tlearn: 0.0287042\ttotal: 3.54s\tremaining: 3.63s\n",
      "494:\tlearn: 0.0286375\ttotal: 3.54s\tremaining: 3.62s\n",
      "495:\tlearn: 0.0285413\ttotal: 3.55s\tremaining: 3.61s\n",
      "496:\tlearn: 0.0284767\ttotal: 3.55s\tremaining: 3.6s\n",
      "497:\tlearn: 0.0283991\ttotal: 3.56s\tremaining: 3.59s\n",
      "498:\tlearn: 0.0283416\ttotal: 3.56s\tremaining: 3.58s\n",
      "499:\tlearn: 0.0283004\ttotal: 3.57s\tremaining: 3.57s\n",
      "500:\tlearn: 0.0282592\ttotal: 3.58s\tremaining: 3.56s\n",
      "501:\tlearn: 0.0281901\ttotal: 3.58s\tremaining: 3.55s\n",
      "502:\tlearn: 0.0281379\ttotal: 3.59s\tremaining: 3.54s\n"
     ]
    },
    {
     "name": "stdout",
     "output_type": "stream",
     "text": [
      "503:\tlearn: 0.0280707\ttotal: 3.59s\tremaining: 3.54s\n",
      "504:\tlearn: 0.0280273\ttotal: 3.6s\tremaining: 3.53s\n",
      "505:\tlearn: 0.0279920\ttotal: 3.61s\tremaining: 3.52s\n",
      "506:\tlearn: 0.0279330\ttotal: 3.62s\tremaining: 3.52s\n",
      "507:\tlearn: 0.0278578\ttotal: 3.62s\tremaining: 3.51s\n",
      "508:\tlearn: 0.0278033\ttotal: 3.63s\tremaining: 3.5s\n",
      "509:\tlearn: 0.0277017\ttotal: 3.64s\tremaining: 3.49s\n",
      "510:\tlearn: 0.0276757\ttotal: 3.64s\tremaining: 3.48s\n",
      "511:\tlearn: 0.0275850\ttotal: 3.65s\tremaining: 3.48s\n",
      "512:\tlearn: 0.0275252\ttotal: 3.65s\tremaining: 3.47s\n",
      "513:\tlearn: 0.0274841\ttotal: 3.66s\tremaining: 3.46s\n",
      "514:\tlearn: 0.0274228\ttotal: 3.67s\tremaining: 3.45s\n",
      "515:\tlearn: 0.0273417\ttotal: 3.67s\tremaining: 3.44s\n",
      "516:\tlearn: 0.0272594\ttotal: 3.68s\tremaining: 3.44s\n",
      "517:\tlearn: 0.0271587\ttotal: 3.69s\tremaining: 3.43s\n",
      "518:\tlearn: 0.0270978\ttotal: 3.69s\tremaining: 3.42s\n",
      "519:\tlearn: 0.0270396\ttotal: 3.7s\tremaining: 3.41s\n",
      "520:\tlearn: 0.0269807\ttotal: 3.7s\tremaining: 3.4s\n",
      "521:\tlearn: 0.0269109\ttotal: 3.71s\tremaining: 3.39s\n",
      "522:\tlearn: 0.0268721\ttotal: 3.71s\tremaining: 3.38s\n",
      "523:\tlearn: 0.0268124\ttotal: 3.72s\tremaining: 3.38s\n",
      "524:\tlearn: 0.0267271\ttotal: 3.72s\tremaining: 3.37s\n",
      "525:\tlearn: 0.0266495\ttotal: 3.73s\tremaining: 3.36s\n",
      "526:\tlearn: 0.0265539\ttotal: 3.73s\tremaining: 3.35s\n",
      "527:\tlearn: 0.0264596\ttotal: 3.74s\tremaining: 3.34s\n",
      "528:\tlearn: 0.0264184\ttotal: 3.74s\tremaining: 3.33s\n",
      "529:\tlearn: 0.0263596\ttotal: 3.75s\tremaining: 3.32s\n",
      "530:\tlearn: 0.0263079\ttotal: 3.75s\tremaining: 3.31s\n",
      "531:\tlearn: 0.0262462\ttotal: 3.76s\tremaining: 3.31s\n",
      "532:\tlearn: 0.0262032\ttotal: 3.76s\tremaining: 3.3s\n",
      "533:\tlearn: 0.0261652\ttotal: 3.77s\tremaining: 3.29s\n",
      "534:\tlearn: 0.0261229\ttotal: 3.77s\tremaining: 3.28s\n",
      "535:\tlearn: 0.0260884\ttotal: 3.78s\tremaining: 3.27s\n",
      "536:\tlearn: 0.0260526\ttotal: 3.78s\tremaining: 3.26s\n",
      "537:\tlearn: 0.0259912\ttotal: 3.79s\tremaining: 3.25s\n",
      "538:\tlearn: 0.0259359\ttotal: 3.8s\tremaining: 3.25s\n",
      "539:\tlearn: 0.0258685\ttotal: 3.8s\tremaining: 3.24s\n",
      "540:\tlearn: 0.0257927\ttotal: 3.81s\tremaining: 3.23s\n",
      "541:\tlearn: 0.0257362\ttotal: 3.81s\tremaining: 3.22s\n",
      "542:\tlearn: 0.0256762\ttotal: 3.81s\tremaining: 3.21s\n",
      "543:\tlearn: 0.0256239\ttotal: 3.82s\tremaining: 3.2s\n",
      "544:\tlearn: 0.0255551\ttotal: 3.83s\tremaining: 3.19s\n",
      "545:\tlearn: 0.0254978\ttotal: 3.83s\tremaining: 3.19s\n",
      "546:\tlearn: 0.0254459\ttotal: 3.84s\tremaining: 3.18s\n",
      "547:\tlearn: 0.0253681\ttotal: 3.84s\tremaining: 3.17s\n",
      "548:\tlearn: 0.0252990\ttotal: 3.85s\tremaining: 3.16s\n",
      "549:\tlearn: 0.0252581\ttotal: 3.85s\tremaining: 3.15s\n",
      "550:\tlearn: 0.0252080\ttotal: 3.86s\tremaining: 3.14s\n",
      "551:\tlearn: 0.0251301\ttotal: 3.86s\tremaining: 3.13s\n",
      "552:\tlearn: 0.0251005\ttotal: 3.87s\tremaining: 3.13s\n",
      "553:\tlearn: 0.0250231\ttotal: 3.87s\tremaining: 3.12s\n",
      "554:\tlearn: 0.0249490\ttotal: 3.88s\tremaining: 3.11s\n",
      "555:\tlearn: 0.0249061\ttotal: 3.88s\tremaining: 3.1s\n",
      "556:\tlearn: 0.0248498\ttotal: 3.89s\tremaining: 3.09s\n",
      "557:\tlearn: 0.0247950\ttotal: 3.89s\tremaining: 3.08s\n",
      "558:\tlearn: 0.0247508\ttotal: 3.9s\tremaining: 3.08s\n",
      "559:\tlearn: 0.0246812\ttotal: 3.9s\tremaining: 3.07s\n",
      "560:\tlearn: 0.0246402\ttotal: 3.91s\tremaining: 3.06s\n",
      "561:\tlearn: 0.0245797\ttotal: 3.92s\tremaining: 3.05s\n",
      "562:\tlearn: 0.0245189\ttotal: 3.92s\tremaining: 3.04s\n",
      "563:\tlearn: 0.0244730\ttotal: 3.92s\tremaining: 3.03s\n",
      "564:\tlearn: 0.0244313\ttotal: 3.93s\tremaining: 3.03s\n",
      "565:\tlearn: 0.0243895\ttotal: 3.94s\tremaining: 3.02s\n",
      "566:\tlearn: 0.0243371\ttotal: 3.94s\tremaining: 3.01s\n",
      "567:\tlearn: 0.0242886\ttotal: 3.94s\tremaining: 3s\n",
      "568:\tlearn: 0.0242451\ttotal: 3.95s\tremaining: 2.99s\n",
      "569:\tlearn: 0.0241778\ttotal: 3.96s\tremaining: 2.99s\n",
      "570:\tlearn: 0.0241335\ttotal: 3.96s\tremaining: 2.98s\n",
      "571:\tlearn: 0.0240696\ttotal: 3.97s\tremaining: 2.97s\n",
      "572:\tlearn: 0.0240396\ttotal: 3.97s\tremaining: 2.96s\n",
      "573:\tlearn: 0.0240092\ttotal: 3.98s\tremaining: 2.95s\n",
      "574:\tlearn: 0.0239501\ttotal: 3.98s\tremaining: 2.94s\n",
      "575:\tlearn: 0.0238863\ttotal: 3.99s\tremaining: 2.94s\n",
      "576:\tlearn: 0.0238429\ttotal: 4s\tremaining: 2.93s\n",
      "577:\tlearn: 0.0237871\ttotal: 4s\tremaining: 2.92s\n",
      "578:\tlearn: 0.0237410\ttotal: 4.01s\tremaining: 2.91s\n",
      "579:\tlearn: 0.0236894\ttotal: 4.01s\tremaining: 2.91s\n",
      "580:\tlearn: 0.0236464\ttotal: 4.02s\tremaining: 2.9s\n",
      "581:\tlearn: 0.0236125\ttotal: 4.03s\tremaining: 2.89s\n",
      "582:\tlearn: 0.0235785\ttotal: 4.03s\tremaining: 2.88s\n",
      "583:\tlearn: 0.0234979\ttotal: 4.04s\tremaining: 2.88s\n",
      "584:\tlearn: 0.0234366\ttotal: 4.04s\tremaining: 2.87s\n",
      "585:\tlearn: 0.0233968\ttotal: 4.05s\tremaining: 2.86s\n",
      "586:\tlearn: 0.0233385\ttotal: 4.05s\tremaining: 2.85s\n",
      "587:\tlearn: 0.0233137\ttotal: 4.06s\tremaining: 2.84s\n",
      "588:\tlearn: 0.0232456\ttotal: 4.06s\tremaining: 2.84s\n",
      "589:\tlearn: 0.0232004\ttotal: 4.07s\tremaining: 2.83s\n",
      "590:\tlearn: 0.0230956\ttotal: 4.08s\tremaining: 2.82s\n",
      "591:\tlearn: 0.0230474\ttotal: 4.08s\tremaining: 2.81s\n",
      "592:\tlearn: 0.0230046\ttotal: 4.09s\tremaining: 2.81s\n",
      "593:\tlearn: 0.0229557\ttotal: 4.09s\tremaining: 2.8s\n",
      "594:\tlearn: 0.0229199\ttotal: 4.1s\tremaining: 2.79s\n",
      "595:\tlearn: 0.0228897\ttotal: 4.1s\tremaining: 2.78s\n",
      "596:\tlearn: 0.0227945\ttotal: 4.11s\tremaining: 2.77s\n",
      "597:\tlearn: 0.0227675\ttotal: 4.11s\tremaining: 2.77s\n",
      "598:\tlearn: 0.0227267\ttotal: 4.12s\tremaining: 2.76s\n",
      "599:\tlearn: 0.0226838\ttotal: 4.13s\tremaining: 2.75s\n",
      "600:\tlearn: 0.0226369\ttotal: 4.13s\tremaining: 2.74s\n",
      "601:\tlearn: 0.0226038\ttotal: 4.14s\tremaining: 2.74s\n",
      "602:\tlearn: 0.0225444\ttotal: 4.15s\tremaining: 2.73s\n",
      "603:\tlearn: 0.0224676\ttotal: 4.15s\tremaining: 2.72s\n",
      "604:\tlearn: 0.0224188\ttotal: 4.16s\tremaining: 2.71s\n",
      "605:\tlearn: 0.0223892\ttotal: 4.17s\tremaining: 2.71s\n",
      "606:\tlearn: 0.0223366\ttotal: 4.17s\tremaining: 2.7s\n",
      "607:\tlearn: 0.0222937\ttotal: 4.18s\tremaining: 2.69s\n",
      "608:\tlearn: 0.0222598\ttotal: 4.18s\tremaining: 2.68s\n",
      "609:\tlearn: 0.0222164\ttotal: 4.19s\tremaining: 2.68s\n",
      "610:\tlearn: 0.0221914\ttotal: 4.19s\tremaining: 2.67s\n",
      "611:\tlearn: 0.0221198\ttotal: 4.2s\tremaining: 2.66s\n",
      "612:\tlearn: 0.0220952\ttotal: 4.2s\tremaining: 2.65s\n",
      "613:\tlearn: 0.0220393\ttotal: 4.21s\tremaining: 2.65s\n",
      "614:\tlearn: 0.0220164\ttotal: 4.21s\tremaining: 2.64s\n",
      "615:\tlearn: 0.0219819\ttotal: 4.22s\tremaining: 2.63s\n",
      "616:\tlearn: 0.0219452\ttotal: 4.22s\tremaining: 2.62s\n",
      "617:\tlearn: 0.0219200\ttotal: 4.23s\tremaining: 2.61s\n",
      "618:\tlearn: 0.0218744\ttotal: 4.23s\tremaining: 2.6s\n",
      "619:\tlearn: 0.0218455\ttotal: 4.24s\tremaining: 2.6s\n",
      "620:\tlearn: 0.0217897\ttotal: 4.24s\tremaining: 2.59s\n",
      "621:\tlearn: 0.0217334\ttotal: 4.25s\tremaining: 2.58s\n",
      "622:\tlearn: 0.0216723\ttotal: 4.25s\tremaining: 2.57s\n",
      "623:\tlearn: 0.0216386\ttotal: 4.26s\tremaining: 2.56s\n",
      "624:\tlearn: 0.0215940\ttotal: 4.26s\tremaining: 2.56s\n",
      "625:\tlearn: 0.0215578\ttotal: 4.27s\tremaining: 2.55s\n",
      "626:\tlearn: 0.0215307\ttotal: 4.27s\tremaining: 2.54s\n",
      "627:\tlearn: 0.0214625\ttotal: 4.28s\tremaining: 2.54s\n",
      "628:\tlearn: 0.0214206\ttotal: 4.28s\tremaining: 2.53s\n",
      "629:\tlearn: 0.0213708\ttotal: 4.29s\tremaining: 2.52s\n",
      "630:\tlearn: 0.0213433\ttotal: 4.3s\tremaining: 2.51s\n",
      "631:\tlearn: 0.0213225\ttotal: 4.3s\tremaining: 2.5s\n",
      "632:\tlearn: 0.0212871\ttotal: 4.31s\tremaining: 2.5s\n",
      "633:\tlearn: 0.0212306\ttotal: 4.32s\tremaining: 2.49s\n",
      "634:\tlearn: 0.0211893\ttotal: 4.32s\tremaining: 2.48s\n",
      "635:\tlearn: 0.0211347\ttotal: 4.33s\tremaining: 2.48s\n",
      "636:\tlearn: 0.0210955\ttotal: 4.34s\tremaining: 2.47s\n",
      "637:\tlearn: 0.0210524\ttotal: 4.34s\tremaining: 2.46s\n",
      "638:\tlearn: 0.0210133\ttotal: 4.35s\tremaining: 2.46s\n",
      "639:\tlearn: 0.0209755\ttotal: 4.35s\tremaining: 2.45s\n",
      "640:\tlearn: 0.0209319\ttotal: 4.36s\tremaining: 2.44s\n",
      "641:\tlearn: 0.0208975\ttotal: 4.36s\tremaining: 2.43s\n",
      "642:\tlearn: 0.0208527\ttotal: 4.37s\tremaining: 2.43s\n",
      "643:\tlearn: 0.0208038\ttotal: 4.37s\tremaining: 2.42s\n",
      "644:\tlearn: 0.0207725\ttotal: 4.38s\tremaining: 2.41s\n",
      "645:\tlearn: 0.0207386\ttotal: 4.39s\tremaining: 2.4s\n",
      "646:\tlearn: 0.0206839\ttotal: 4.39s\tremaining: 2.4s\n",
      "647:\tlearn: 0.0206305\ttotal: 4.4s\tremaining: 2.39s\n",
      "648:\tlearn: 0.0205988\ttotal: 4.4s\tremaining: 2.38s\n",
      "649:\tlearn: 0.0205368\ttotal: 4.41s\tremaining: 2.37s\n",
      "650:\tlearn: 0.0205083\ttotal: 4.41s\tremaining: 2.37s\n",
      "651:\tlearn: 0.0204563\ttotal: 4.42s\tremaining: 2.36s\n",
      "652:\tlearn: 0.0204166\ttotal: 4.42s\tremaining: 2.35s\n",
      "653:\tlearn: 0.0203906\ttotal: 4.43s\tremaining: 2.34s\n",
      "654:\tlearn: 0.0203544\ttotal: 4.44s\tremaining: 2.34s\n",
      "655:\tlearn: 0.0203123\ttotal: 4.44s\tremaining: 2.33s\n",
      "656:\tlearn: 0.0202482\ttotal: 4.45s\tremaining: 2.32s\n",
      "657:\tlearn: 0.0202088\ttotal: 4.45s\tremaining: 2.31s\n",
      "658:\tlearn: 0.0201762\ttotal: 4.46s\tremaining: 2.31s\n",
      "659:\tlearn: 0.0201494\ttotal: 4.46s\tremaining: 2.3s\n",
      "660:\tlearn: 0.0201109\ttotal: 4.47s\tremaining: 2.29s\n",
      "661:\tlearn: 0.0200823\ttotal: 4.47s\tremaining: 2.28s\n",
      "662:\tlearn: 0.0200512\ttotal: 4.47s\tremaining: 2.27s\n",
      "663:\tlearn: 0.0200073\ttotal: 4.48s\tremaining: 2.27s\n",
      "664:\tlearn: 0.0199802\ttotal: 4.48s\tremaining: 2.26s\n",
      "665:\tlearn: 0.0199295\ttotal: 4.49s\tremaining: 2.25s\n"
     ]
    },
    {
     "name": "stdout",
     "output_type": "stream",
     "text": [
      "666:\tlearn: 0.0198991\ttotal: 4.49s\tremaining: 2.24s\n",
      "667:\tlearn: 0.0198455\ttotal: 4.5s\tremaining: 2.24s\n",
      "668:\tlearn: 0.0198194\ttotal: 4.51s\tremaining: 2.23s\n",
      "669:\tlearn: 0.0197854\ttotal: 4.51s\tremaining: 2.22s\n",
      "670:\tlearn: 0.0197269\ttotal: 4.52s\tremaining: 2.22s\n",
      "671:\tlearn: 0.0197025\ttotal: 4.52s\tremaining: 2.21s\n",
      "672:\tlearn: 0.0196607\ttotal: 4.53s\tremaining: 2.2s\n",
      "673:\tlearn: 0.0196362\ttotal: 4.53s\tremaining: 2.19s\n",
      "674:\tlearn: 0.0196045\ttotal: 4.54s\tremaining: 2.19s\n",
      "675:\tlearn: 0.0195694\ttotal: 4.54s\tremaining: 2.18s\n",
      "676:\tlearn: 0.0195256\ttotal: 4.55s\tremaining: 2.17s\n",
      "677:\tlearn: 0.0194717\ttotal: 4.55s\tremaining: 2.16s\n",
      "678:\tlearn: 0.0194498\ttotal: 4.56s\tremaining: 2.15s\n",
      "679:\tlearn: 0.0194260\ttotal: 4.57s\tremaining: 2.15s\n",
      "680:\tlearn: 0.0193898\ttotal: 4.57s\tremaining: 2.14s\n",
      "681:\tlearn: 0.0193790\ttotal: 4.58s\tremaining: 2.13s\n",
      "682:\tlearn: 0.0193557\ttotal: 4.58s\tremaining: 2.13s\n",
      "683:\tlearn: 0.0193267\ttotal: 4.58s\tremaining: 2.12s\n",
      "684:\tlearn: 0.0192842\ttotal: 4.59s\tremaining: 2.11s\n",
      "685:\tlearn: 0.0192407\ttotal: 4.59s\tremaining: 2.1s\n",
      "686:\tlearn: 0.0192058\ttotal: 4.6s\tremaining: 2.1s\n",
      "687:\tlearn: 0.0191608\ttotal: 4.61s\tremaining: 2.09s\n",
      "688:\tlearn: 0.0191415\ttotal: 4.61s\tremaining: 2.08s\n",
      "689:\tlearn: 0.0191257\ttotal: 4.62s\tremaining: 2.07s\n",
      "690:\tlearn: 0.0190801\ttotal: 4.62s\tremaining: 2.07s\n",
      "691:\tlearn: 0.0190422\ttotal: 4.63s\tremaining: 2.06s\n",
      "692:\tlearn: 0.0190122\ttotal: 4.63s\tremaining: 2.05s\n",
      "693:\tlearn: 0.0189683\ttotal: 4.64s\tremaining: 2.04s\n",
      "694:\tlearn: 0.0189470\ttotal: 4.64s\tremaining: 2.04s\n",
      "695:\tlearn: 0.0189164\ttotal: 4.65s\tremaining: 2.03s\n",
      "696:\tlearn: 0.0188773\ttotal: 4.65s\tremaining: 2.02s\n",
      "697:\tlearn: 0.0188216\ttotal: 4.66s\tremaining: 2.02s\n",
      "698:\tlearn: 0.0187904\ttotal: 4.67s\tremaining: 2.01s\n",
      "699:\tlearn: 0.0187617\ttotal: 4.67s\tremaining: 2s\n",
      "700:\tlearn: 0.0187251\ttotal: 4.68s\tremaining: 2s\n",
      "701:\tlearn: 0.0186902\ttotal: 4.69s\tremaining: 1.99s\n",
      "702:\tlearn: 0.0186547\ttotal: 4.69s\tremaining: 1.98s\n",
      "703:\tlearn: 0.0186162\ttotal: 4.7s\tremaining: 1.98s\n",
      "704:\tlearn: 0.0185667\ttotal: 4.7s\tremaining: 1.97s\n",
      "705:\tlearn: 0.0185467\ttotal: 4.71s\tremaining: 1.96s\n",
      "706:\tlearn: 0.0185164\ttotal: 4.71s\tremaining: 1.95s\n",
      "707:\tlearn: 0.0184813\ttotal: 4.72s\tremaining: 1.95s\n",
      "708:\tlearn: 0.0184650\ttotal: 4.72s\tremaining: 1.94s\n",
      "709:\tlearn: 0.0184339\ttotal: 4.73s\tremaining: 1.93s\n",
      "710:\tlearn: 0.0184024\ttotal: 4.73s\tremaining: 1.92s\n",
      "711:\tlearn: 0.0183677\ttotal: 4.74s\tremaining: 1.92s\n",
      "712:\tlearn: 0.0183479\ttotal: 4.74s\tremaining: 1.91s\n",
      "713:\tlearn: 0.0183151\ttotal: 4.75s\tremaining: 1.9s\n",
      "714:\tlearn: 0.0182879\ttotal: 4.75s\tremaining: 1.9s\n",
      "715:\tlearn: 0.0182689\ttotal: 4.76s\tremaining: 1.89s\n",
      "716:\tlearn: 0.0182328\ttotal: 4.76s\tremaining: 1.88s\n",
      "717:\tlearn: 0.0181938\ttotal: 4.77s\tremaining: 1.87s\n",
      "718:\tlearn: 0.0181631\ttotal: 4.78s\tremaining: 1.87s\n",
      "719:\tlearn: 0.0181451\ttotal: 4.78s\tremaining: 1.86s\n",
      "720:\tlearn: 0.0181242\ttotal: 4.79s\tremaining: 1.85s\n",
      "721:\tlearn: 0.0180868\ttotal: 4.79s\tremaining: 1.84s\n",
      "722:\tlearn: 0.0180723\ttotal: 4.79s\tremaining: 1.84s\n",
      "723:\tlearn: 0.0180297\ttotal: 4.8s\tremaining: 1.83s\n",
      "724:\tlearn: 0.0179885\ttotal: 4.8s\tremaining: 1.82s\n",
      "725:\tlearn: 0.0179560\ttotal: 4.81s\tremaining: 1.81s\n",
      "726:\tlearn: 0.0179366\ttotal: 4.82s\tremaining: 1.81s\n",
      "727:\tlearn: 0.0179098\ttotal: 4.82s\tremaining: 1.8s\n",
      "728:\tlearn: 0.0178621\ttotal: 4.83s\tremaining: 1.79s\n",
      "729:\tlearn: 0.0178168\ttotal: 4.83s\tremaining: 1.79s\n",
      "730:\tlearn: 0.0177991\ttotal: 4.84s\tremaining: 1.78s\n",
      "731:\tlearn: 0.0177508\ttotal: 4.84s\tremaining: 1.77s\n",
      "732:\tlearn: 0.0177173\ttotal: 4.85s\tremaining: 1.77s\n",
      "733:\tlearn: 0.0176822\ttotal: 4.86s\tremaining: 1.76s\n",
      "734:\tlearn: 0.0176534\ttotal: 4.87s\tremaining: 1.75s\n",
      "735:\tlearn: 0.0176293\ttotal: 4.88s\tremaining: 1.75s\n",
      "736:\tlearn: 0.0176035\ttotal: 4.88s\tremaining: 1.74s\n",
      "737:\tlearn: 0.0175794\ttotal: 4.88s\tremaining: 1.73s\n",
      "738:\tlearn: 0.0175585\ttotal: 4.89s\tremaining: 1.73s\n",
      "739:\tlearn: 0.0175323\ttotal: 4.9s\tremaining: 1.72s\n",
      "740:\tlearn: 0.0175149\ttotal: 4.9s\tremaining: 1.71s\n",
      "741:\tlearn: 0.0174793\ttotal: 4.91s\tremaining: 1.71s\n",
      "742:\tlearn: 0.0174445\ttotal: 4.92s\tremaining: 1.7s\n",
      "743:\tlearn: 0.0174202\ttotal: 4.92s\tremaining: 1.69s\n",
      "744:\tlearn: 0.0173905\ttotal: 4.93s\tremaining: 1.69s\n",
      "745:\tlearn: 0.0173620\ttotal: 4.93s\tremaining: 1.68s\n",
      "746:\tlearn: 0.0173216\ttotal: 4.94s\tremaining: 1.67s\n",
      "747:\tlearn: 0.0173014\ttotal: 4.94s\tremaining: 1.67s\n",
      "748:\tlearn: 0.0172700\ttotal: 4.95s\tremaining: 1.66s\n",
      "749:\tlearn: 0.0172181\ttotal: 4.95s\tremaining: 1.65s\n",
      "750:\tlearn: 0.0171945\ttotal: 4.96s\tremaining: 1.64s\n",
      "751:\tlearn: 0.0171788\ttotal: 4.96s\tremaining: 1.64s\n",
      "752:\tlearn: 0.0171453\ttotal: 4.97s\tremaining: 1.63s\n",
      "753:\tlearn: 0.0171203\ttotal: 4.97s\tremaining: 1.62s\n",
      "754:\tlearn: 0.0170926\ttotal: 4.98s\tremaining: 1.61s\n",
      "755:\tlearn: 0.0170465\ttotal: 4.98s\tremaining: 1.61s\n",
      "756:\tlearn: 0.0170191\ttotal: 4.99s\tremaining: 1.6s\n",
      "757:\tlearn: 0.0169972\ttotal: 4.99s\tremaining: 1.59s\n",
      "758:\tlearn: 0.0169767\ttotal: 5s\tremaining: 1.59s\n",
      "759:\tlearn: 0.0169418\ttotal: 5.01s\tremaining: 1.58s\n",
      "760:\tlearn: 0.0169152\ttotal: 5.01s\tremaining: 1.57s\n",
      "761:\tlearn: 0.0168787\ttotal: 5.02s\tremaining: 1.57s\n",
      "762:\tlearn: 0.0168487\ttotal: 5.03s\tremaining: 1.56s\n",
      "763:\tlearn: 0.0168328\ttotal: 5.03s\tremaining: 1.55s\n",
      "764:\tlearn: 0.0168141\ttotal: 5.04s\tremaining: 1.55s\n",
      "765:\tlearn: 0.0167941\ttotal: 5.05s\tremaining: 1.54s\n",
      "766:\tlearn: 0.0167732\ttotal: 5.05s\tremaining: 1.53s\n",
      "767:\tlearn: 0.0167428\ttotal: 5.06s\tremaining: 1.53s\n",
      "768:\tlearn: 0.0167021\ttotal: 5.06s\tremaining: 1.52s\n",
      "769:\tlearn: 0.0166608\ttotal: 5.07s\tremaining: 1.51s\n",
      "770:\tlearn: 0.0166373\ttotal: 5.07s\tremaining: 1.51s\n",
      "771:\tlearn: 0.0166078\ttotal: 5.08s\tremaining: 1.5s\n",
      "772:\tlearn: 0.0165823\ttotal: 5.08s\tremaining: 1.49s\n",
      "773:\tlearn: 0.0165540\ttotal: 5.09s\tremaining: 1.49s\n",
      "774:\tlearn: 0.0165362\ttotal: 5.09s\tremaining: 1.48s\n",
      "775:\tlearn: 0.0165136\ttotal: 5.1s\tremaining: 1.47s\n",
      "776:\tlearn: 0.0165040\ttotal: 5.1s\tremaining: 1.46s\n",
      "777:\tlearn: 0.0164711\ttotal: 5.11s\tremaining: 1.46s\n",
      "778:\tlearn: 0.0164435\ttotal: 5.12s\tremaining: 1.45s\n",
      "779:\tlearn: 0.0164100\ttotal: 5.12s\tremaining: 1.44s\n",
      "780:\tlearn: 0.0163740\ttotal: 5.13s\tremaining: 1.44s\n",
      "781:\tlearn: 0.0163581\ttotal: 5.13s\tremaining: 1.43s\n",
      "782:\tlearn: 0.0163404\ttotal: 5.13s\tremaining: 1.42s\n",
      "783:\tlearn: 0.0163268\ttotal: 5.14s\tremaining: 1.42s\n",
      "784:\tlearn: 0.0163063\ttotal: 5.14s\tremaining: 1.41s\n",
      "785:\tlearn: 0.0162823\ttotal: 5.15s\tremaining: 1.4s\n",
      "786:\tlearn: 0.0162586\ttotal: 5.16s\tremaining: 1.4s\n",
      "787:\tlearn: 0.0162442\ttotal: 5.16s\tremaining: 1.39s\n",
      "788:\tlearn: 0.0162326\ttotal: 5.17s\tremaining: 1.38s\n",
      "789:\tlearn: 0.0162159\ttotal: 5.17s\tremaining: 1.37s\n",
      "790:\tlearn: 0.0161875\ttotal: 5.18s\tremaining: 1.37s\n",
      "791:\tlearn: 0.0161639\ttotal: 5.18s\tremaining: 1.36s\n",
      "792:\tlearn: 0.0161475\ttotal: 5.19s\tremaining: 1.35s\n",
      "793:\tlearn: 0.0161308\ttotal: 5.19s\tremaining: 1.35s\n",
      "794:\tlearn: 0.0161216\ttotal: 5.21s\tremaining: 1.34s\n",
      "795:\tlearn: 0.0160902\ttotal: 5.22s\tremaining: 1.34s\n",
      "796:\tlearn: 0.0160714\ttotal: 5.23s\tremaining: 1.33s\n",
      "797:\tlearn: 0.0160448\ttotal: 5.23s\tremaining: 1.32s\n",
      "798:\tlearn: 0.0160077\ttotal: 5.24s\tremaining: 1.32s\n",
      "799:\tlearn: 0.0159802\ttotal: 5.24s\tremaining: 1.31s\n",
      "800:\tlearn: 0.0159545\ttotal: 5.25s\tremaining: 1.3s\n",
      "801:\tlearn: 0.0159410\ttotal: 5.25s\tremaining: 1.3s\n",
      "802:\tlearn: 0.0159213\ttotal: 5.26s\tremaining: 1.29s\n",
      "803:\tlearn: 0.0158953\ttotal: 5.26s\tremaining: 1.28s\n",
      "804:\tlearn: 0.0158664\ttotal: 5.27s\tremaining: 1.28s\n",
      "805:\tlearn: 0.0158522\ttotal: 5.28s\tremaining: 1.27s\n",
      "806:\tlearn: 0.0158329\ttotal: 5.28s\tremaining: 1.26s\n",
      "807:\tlearn: 0.0157996\ttotal: 5.29s\tremaining: 1.26s\n",
      "808:\tlearn: 0.0157791\ttotal: 5.29s\tremaining: 1.25s\n",
      "809:\tlearn: 0.0157539\ttotal: 5.3s\tremaining: 1.24s\n",
      "810:\tlearn: 0.0157317\ttotal: 5.3s\tremaining: 1.24s\n",
      "811:\tlearn: 0.0157205\ttotal: 5.31s\tremaining: 1.23s\n",
      "812:\tlearn: 0.0157039\ttotal: 5.31s\tremaining: 1.22s\n",
      "813:\tlearn: 0.0156882\ttotal: 5.32s\tremaining: 1.22s\n",
      "814:\tlearn: 0.0156628\ttotal: 5.36s\tremaining: 1.22s\n",
      "815:\tlearn: 0.0156439\ttotal: 5.38s\tremaining: 1.21s\n",
      "816:\tlearn: 0.0156185\ttotal: 5.39s\tremaining: 1.21s\n",
      "817:\tlearn: 0.0156047\ttotal: 5.44s\tremaining: 1.21s\n",
      "818:\tlearn: 0.0155708\ttotal: 5.45s\tremaining: 1.2s\n",
      "819:\tlearn: 0.0155500\ttotal: 5.49s\tremaining: 1.2s\n",
      "820:\tlearn: 0.0155277\ttotal: 5.5s\tremaining: 1.2s\n",
      "821:\tlearn: 0.0155054\ttotal: 5.5s\tremaining: 1.19s\n",
      "822:\tlearn: 0.0154812\ttotal: 5.51s\tremaining: 1.19s\n",
      "823:\tlearn: 0.0154600\ttotal: 5.53s\tremaining: 1.18s\n",
      "824:\tlearn: 0.0154488\ttotal: 5.54s\tremaining: 1.17s\n",
      "825:\tlearn: 0.0154305\ttotal: 5.54s\tremaining: 1.17s\n",
      "826:\tlearn: 0.0154097\ttotal: 5.55s\tremaining: 1.16s\n",
      "827:\tlearn: 0.0153978\ttotal: 5.56s\tremaining: 1.16s\n",
      "828:\tlearn: 0.0153841\ttotal: 5.57s\tremaining: 1.15s\n",
      "829:\tlearn: 0.0153457\ttotal: 5.58s\tremaining: 1.14s\n",
      "830:\tlearn: 0.0153225\ttotal: 5.59s\tremaining: 1.14s\n",
      "831:\tlearn: 0.0153044\ttotal: 5.6s\tremaining: 1.13s\n",
      "832:\tlearn: 0.0152808\ttotal: 5.61s\tremaining: 1.12s\n",
      "833:\tlearn: 0.0152618\ttotal: 5.61s\tremaining: 1.12s\n"
     ]
    },
    {
     "name": "stdout",
     "output_type": "stream",
     "text": [
      "834:\tlearn: 0.0152369\ttotal: 5.62s\tremaining: 1.11s\n",
      "835:\tlearn: 0.0152087\ttotal: 5.63s\tremaining: 1.1s\n",
      "836:\tlearn: 0.0151919\ttotal: 5.64s\tremaining: 1.1s\n",
      "837:\tlearn: 0.0151718\ttotal: 5.65s\tremaining: 1.09s\n",
      "838:\tlearn: 0.0151575\ttotal: 5.65s\tremaining: 1.08s\n",
      "839:\tlearn: 0.0151348\ttotal: 5.66s\tremaining: 1.08s\n",
      "840:\tlearn: 0.0151196\ttotal: 5.67s\tremaining: 1.07s\n",
      "841:\tlearn: 0.0150945\ttotal: 5.67s\tremaining: 1.06s\n",
      "842:\tlearn: 0.0150719\ttotal: 5.68s\tremaining: 1.06s\n",
      "843:\tlearn: 0.0150486\ttotal: 5.69s\tremaining: 1.05s\n",
      "844:\tlearn: 0.0150309\ttotal: 5.7s\tremaining: 1.04s\n",
      "845:\tlearn: 0.0150114\ttotal: 5.7s\tremaining: 1.04s\n",
      "846:\tlearn: 0.0149961\ttotal: 5.71s\tremaining: 1.03s\n",
      "847:\tlearn: 0.0149736\ttotal: 5.72s\tremaining: 1.02s\n",
      "848:\tlearn: 0.0149577\ttotal: 5.72s\tremaining: 1.02s\n",
      "849:\tlearn: 0.0149445\ttotal: 5.73s\tremaining: 1.01s\n",
      "850:\tlearn: 0.0149295\ttotal: 5.74s\tremaining: 1s\n",
      "851:\tlearn: 0.0149092\ttotal: 5.74s\tremaining: 997ms\n",
      "852:\tlearn: 0.0148876\ttotal: 5.75s\tremaining: 990ms\n",
      "853:\tlearn: 0.0148680\ttotal: 5.75s\tremaining: 983ms\n",
      "854:\tlearn: 0.0148592\ttotal: 5.75s\tremaining: 976ms\n",
      "855:\tlearn: 0.0148352\ttotal: 5.76s\tremaining: 969ms\n",
      "856:\tlearn: 0.0148078\ttotal: 5.76s\tremaining: 962ms\n",
      "857:\tlearn: 0.0147843\ttotal: 5.77s\tremaining: 955ms\n",
      "858:\tlearn: 0.0147692\ttotal: 5.78s\tremaining: 948ms\n",
      "859:\tlearn: 0.0147484\ttotal: 5.78s\tremaining: 941ms\n",
      "860:\tlearn: 0.0147408\ttotal: 5.78s\tremaining: 934ms\n",
      "861:\tlearn: 0.0147294\ttotal: 5.79s\tremaining: 927ms\n",
      "862:\tlearn: 0.0147141\ttotal: 5.79s\tremaining: 920ms\n",
      "863:\tlearn: 0.0146926\ttotal: 5.8s\tremaining: 913ms\n",
      "864:\tlearn: 0.0146767\ttotal: 5.81s\tremaining: 907ms\n",
      "865:\tlearn: 0.0146511\ttotal: 5.82s\tremaining: 900ms\n",
      "866:\tlearn: 0.0146277\ttotal: 5.82s\tremaining: 893ms\n",
      "867:\tlearn: 0.0146077\ttotal: 5.83s\tremaining: 886ms\n",
      "868:\tlearn: 0.0145951\ttotal: 5.83s\tremaining: 879ms\n",
      "869:\tlearn: 0.0145783\ttotal: 5.84s\tremaining: 872ms\n",
      "870:\tlearn: 0.0145596\ttotal: 5.84s\tremaining: 865ms\n",
      "871:\tlearn: 0.0145344\ttotal: 5.85s\tremaining: 858ms\n",
      "872:\tlearn: 0.0145173\ttotal: 5.85s\tremaining: 851ms\n",
      "873:\tlearn: 0.0144985\ttotal: 5.86s\tremaining: 845ms\n",
      "874:\tlearn: 0.0144639\ttotal: 5.86s\tremaining: 838ms\n",
      "875:\tlearn: 0.0144382\ttotal: 5.87s\tremaining: 831ms\n",
      "876:\tlearn: 0.0144199\ttotal: 5.87s\tremaining: 824ms\n",
      "877:\tlearn: 0.0144001\ttotal: 5.88s\tremaining: 817ms\n",
      "878:\tlearn: 0.0143801\ttotal: 5.88s\tremaining: 810ms\n",
      "879:\tlearn: 0.0143642\ttotal: 5.89s\tremaining: 803ms\n",
      "880:\tlearn: 0.0143488\ttotal: 5.89s\tremaining: 796ms\n",
      "881:\tlearn: 0.0143414\ttotal: 5.9s\tremaining: 789ms\n",
      "882:\tlearn: 0.0143194\ttotal: 5.91s\tremaining: 783ms\n",
      "883:\tlearn: 0.0143042\ttotal: 5.91s\tremaining: 776ms\n",
      "884:\tlearn: 0.0142926\ttotal: 5.92s\tremaining: 769ms\n",
      "885:\tlearn: 0.0142792\ttotal: 5.92s\tremaining: 762ms\n",
      "886:\tlearn: 0.0142672\ttotal: 5.93s\tremaining: 755ms\n",
      "887:\tlearn: 0.0142519\ttotal: 5.93s\tremaining: 748ms\n",
      "888:\tlearn: 0.0142248\ttotal: 5.94s\tremaining: 742ms\n",
      "889:\tlearn: 0.0142090\ttotal: 5.95s\tremaining: 735ms\n",
      "890:\tlearn: 0.0141924\ttotal: 5.95s\tremaining: 728ms\n",
      "891:\tlearn: 0.0141625\ttotal: 5.96s\tremaining: 721ms\n",
      "892:\tlearn: 0.0141504\ttotal: 5.96s\tremaining: 714ms\n",
      "893:\tlearn: 0.0141296\ttotal: 5.96s\tremaining: 707ms\n",
      "894:\tlearn: 0.0141109\ttotal: 5.97s\tremaining: 700ms\n",
      "895:\tlearn: 0.0141011\ttotal: 5.97s\tremaining: 693ms\n",
      "896:\tlearn: 0.0140818\ttotal: 5.98s\tremaining: 686ms\n",
      "897:\tlearn: 0.0140705\ttotal: 5.98s\tremaining: 679ms\n",
      "898:\tlearn: 0.0140562\ttotal: 5.99s\tremaining: 673ms\n",
      "899:\tlearn: 0.0140381\ttotal: 6s\tremaining: 666ms\n",
      "900:\tlearn: 0.0140189\ttotal: 6s\tremaining: 660ms\n",
      "901:\tlearn: 0.0140054\ttotal: 6.01s\tremaining: 653ms\n",
      "902:\tlearn: 0.0139904\ttotal: 6.02s\tremaining: 646ms\n",
      "903:\tlearn: 0.0139741\ttotal: 6.02s\tremaining: 640ms\n",
      "904:\tlearn: 0.0139624\ttotal: 6.03s\tremaining: 633ms\n",
      "905:\tlearn: 0.0139451\ttotal: 6.03s\tremaining: 626ms\n",
      "906:\tlearn: 0.0139274\ttotal: 6.04s\tremaining: 619ms\n",
      "907:\tlearn: 0.0139118\ttotal: 6.04s\tremaining: 612ms\n",
      "908:\tlearn: 0.0138930\ttotal: 6.05s\tremaining: 606ms\n",
      "909:\tlearn: 0.0138666\ttotal: 6.05s\tremaining: 599ms\n",
      "910:\tlearn: 0.0138479\ttotal: 6.06s\tremaining: 592ms\n",
      "911:\tlearn: 0.0138224\ttotal: 6.06s\tremaining: 585ms\n",
      "912:\tlearn: 0.0138050\ttotal: 6.07s\tremaining: 578ms\n",
      "913:\tlearn: 0.0137872\ttotal: 6.07s\tremaining: 571ms\n",
      "914:\tlearn: 0.0137706\ttotal: 6.08s\tremaining: 565ms\n",
      "915:\tlearn: 0.0137573\ttotal: 6.08s\tremaining: 558ms\n",
      "916:\tlearn: 0.0137393\ttotal: 6.09s\tremaining: 551ms\n",
      "917:\tlearn: 0.0137201\ttotal: 6.09s\tremaining: 544ms\n",
      "918:\tlearn: 0.0137059\ttotal: 6.1s\tremaining: 538ms\n",
      "919:\tlearn: 0.0136857\ttotal: 6.1s\tremaining: 531ms\n",
      "920:\tlearn: 0.0136730\ttotal: 6.11s\tremaining: 524ms\n",
      "921:\tlearn: 0.0136471\ttotal: 6.11s\tremaining: 517ms\n",
      "922:\tlearn: 0.0136264\ttotal: 6.12s\tremaining: 511ms\n",
      "923:\tlearn: 0.0136035\ttotal: 6.13s\tremaining: 504ms\n",
      "924:\tlearn: 0.0135871\ttotal: 6.13s\tremaining: 497ms\n",
      "925:\tlearn: 0.0135652\ttotal: 6.13s\tremaining: 490ms\n",
      "926:\tlearn: 0.0135492\ttotal: 6.14s\tremaining: 484ms\n",
      "927:\tlearn: 0.0135288\ttotal: 6.15s\tremaining: 477ms\n",
      "928:\tlearn: 0.0135063\ttotal: 6.15s\tremaining: 470ms\n",
      "929:\tlearn: 0.0134908\ttotal: 6.16s\tremaining: 463ms\n",
      "930:\tlearn: 0.0134774\ttotal: 6.16s\tremaining: 457ms\n",
      "931:\tlearn: 0.0134500\ttotal: 6.17s\tremaining: 450ms\n",
      "932:\tlearn: 0.0134397\ttotal: 6.17s\tremaining: 443ms\n",
      "933:\tlearn: 0.0134231\ttotal: 6.18s\tremaining: 437ms\n",
      "934:\tlearn: 0.0134082\ttotal: 6.19s\tremaining: 430ms\n",
      "935:\tlearn: 0.0133955\ttotal: 6.19s\tremaining: 424ms\n",
      "936:\tlearn: 0.0133786\ttotal: 6.2s\tremaining: 417ms\n",
      "937:\tlearn: 0.0133461\ttotal: 6.2s\tremaining: 410ms\n",
      "938:\tlearn: 0.0133311\ttotal: 6.21s\tremaining: 403ms\n",
      "939:\tlearn: 0.0133193\ttotal: 6.21s\tremaining: 397ms\n",
      "940:\tlearn: 0.0133004\ttotal: 6.22s\tremaining: 390ms\n",
      "941:\tlearn: 0.0132871\ttotal: 6.22s\tremaining: 383ms\n",
      "942:\tlearn: 0.0132684\ttotal: 6.23s\tremaining: 377ms\n",
      "943:\tlearn: 0.0132550\ttotal: 6.24s\tremaining: 370ms\n",
      "944:\tlearn: 0.0132431\ttotal: 6.24s\tremaining: 363ms\n",
      "945:\tlearn: 0.0132116\ttotal: 6.25s\tremaining: 357ms\n",
      "946:\tlearn: 0.0131980\ttotal: 6.25s\tremaining: 350ms\n",
      "947:\tlearn: 0.0131809\ttotal: 6.26s\tremaining: 343ms\n",
      "948:\tlearn: 0.0131621\ttotal: 6.26s\tremaining: 337ms\n",
      "949:\tlearn: 0.0131490\ttotal: 6.27s\tremaining: 330ms\n",
      "950:\tlearn: 0.0131332\ttotal: 6.27s\tremaining: 323ms\n",
      "951:\tlearn: 0.0131175\ttotal: 6.28s\tremaining: 317ms\n",
      "952:\tlearn: 0.0131032\ttotal: 6.29s\tremaining: 310ms\n",
      "953:\tlearn: 0.0130898\ttotal: 6.29s\tremaining: 303ms\n",
      "954:\tlearn: 0.0130699\ttotal: 6.29s\tremaining: 297ms\n",
      "955:\tlearn: 0.0130473\ttotal: 6.3s\tremaining: 290ms\n",
      "956:\tlearn: 0.0130350\ttotal: 6.31s\tremaining: 283ms\n",
      "957:\tlearn: 0.0130268\ttotal: 6.31s\tremaining: 277ms\n",
      "958:\tlearn: 0.0130073\ttotal: 6.32s\tremaining: 270ms\n",
      "959:\tlearn: 0.0129945\ttotal: 6.33s\tremaining: 264ms\n",
      "960:\tlearn: 0.0129856\ttotal: 6.33s\tremaining: 257ms\n",
      "961:\tlearn: 0.0129679\ttotal: 6.34s\tremaining: 250ms\n",
      "962:\tlearn: 0.0129500\ttotal: 6.35s\tremaining: 244ms\n",
      "963:\tlearn: 0.0129360\ttotal: 6.35s\tremaining: 237ms\n",
      "964:\tlearn: 0.0129232\ttotal: 6.36s\tremaining: 231ms\n",
      "965:\tlearn: 0.0129121\ttotal: 6.36s\tremaining: 224ms\n",
      "966:\tlearn: 0.0128925\ttotal: 6.38s\tremaining: 218ms\n",
      "967:\tlearn: 0.0128824\ttotal: 6.41s\tremaining: 212ms\n",
      "968:\tlearn: 0.0128637\ttotal: 6.43s\tremaining: 206ms\n",
      "969:\tlearn: 0.0128504\ttotal: 6.44s\tremaining: 199ms\n",
      "970:\tlearn: 0.0128324\ttotal: 6.45s\tremaining: 193ms\n",
      "971:\tlearn: 0.0128099\ttotal: 6.46s\tremaining: 186ms\n",
      "972:\tlearn: 0.0127978\ttotal: 6.47s\tremaining: 180ms\n",
      "973:\tlearn: 0.0127836\ttotal: 6.49s\tremaining: 173ms\n",
      "974:\tlearn: 0.0127597\ttotal: 6.49s\tremaining: 167ms\n",
      "975:\tlearn: 0.0127438\ttotal: 6.5s\tremaining: 160ms\n",
      "976:\tlearn: 0.0127257\ttotal: 6.51s\tremaining: 153ms\n",
      "977:\tlearn: 0.0127073\ttotal: 6.54s\tremaining: 147ms\n",
      "978:\tlearn: 0.0126963\ttotal: 6.55s\tremaining: 141ms\n",
      "979:\tlearn: 0.0126859\ttotal: 6.56s\tremaining: 134ms\n",
      "980:\tlearn: 0.0126615\ttotal: 6.57s\tremaining: 127ms\n",
      "981:\tlearn: 0.0126396\ttotal: 6.58s\tremaining: 121ms\n",
      "982:\tlearn: 0.0126309\ttotal: 6.58s\tremaining: 114ms\n",
      "983:\tlearn: 0.0126141\ttotal: 6.6s\tremaining: 107ms\n",
      "984:\tlearn: 0.0125983\ttotal: 6.6s\tremaining: 101ms\n",
      "985:\tlearn: 0.0125869\ttotal: 6.61s\tremaining: 93.9ms\n",
      "986:\tlearn: 0.0125777\ttotal: 6.62s\tremaining: 87.2ms\n",
      "987:\tlearn: 0.0125619\ttotal: 6.63s\tremaining: 80.5ms\n",
      "988:\tlearn: 0.0125471\ttotal: 6.64s\tremaining: 73.8ms\n",
      "989:\tlearn: 0.0125313\ttotal: 6.65s\tremaining: 67.1ms\n",
      "990:\tlearn: 0.0125231\ttotal: 6.66s\tremaining: 60.4ms\n",
      "991:\tlearn: 0.0125061\ttotal: 6.66s\tremaining: 53.7ms\n",
      "992:\tlearn: 0.0124852\ttotal: 6.67s\tremaining: 47ms\n",
      "993:\tlearn: 0.0124607\ttotal: 6.68s\tremaining: 40.3ms\n",
      "994:\tlearn: 0.0124483\ttotal: 6.69s\tremaining: 33.6ms\n"
     ]
    },
    {
     "name": "stdout",
     "output_type": "stream",
     "text": [
      "995:\tlearn: 0.0124353\ttotal: 6.69s\tremaining: 26.9ms\n",
      "996:\tlearn: 0.0124193\ttotal: 6.7s\tremaining: 20.2ms\n",
      "997:\tlearn: 0.0124082\ttotal: 6.71s\tremaining: 13.5ms\n",
      "998:\tlearn: 0.0123927\ttotal: 6.72s\tremaining: 6.73ms\n",
      "999:\tlearn: 0.0123826\ttotal: 6.73s\tremaining: 0us\n"
     ]
    },
    {
     "data": {
      "text/plain": [
       "0.8533333333333334"
      ]
     },
     "execution_count": 139,
     "metadata": {},
     "output_type": "execute_result"
    }
   ],
   "source": [
    "cb = CatBoostClassifier()\n",
    "cb.fit(xtrain, ytrain)\n",
    "cb.score(xtest, ytest)"
   ]
  },
  {
   "cell_type": "markdown",
   "metadata": {},
   "source": [
    "##### Model No 5: Gradient Boosting Classifier"
   ]
  },
  {
   "cell_type": "code",
   "execution_count": 140,
   "metadata": {},
   "outputs": [
    {
     "data": {
      "text/plain": [
       "0.84"
      ]
     },
     "execution_count": 140,
     "metadata": {},
     "output_type": "execute_result"
    }
   ],
   "source": [
    "gbmc = GradientBoostingClassifier()\n",
    "gbmc.fit(xtrain,ytrain)\n",
    "gbmc.score(xtest, ytest)"
   ]
  },
  {
   "cell_type": "markdown",
   "metadata": {},
   "source": [
    "##### Model No 6: Random Forest Classifier"
   ]
  },
  {
   "cell_type": "code",
   "execution_count": 141,
   "metadata": {},
   "outputs": [
    {
     "data": {
      "text/plain": [
       "0.88"
      ]
     },
     "execution_count": 141,
     "metadata": {},
     "output_type": "execute_result"
    }
   ],
   "source": [
    "rf  = RandomForestClassifier(random_state=42)\n",
    "rf.fit(xtrain, ytrain)\n",
    "rf.score(xtest, ytest)"
   ]
  },
  {
   "cell_type": "markdown",
   "metadata": {},
   "source": [
    "##### Model No 7: KNeighbors Classifier"
   ]
  },
  {
   "cell_type": "code",
   "execution_count": 142,
   "metadata": {},
   "outputs": [
    {
     "data": {
      "text/plain": [
       "0.8266666666666667"
      ]
     },
     "execution_count": 142,
     "metadata": {},
     "output_type": "execute_result"
    }
   ],
   "source": [
    "knc = KNeighborsClassifier()\n",
    "knc.fit(xtrain, ytrain)\n",
    "knc.score(xtest, ytest)\n"
   ]
  },
  {
   "cell_type": "code",
   "execution_count": 143,
   "metadata": {},
   "outputs": [
    {
     "name": "stderr",
     "output_type": "stream",
     "text": [
      "C:\\Users\\25678\\anaconda3\\lib\\site-packages\\xgboost\\data.py:112: UserWarning: Use subset (sliced data) of np.ndarray is not recommended because it will generate extra copies and increase memory consumption\n",
      "  warnings.warn(\n",
      "C:\\Users\\25678\\anaconda3\\lib\\site-packages\\xgboost\\data.py:112: UserWarning: Use subset (sliced data) of np.ndarray is not recommended because it will generate extra copies and increase memory consumption\n",
      "  warnings.warn(\n",
      "C:\\Users\\25678\\anaconda3\\lib\\site-packages\\xgboost\\data.py:112: UserWarning: Use subset (sliced data) of np.ndarray is not recommended because it will generate extra copies and increase memory consumption\n",
      "  warnings.warn(\n",
      "C:\\Users\\25678\\anaconda3\\lib\\site-packages\\xgboost\\data.py:112: UserWarning: Use subset (sliced data) of np.ndarray is not recommended because it will generate extra copies and increase memory consumption\n",
      "  warnings.warn(\n"
     ]
    },
    {
     "name": "stdout",
     "output_type": "stream",
     "text": [
      "----------------------------\n",
      "XGBClassifier: \n",
      "Accuracy: 0.853\n",
      "Precision: 0.797\n",
      "Recall: 0.706\n",
      "f1_score: 0.703\n",
      "----------------------------\n",
      "LGBMClassifier: \n",
      "Accuracy: 0.853\n",
      "Precision: 0.796\n",
      "Recall: 0.706\n",
      "f1_score: 0.703\n",
      "----------------------------\n",
      "LogisticRegression: \n",
      "Accuracy: 0.867\n",
      "Precision: 0.912\n",
      "Recall: 0.717\n",
      "f1_score: 0.717\n",
      "----------------------------\n",
      "CatBoostClassifier: \n",
      "Accuracy: 0.853\n",
      "Precision: 0.781\n",
      "Recall: 0.726\n",
      "f1_score: 0.732\n",
      "----------------------------\n",
      "GradientBoostingClassifier: \n",
      "Accuracy: 0.84\n",
      "Precision: 0.74\n",
      "Recall: 0.696\n",
      "f1_score: 0.691\n",
      "----------------------------\n",
      "RandomForestClassifier: \n",
      "Accuracy: 0.88\n",
      "Precision: 0.917\n",
      "Recall: 0.747\n",
      "f1_score: 0.761\n",
      "----------------------------\n",
      "KNeighborsClassifier: \n",
      "Accuracy: 0.827\n",
      "Precision: 0.711\n",
      "Recall: 0.686\n",
      "f1_score: 0.681\n"
     ]
    }
   ],
   "source": [
    "models = [xgboost, lightgbm, lr, cb, gbmc, rf, knc]\n",
    "r = pd.DataFrame(columns=[\"MODELS\",\"ACC\",\"PRECISION\", \"RECALL\", 'F1_SCORE'])\n",
    "\n",
    "for model in models:\n",
    "    name = model.__class__.__name__\n",
    "    #predict = model.predict(X_test)\n",
    "    accuracy = round(model.score(xtest, ytest),3)\n",
    "    precision = round(precision_score(ytest, model.predict(xtest), average='macro', zero_division=0),3)\n",
    "    recall = round(recall_score(ytest, model.predict(xtest), average='macro', zero_division=0),3)\n",
    "    f1_scores = round(f1_score(ytest, model.predict(xtest), average='macro', zero_division=0),3)\n",
    "    print(\"-\" * 28)\n",
    "    print(name + \": \")\n",
    "    print(f\"Accuracy: {accuracy}\")\n",
    "    print(f\"Precision: {precision}\")\n",
    "    print(f\"Recall: {recall}\")\n",
    "    print(f\"f1_score: {f1_scores}\")\n",
    "    result = pd.DataFrame([[name,accuracy*100, precision*100, recall*100, f1_scores*100]],columns=[\"MODELS\",\"ACC\",\"PRECISION\",\"RECALL\", \"F1_SCORE\"])\n",
    "    r = r.append(result)\n"
   ]
  },
  {
   "cell_type": "code",
   "execution_count": 144,
   "metadata": {},
   "outputs": [
    {
     "data": {
      "text/plain": [
       "Text(0.5, 1.0, 'MODEL ACCURACY COMPARISON')"
      ]
     },
     "execution_count": 144,
     "metadata": {},
     "output_type": "execute_result"
    },
    {
     "data": {
      "image/png": "[encoded data removed]",
      "text/plain": [
       "<Figure size 576x432 with 1 Axes>"
      ]
     },
     "metadata": {
      "needs_background": "light"
     },
     "output_type": "display_data"
    }
   ],
   "source": [
    "plt.figure(figsize=(8,6))\n",
    "sns.barplot(x=\"ACC\",y=\"MODELS\",data=r)\n",
    "plt.xlabel(\"ACCURACY\")\n",
    "plt.title(\"MODEL ACCURACY COMPARISON\")"
   ]
  },
  {
   "cell_type": "markdown",
   "metadata": {},
   "source": [
    "### Deep Learning"
   ]
  },
  {
   "cell_type": "markdown",
   "metadata": {},
   "source": [
    "#### create model"
   ]
  },
  {
   "cell_type": "code",
   "execution_count": 145,
   "metadata": {},
   "outputs": [
    {
     "name": "stdout",
     "output_type": "stream",
     "text": [
      "Model: \"sequential_2\"\n",
      "_________________________________________________________________\n",
      "Layer (type)                 Output Shape              Param #   \n",
      "=================================================================\n",
      "dense_14 (Dense)             (None, 16)                160       \n",
      "_________________________________________________________________\n",
      "dense_15 (Dense)             (None, 32)                544       \n",
      "_________________________________________________________________\n",
      "dense_16 (Dense)             (None, 64)                2112      \n",
      "_________________________________________________________________\n",
      "dense_17 (Dense)             (None, 128)               8320      \n",
      "_________________________________________________________________\n",
      "dense_18 (Dense)             (None, 32)                4128      \n",
      "_________________________________________________________________\n",
      "dense_19 (Dense)             (None, 16)                528       \n",
      "_________________________________________________________________\n",
      "dense_20 (Dense)             (None, 3)                 51        \n",
      "=================================================================\n",
      "Total params: 15,843\n",
      "Trainable params: 15,843\n",
      "Non-trainable params: 0\n",
      "_________________________________________________________________\n"
     ]
    }
   ],
   "source": [
    "model = Sequential()\n",
    "model.add(Dense(16, input_dim=X.shape[1], activation='relu'))\n",
    "model.add(Dense(32, activation='relu'))\n",
    "model.add(Dense(64, activation='relu'))\n",
    "model.add(Dense(128, activation='relu'))\n",
    "model.add(Dense(32, activation='relu'))\n",
    "model.add(Dense(16, activation='relu'))\n",
    "model.add(Dense(3, activation='softmax'))\n",
    "\n",
    "model.summary()"
   ]
  },
  {
   "cell_type": "markdown",
   "metadata": {},
   "source": [
    "#### compile model"
   ]
  },
  {
   "cell_type": "code",
   "execution_count": 146,
   "metadata": {},
   "outputs": [],
   "source": [
    "model.compile(loss=\"categorical_crossentropy\", optimizer=\"adam\", metrics=['accuracy'])"
   ]
  },
  {
   "cell_type": "code",
   "execution_count": 147,
   "metadata": {},
   "outputs": [
    {
     "data": {
      "text/plain": [
       "((298,), (298, 9))"
      ]
     },
     "execution_count": 147,
     "metadata": {},
     "output_type": "execute_result"
    }
   ],
   "source": [
    "ytrain.shape, xtrain.shape"
   ]
  },
  {
   "cell_type": "code",
   "execution_count": 148,
   "metadata": {},
   "outputs": [
    {
     "data": {
      "text/plain": [
       "(373,)"
      ]
     },
     "execution_count": 148,
     "metadata": {},
     "output_type": "execute_result"
    }
   ],
   "source": [
    "y.shape"
   ]
  },
  {
   "cell_type": "code",
   "execution_count": 149,
   "metadata": {},
   "outputs": [
    {
     "data": {
      "text/html": [
       "<div>\n",
       "<style scoped>\n",
       "    .dataframe tbody tr th:only-of-type {\n",
       "        vertical-align: middle;\n",
       "    }\n",
       "\n",
       "    .dataframe tbody tr th {\n",
       "        vertical-align: top;\n",
       "    }\n",
       "\n",
       "    .dataframe thead th {\n",
       "        text-align: right;\n",
       "    }\n",
       "</style>\n",
       "<table border=\"1\" class=\"dataframe\">\n",
       "  <thead>\n",
       "    <tr style=\"text-align: right;\">\n",
       "      <th></th>\n",
       "      <th>Converted</th>\n",
       "      <th>Demented</th>\n",
       "      <th>Nondemented</th>\n",
       "    </tr>\n",
       "  </thead>\n",
       "  <tbody>\n",
       "    <tr>\n",
       "      <th>0</th>\n",
       "      <td>0</td>\n",
       "      <td>0</td>\n",
       "      <td>1</td>\n",
       "    </tr>\n",
       "    <tr>\n",
       "      <th>1</th>\n",
       "      <td>0</td>\n",
       "      <td>0</td>\n",
       "      <td>1</td>\n",
       "    </tr>\n",
       "    <tr>\n",
       "      <th>2</th>\n",
       "      <td>0</td>\n",
       "      <td>1</td>\n",
       "      <td>0</td>\n",
       "    </tr>\n",
       "    <tr>\n",
       "      <th>3</th>\n",
       "      <td>0</td>\n",
       "      <td>1</td>\n",
       "      <td>0</td>\n",
       "    </tr>\n",
       "    <tr>\n",
       "      <th>4</th>\n",
       "      <td>0</td>\n",
       "      <td>1</td>\n",
       "      <td>0</td>\n",
       "    </tr>\n",
       "    <tr>\n",
       "      <th>...</th>\n",
       "      <td>...</td>\n",
       "      <td>...</td>\n",
       "      <td>...</td>\n",
       "    </tr>\n",
       "    <tr>\n",
       "      <th>368</th>\n",
       "      <td>0</td>\n",
       "      <td>1</td>\n",
       "      <td>0</td>\n",
       "    </tr>\n",
       "    <tr>\n",
       "      <th>369</th>\n",
       "      <td>0</td>\n",
       "      <td>1</td>\n",
       "      <td>0</td>\n",
       "    </tr>\n",
       "    <tr>\n",
       "      <th>370</th>\n",
       "      <td>0</td>\n",
       "      <td>0</td>\n",
       "      <td>1</td>\n",
       "    </tr>\n",
       "    <tr>\n",
       "      <th>371</th>\n",
       "      <td>0</td>\n",
       "      <td>0</td>\n",
       "      <td>1</td>\n",
       "    </tr>\n",
       "    <tr>\n",
       "      <th>372</th>\n",
       "      <td>0</td>\n",
       "      <td>0</td>\n",
       "      <td>1</td>\n",
       "    </tr>\n",
       "  </tbody>\n",
       "</table>\n",
       "<p>373 rows × 3 columns</p>\n",
       "</div>"
      ],
      "text/plain": [
       "     Converted  Demented  Nondemented\n",
       "0            0         0            1\n",
       "1            0         0            1\n",
       "2            0         1            0\n",
       "3            0         1            0\n",
       "4            0         1            0\n",
       "..         ...       ...          ...\n",
       "368          0         1            0\n",
       "369          0         1            0\n",
       "370          0         0            1\n",
       "371          0         0            1\n",
       "372          0         0            1\n",
       "\n",
       "[373 rows x 3 columns]"
      ]
     },
     "execution_count": 149,
     "metadata": {},
     "output_type": "execute_result"
    }
   ],
   "source": [
    "new_y  = pd.get_dummies(y)\n",
    "new_y"
   ]
  },
  {
   "cell_type": "code",
   "execution_count": 150,
   "metadata": {},
   "outputs": [
    {
     "data": {
      "text/plain": [
       "(373, 3)"
      ]
     },
     "execution_count": 150,
     "metadata": {},
     "output_type": "execute_result"
    }
   ],
   "source": [
    "new_y.shape"
   ]
  },
  {
   "cell_type": "code",
   "execution_count": 151,
   "metadata": {},
   "outputs": [],
   "source": [
    "# splitting the data again into train and test data\n",
    "new_xtrain, new_xtest, new_ytrain, new_ytest = train_test_split(X,new_y,test_size=0.2,random_state=42)\n",
    "\n",
    "# standardize data\n",
    "from sklearn.preprocessing import StandardScaler\n",
    "sc = StandardScaler()\n",
    "new_xtrain = sc.fit_transform(new_xtrain)\n",
    "new_xtest = sc.transform (new_xtest)"
   ]
  },
  {
   "cell_type": "markdown",
   "metadata": {},
   "source": [
    "#### Train the model"
   ]
  },
  {
   "cell_type": "code",
   "execution_count": 152,
   "metadata": {
    "scrolled": false
   },
   "outputs": [
    {
     "name": "stdout",
     "output_type": "stream",
     "text": [
      "Epoch 1/10\n",
      "19/19 [==============================] - 0s 24ms/step - loss: 0.9653 - accuracy: 0.4463 - val_loss: 0.9109 - val_accuracy: 0.4400\n",
      "Epoch 2/10\n",
      "19/19 [==============================] - 0s 3ms/step - loss: 0.7987 - accuracy: 0.7315 - val_loss: 0.7945 - val_accuracy: 0.7200\n",
      "Epoch 3/10\n",
      "19/19 [==============================] - 0s 3ms/step - loss: 0.6830 - accuracy: 0.8188 - val_loss: 0.7064 - val_accuracy: 0.7600\n",
      "Epoch 4/10\n",
      "19/19 [==============================] - 0s 3ms/step - loss: 0.5114 - accuracy: 0.8557 - val_loss: 0.6993 - val_accuracy: 0.6933\n",
      "Epoch 5/10\n",
      "19/19 [==============================] - 0s 3ms/step - loss: 0.4044 - accuracy: 0.8624 - val_loss: 0.5739 - val_accuracy: 0.8267\n",
      "Epoch 6/10\n",
      "19/19 [==============================] - 0s 3ms/step - loss: 0.3192 - accuracy: 0.8993 - val_loss: 0.5725 - val_accuracy: 0.8400\n",
      "Epoch 7/10\n",
      "19/19 [==============================] - 0s 4ms/step - loss: 0.2725 - accuracy: 0.9262 - val_loss: 0.5553 - val_accuracy: 0.8400\n",
      "Epoch 8/10\n",
      "19/19 [==============================] - 0s 4ms/step - loss: 0.2494 - accuracy: 0.9195 - val_loss: 0.6207 - val_accuracy: 0.8400\n",
      "Epoch 9/10\n",
      "19/19 [==============================] - 0s 4ms/step - loss: 0.2276 - accuracy: 0.9329 - val_loss: 0.5369 - val_accuracy: 0.8133\n",
      "Epoch 10/10\n",
      "19/19 [==============================] - 0s 3ms/step - loss: 0.2065 - accuracy: 0.9430 - val_loss: 0.5530 - val_accuracy: 0.8400\n"
     ]
    }
   ],
   "source": [
    "history = model.fit(new_xtrain, new_ytrain, epochs = 10, batch_size=16, validation_data=(new_xtest, new_ytest))\n",
    "model.save('model.h5')\n"
   ]
  },
  {
   "cell_type": "code",
   "execution_count": 153,
   "metadata": {},
   "outputs": [
    {
     "name": "stdout",
     "output_type": "stream",
     "text": [
      "3/3 [==============================] - 0s 2ms/step - loss: 0.5530 - accuracy: 0.8400\n"
     ]
    },
    {
     "data": {
      "text/plain": [
       "[0.5530458092689514, 0.8399999737739563]"
      ]
     },
     "execution_count": 153,
     "metadata": {},
     "output_type": "execute_result"
    }
   ],
   "source": [
    "model.evaluate(new_xtest,new_ytest)"
   ]
  },
  {
   "cell_type": "code",
   "execution_count": 154,
   "metadata": {},
   "outputs": [
    {
     "data": {
      "image/png": "[encoded data removed]",
      "text/plain": [
       "<Figure size 432x288 with 1 Axes>"
      ]
     },
     "metadata": {
      "needs_background": "light"
     },
     "output_type": "display_data"
    }
   ],
   "source": [
    "plt.plot(history.history['loss'])\n",
    "plt.plot(history.history['val_loss'])\n",
    "plt.title('Model Performance')\n",
    "plt.xlabel('epoch')\n",
    "plt.ylabel('Loss')\n",
    "plt.legend(['Training Loss','Validation Loss'])\n",
    "plt.show()"
   ]
  },
  {
   "cell_type": "code",
   "execution_count": 155,
   "metadata": {},
   "outputs": [
    {
     "data": {
      "image/png": "[encoded data removed]",
      "text/plain": [
       "<Figure size 432x288 with 1 Axes>"
      ]
     },
     "metadata": {
      "needs_background": "light"
     },
     "output_type": "display_data"
    }
   ],
   "source": [
    "plt.plot(history.history['accuracy'])\n",
    "plt.plot(history.history['val_accuracy'])\n",
    "plt.title('Model Accuracy')\n",
    "plt.xlabel('epoch')\n",
    "plt.ylabel('Accuracy')\n",
    "plt.legend(['Training Accuracy','Validation Accuracy'])\n",
    "plt.show()"
   ]
  },
  {
   "cell_type": "code",
   "execution_count": 156,
   "metadata": {},
   "outputs": [
    {
     "data": {
      "text/plain": [
       "array([[6.0729530e-02, 9.3916482e-01, 1.0572291e-04],\n",
       "       [9.2794344e-02, 6.8854401e-03, 9.0032029e-01],\n",
       "       [2.4294016e-01, 5.5711281e-01, 1.9994704e-01],\n",
       "       [2.6354803e-02, 7.8737817e-04, 9.7285789e-01],\n",
       "       [6.8127982e-02, 4.5994441e-03, 9.2727250e-01]], dtype=float32)"
      ]
     },
     "execution_count": 156,
     "metadata": {},
     "output_type": "execute_result"
    }
   ],
   "source": [
    "test = xtest[:5]\n",
    "preds = model.predict(test)\n",
    "preds\n",
    "\n",
    "# final_pred = class_names[np.argmax(a)]\n",
    "# final_pred\n"
   ]
  },
  {
   "cell_type": "code",
   "execution_count": 157,
   "metadata": {},
   "outputs": [
    {
     "name": "stdout",
     "output_type": "stream",
     "text": [
      "Health status:  Nondemented\n"
     ]
    }
   ],
   "source": [
    "preds[1]\n",
    "class_names = ['Converted','Demented','Nondemented']\n",
    "final_pred = class_names[np.argmax(preds[1])]\n",
    "print('Health status: ',final_pred)"
   ]
  },
  {
   "cell_type": "code",
   "execution_count": null,
   "metadata": {},
   "outputs": [],
   "source": []
  },
  {
   "cell_type": "code",
   "execution_count": null,
   "metadata": {},
   "outputs": [],
   "source": []
  },
  {
   "cell_type": "code",
   "execution_count": null,
   "metadata": {},
   "outputs": [],
   "source": []
  },
  {
   "cell_type": "code",
   "execution_count": null,
   "metadata": {},
   "outputs": [],
   "source": []
  },
  {
   "cell_type": "code",
   "execution_count": null,
   "metadata": {},
   "outputs": [],
   "source": []
  },
  {
   "cell_type": "code",
   "execution_count": null,
   "metadata": {},
   "outputs": [],
   "source": []
  },
  {
   "cell_type": "code",
   "execution_count": null,
   "metadata": {},
   "outputs": [],
   "source": []
  },
  {
   "cell_type": "code",
   "execution_count": null,
   "metadata": {},
   "outputs": [],
   "source": []
  },
  {
   "cell_type": "code",
   "execution_count": null,
   "metadata": {},
   "outputs": [],
   "source": []
  },
  {
   "cell_type": "code",
   "execution_count": null,
   "metadata": {},
   "outputs": [],
   "source": []
  },
  {
   "cell_type": "code",
   "execution_count": 158,
   "metadata": {},
   "outputs": [],
   "source": [
    "# https://www.youtube.com/watch?v=2WdPdE2hq78"
   ]
  },
  {
   "cell_type": "code",
   "execution_count": 159,
   "metadata": {},
   "outputs": [],
   "source": [
    "# #saving the model\n",
    "# import pickle\n",
    "# # Save the trained model as a pickle string.\n",
    "# saved_model = pickle.dumps(model)\n",
    " \n",
    "# # Load the pickled model\n",
    "# model_from_pickle = pickle.loads(saved_model)\n",
    " \n",
    "# # Use the loaded pickled model to make predictions\n",
    "# # knn_from_pickle.predict(X_test)"
   ]
  },
  {
   "cell_type": "code",
   "execution_count": null,
   "metadata": {},
   "outputs": [],
   "source": []
  }
 ],
 "metadata": {
  "kernelspec": {
   "display_name": "Python 3",
   "language": "python",
   "name": "python3"
  },
  "language_info": {
   "codemirror_mode": {
    "name": "ipython",
    "version": 3
   },
   "file_extension": ".py",
   "mimetype": "text/x-python",
   "name": "python",
   "nbconvert_exporter": "python",
   "pygments_lexer": "ipython3",
   "version": "3.8.8"
  }
 },
 "nbformat": 4,
 "nbformat_minor": 4
}
